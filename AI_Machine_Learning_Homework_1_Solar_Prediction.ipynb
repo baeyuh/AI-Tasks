{
  "nbformat": 4,
  "nbformat_minor": 0,
  "metadata": {
    "colab": {
      "name": "AI Machine Learning: Homework 1_Solar Prediction.ipynb",
      "provenance": [],
      "collapsed_sections": [],
      "authorship_tag": "ABX9TyMnIGeJ0UHPXL7BR9ufQH0P"
    },
    "kernelspec": {
      "name": "python3",
      "display_name": "Python 3"
    },
    "language_info": {
      "name": "python"
    }
  },
  "cells": [
    {
      "cell_type": "code",
      "metadata": {
        "colab": {
          "base_uri": "https://localhost:8080/"
        },
        "id": "XaiVps4Pm-Ce",
        "outputId": "9c7b55a1-c8f2-4ae5-c438-f6841f76286a"
      },
      "source": [
        "!pip install mglearn"
      ],
      "execution_count": 2,
      "outputs": [
        {
          "output_type": "stream",
          "text": [
            "Collecting mglearn\n",
            "\u001b[?25l  Downloading https://files.pythonhosted.org/packages/65/38/8aced26fce0b2ae82c3c87cd3b6105f38ca6d9d51704ecc44aa54473e6b9/mglearn-0.1.9.tar.gz (540kB)\n",
            "\r\u001b[K     |▋                               | 10kB 13.9MB/s eta 0:00:01\r\u001b[K     |█▏                              | 20kB 19.3MB/s eta 0:00:01\r\u001b[K     |█▉                              | 30kB 23.9MB/s eta 0:00:01\r\u001b[K     |██▍                             | 40kB 21.7MB/s eta 0:00:01\r\u001b[K     |███                             | 51kB 14.1MB/s eta 0:00:01\r\u001b[K     |███▋                            | 61kB 15.4MB/s eta 0:00:01\r\u001b[K     |████▎                           | 71kB 14.0MB/s eta 0:00:01\r\u001b[K     |████▉                           | 81kB 14.0MB/s eta 0:00:01\r\u001b[K     |█████▌                          | 92kB 14.1MB/s eta 0:00:01\r\u001b[K     |██████                          | 102kB 14.0MB/s eta 0:00:01\r\u001b[K     |██████▊                         | 112kB 14.0MB/s eta 0:00:01\r\u001b[K     |███████▎                        | 122kB 14.0MB/s eta 0:00:01\r\u001b[K     |███████▉                        | 133kB 14.0MB/s eta 0:00:01\r\u001b[K     |████████▌                       | 143kB 14.0MB/s eta 0:00:01\r\u001b[K     |█████████                       | 153kB 14.0MB/s eta 0:00:01\r\u001b[K     |█████████▊                      | 163kB 14.0MB/s eta 0:00:01\r\u001b[K     |██████████▎                     | 174kB 14.0MB/s eta 0:00:01\r\u001b[K     |███████████                     | 184kB 14.0MB/s eta 0:00:01\r\u001b[K     |███████████▌                    | 194kB 14.0MB/s eta 0:00:01\r\u001b[K     |████████████▏                   | 204kB 14.0MB/s eta 0:00:01\r\u001b[K     |████████████▊                   | 215kB 14.0MB/s eta 0:00:01\r\u001b[K     |█████████████▍                  | 225kB 14.0MB/s eta 0:00:01\r\u001b[K     |██████████████                  | 235kB 14.0MB/s eta 0:00:01\r\u001b[K     |██████████████▋                 | 245kB 14.0MB/s eta 0:00:01\r\u001b[K     |███████████████▏                | 256kB 14.0MB/s eta 0:00:01\r\u001b[K     |███████████████▊                | 266kB 14.0MB/s eta 0:00:01\r\u001b[K     |████████████████▍               | 276kB 14.0MB/s eta 0:00:01\r\u001b[K     |█████████████████               | 286kB 14.0MB/s eta 0:00:01\r\u001b[K     |█████████████████▋              | 296kB 14.0MB/s eta 0:00:01\r\u001b[K     |██████████████████▏             | 307kB 14.0MB/s eta 0:00:01\r\u001b[K     |██████████████████▉             | 317kB 14.0MB/s eta 0:00:01\r\u001b[K     |███████████████████▍            | 327kB 14.0MB/s eta 0:00:01\r\u001b[K     |████████████████████            | 337kB 14.0MB/s eta 0:00:01\r\u001b[K     |████████████████████▋           | 348kB 14.0MB/s eta 0:00:01\r\u001b[K     |█████████████████████▎          | 358kB 14.0MB/s eta 0:00:01\r\u001b[K     |█████████████████████▉          | 368kB 14.0MB/s eta 0:00:01\r\u001b[K     |██████████████████████▌         | 378kB 14.0MB/s eta 0:00:01\r\u001b[K     |███████████████████████         | 389kB 14.0MB/s eta 0:00:01\r\u001b[K     |███████████████████████▋        | 399kB 14.0MB/s eta 0:00:01\r\u001b[K     |████████████████████████▎       | 409kB 14.0MB/s eta 0:00:01\r\u001b[K     |████████████████████████▉       | 419kB 14.0MB/s eta 0:00:01\r\u001b[K     |█████████████████████████▌      | 430kB 14.0MB/s eta 0:00:01\r\u001b[K     |██████████████████████████      | 440kB 14.0MB/s eta 0:00:01\r\u001b[K     |██████████████████████████▊     | 450kB 14.0MB/s eta 0:00:01\r\u001b[K     |███████████████████████████▎    | 460kB 14.0MB/s eta 0:00:01\r\u001b[K     |████████████████████████████    | 471kB 14.0MB/s eta 0:00:01\r\u001b[K     |████████████████████████████▌   | 481kB 14.0MB/s eta 0:00:01\r\u001b[K     |█████████████████████████████▏  | 491kB 14.0MB/s eta 0:00:01\r\u001b[K     |█████████████████████████████▊  | 501kB 14.0MB/s eta 0:00:01\r\u001b[K     |██████████████████████████████▍ | 512kB 14.0MB/s eta 0:00:01\r\u001b[K     |███████████████████████████████ | 522kB 14.0MB/s eta 0:00:01\r\u001b[K     |███████████████████████████████▌| 532kB 14.0MB/s eta 0:00:01\r\u001b[K     |████████████████████████████████| 542kB 14.0MB/s \n",
            "\u001b[?25hRequirement already satisfied: numpy in /usr/local/lib/python3.7/dist-packages (from mglearn) (1.19.5)\n",
            "Requirement already satisfied: matplotlib in /usr/local/lib/python3.7/dist-packages (from mglearn) (3.2.2)\n",
            "Requirement already satisfied: scikit-learn in /usr/local/lib/python3.7/dist-packages (from mglearn) (0.22.2.post1)\n",
            "Requirement already satisfied: pandas in /usr/local/lib/python3.7/dist-packages (from mglearn) (1.1.5)\n",
            "Requirement already satisfied: pillow in /usr/local/lib/python3.7/dist-packages (from mglearn) (7.1.2)\n",
            "Requirement already satisfied: cycler in /usr/local/lib/python3.7/dist-packages (from mglearn) (0.10.0)\n",
            "Requirement already satisfied: imageio in /usr/local/lib/python3.7/dist-packages (from mglearn) (2.4.1)\n",
            "Requirement already satisfied: joblib in /usr/local/lib/python3.7/dist-packages (from mglearn) (1.0.1)\n",
            "Requirement already satisfied: pyparsing!=2.0.4,!=2.1.2,!=2.1.6,>=2.0.1 in /usr/local/lib/python3.7/dist-packages (from matplotlib->mglearn) (2.4.7)\n",
            "Requirement already satisfied: python-dateutil>=2.1 in /usr/local/lib/python3.7/dist-packages (from matplotlib->mglearn) (2.8.1)\n",
            "Requirement already satisfied: kiwisolver>=1.0.1 in /usr/local/lib/python3.7/dist-packages (from matplotlib->mglearn) (1.3.1)\n",
            "Requirement already satisfied: scipy>=0.17.0 in /usr/local/lib/python3.7/dist-packages (from scikit-learn->mglearn) (1.4.1)\n",
            "Requirement already satisfied: pytz>=2017.2 in /usr/local/lib/python3.7/dist-packages (from pandas->mglearn) (2018.9)\n",
            "Requirement already satisfied: six in /usr/local/lib/python3.7/dist-packages (from cycler->mglearn) (1.15.0)\n",
            "Building wheels for collected packages: mglearn\n",
            "  Building wheel for mglearn (setup.py) ... \u001b[?25l\u001b[?25hdone\n",
            "  Created wheel for mglearn: filename=mglearn-0.1.9-py2.py3-none-any.whl size=582638 sha256=71c27e52256efa94691598dd6fe76a007f42ccd24fc6d3f66b14745c99b919d8\n",
            "  Stored in directory: /root/.cache/pip/wheels/eb/a6/ea/a6a3716233fa62fc561259b5cb1e28f79e9ff3592c0adac5f0\n",
            "Successfully built mglearn\n",
            "Installing collected packages: mglearn\n",
            "Successfully installed mglearn-0.1.9\n"
          ],
          "name": "stdout"
        }
      ]
    },
    {
      "cell_type": "code",
      "metadata": {
        "id": "cB2pRQenmFo-"
      },
      "source": [
        "import warnings\n",
        "warnings.simplefilter(action='ignore', category=FutureWarning)\n",
        "\n",
        "from sklearn.neighbors import KNeighborsClassifier, KNeighborsRegressor\n",
        "import mglearn #library provided by amueller\n",
        "import numpy as np\n",
        "\n",
        "%matplotlib inline\n",
        "import matplotlib.pyplot as plt\n",
        "import pandas as pd"
      ],
      "execution_count": 3,
      "outputs": []
    },
    {
      "cell_type": "code",
      "metadata": {
        "colab": {
          "base_uri": "https://localhost:8080/"
        },
        "id": "q8l1tkRDsuJm",
        "outputId": "dd4eb582-43a0-46ed-f839-6b7fd849a490"
      },
      "source": [
        "from google.colab import drive\n",
        "drive.mount('/content/drive')"
      ],
      "execution_count": 4,
      "outputs": [
        {
          "output_type": "stream",
          "text": [
            "Mounted at /content/drive\n"
          ],
          "name": "stdout"
        }
      ]
    },
    {
      "cell_type": "code",
      "metadata": {
        "colab": {
          "base_uri": "https://localhost:8080/"
        },
        "id": "IYaF8fIotuf9",
        "outputId": "90859ab3-4651-46ee-cdd7-2775de92372f"
      },
      "source": [
        "data_dir = '/content/drive/My Drive/Colab Notebooks/AI_HW1/'\n",
        "\n",
        "import os\n",
        "os.listdir(data_dir)"
      ],
      "execution_count": 5,
      "outputs": [
        {
          "output_type": "execute_result",
          "data": {
            "text/plain": [
              "['SolarPrediction.csv',\n",
              " 'KAG_energydata_complete.csv',\n",
              " 'data.csv',\n",
              " 'covid_sentiments.xlsx',\n",
              " 'Stars.csv',\n",
              " 'AI Machine Learning: Homework 1_Stars Class.ipynb',\n",
              " 'AI Machine Learning: Homework 1_Spotify.ipynb']"
            ]
          },
          "metadata": {
            "tags": []
          },
          "execution_count": 5
        }
      ]
    },
    {
      "cell_type": "code",
      "metadata": {
        "colab": {
          "base_uri": "https://localhost:8080/",
          "height": 436
        },
        "id": "lXmj3nEJuTRN",
        "outputId": "0952009c-a17c-49ae-a0e5-3f7a4fd3d3a5"
      },
      "source": [
        "def get_data():\n",
        "  df_data = pd.read_csv(data_dir+'SolarPrediction.csv')\n",
        "  return df_data\n",
        "\n",
        "print(len(get_data()))\n",
        "get_data()"
      ],
      "execution_count": 6,
      "outputs": [
        {
          "output_type": "stream",
          "text": [
            "32686\n"
          ],
          "name": "stdout"
        },
        {
          "output_type": "execute_result",
          "data": {
            "text/html": [
              "<div>\n",
              "<style scoped>\n",
              "    .dataframe tbody tr th:only-of-type {\n",
              "        vertical-align: middle;\n",
              "    }\n",
              "\n",
              "    .dataframe tbody tr th {\n",
              "        vertical-align: top;\n",
              "    }\n",
              "\n",
              "    .dataframe thead th {\n",
              "        text-align: right;\n",
              "    }\n",
              "</style>\n",
              "<table border=\"1\" class=\"dataframe\">\n",
              "  <thead>\n",
              "    <tr style=\"text-align: right;\">\n",
              "      <th></th>\n",
              "      <th>UNIXTime</th>\n",
              "      <th>Data</th>\n",
              "      <th>Time</th>\n",
              "      <th>Radiation</th>\n",
              "      <th>Temperature</th>\n",
              "      <th>Pressure</th>\n",
              "      <th>Humidity</th>\n",
              "      <th>WindDirection(Degrees)</th>\n",
              "      <th>Speed</th>\n",
              "      <th>TimeSunRise</th>\n",
              "      <th>TimeSunSet</th>\n",
              "    </tr>\n",
              "  </thead>\n",
              "  <tbody>\n",
              "    <tr>\n",
              "      <th>0</th>\n",
              "      <td>1475229326</td>\n",
              "      <td>9/29/2016 12:00:00 AM</td>\n",
              "      <td>23:55:26</td>\n",
              "      <td>1.21</td>\n",
              "      <td>48</td>\n",
              "      <td>30.46</td>\n",
              "      <td>59</td>\n",
              "      <td>177.39</td>\n",
              "      <td>5.62</td>\n",
              "      <td>06:13:00</td>\n",
              "      <td>18:13:00</td>\n",
              "    </tr>\n",
              "    <tr>\n",
              "      <th>1</th>\n",
              "      <td>1475229023</td>\n",
              "      <td>9/29/2016 12:00:00 AM</td>\n",
              "      <td>23:50:23</td>\n",
              "      <td>1.21</td>\n",
              "      <td>48</td>\n",
              "      <td>30.46</td>\n",
              "      <td>58</td>\n",
              "      <td>176.78</td>\n",
              "      <td>3.37</td>\n",
              "      <td>06:13:00</td>\n",
              "      <td>18:13:00</td>\n",
              "    </tr>\n",
              "    <tr>\n",
              "      <th>2</th>\n",
              "      <td>1475228726</td>\n",
              "      <td>9/29/2016 12:00:00 AM</td>\n",
              "      <td>23:45:26</td>\n",
              "      <td>1.23</td>\n",
              "      <td>48</td>\n",
              "      <td>30.46</td>\n",
              "      <td>57</td>\n",
              "      <td>158.75</td>\n",
              "      <td>3.37</td>\n",
              "      <td>06:13:00</td>\n",
              "      <td>18:13:00</td>\n",
              "    </tr>\n",
              "    <tr>\n",
              "      <th>3</th>\n",
              "      <td>1475228421</td>\n",
              "      <td>9/29/2016 12:00:00 AM</td>\n",
              "      <td>23:40:21</td>\n",
              "      <td>1.21</td>\n",
              "      <td>48</td>\n",
              "      <td>30.46</td>\n",
              "      <td>60</td>\n",
              "      <td>137.71</td>\n",
              "      <td>3.37</td>\n",
              "      <td>06:13:00</td>\n",
              "      <td>18:13:00</td>\n",
              "    </tr>\n",
              "    <tr>\n",
              "      <th>4</th>\n",
              "      <td>1475228124</td>\n",
              "      <td>9/29/2016 12:00:00 AM</td>\n",
              "      <td>23:35:24</td>\n",
              "      <td>1.17</td>\n",
              "      <td>48</td>\n",
              "      <td>30.46</td>\n",
              "      <td>62</td>\n",
              "      <td>104.95</td>\n",
              "      <td>5.62</td>\n",
              "      <td>06:13:00</td>\n",
              "      <td>18:13:00</td>\n",
              "    </tr>\n",
              "    <tr>\n",
              "      <th>...</th>\n",
              "      <td>...</td>\n",
              "      <td>...</td>\n",
              "      <td>...</td>\n",
              "      <td>...</td>\n",
              "      <td>...</td>\n",
              "      <td>...</td>\n",
              "      <td>...</td>\n",
              "      <td>...</td>\n",
              "      <td>...</td>\n",
              "      <td>...</td>\n",
              "      <td>...</td>\n",
              "    </tr>\n",
              "    <tr>\n",
              "      <th>32681</th>\n",
              "      <td>1480587604</td>\n",
              "      <td>12/1/2016 12:00:00 AM</td>\n",
              "      <td>00:20:04</td>\n",
              "      <td>1.22</td>\n",
              "      <td>44</td>\n",
              "      <td>30.43</td>\n",
              "      <td>102</td>\n",
              "      <td>145.42</td>\n",
              "      <td>6.75</td>\n",
              "      <td>06:41:00</td>\n",
              "      <td>17:42:00</td>\n",
              "    </tr>\n",
              "    <tr>\n",
              "      <th>32682</th>\n",
              "      <td>1480587301</td>\n",
              "      <td>12/1/2016 12:00:00 AM</td>\n",
              "      <td>00:15:01</td>\n",
              "      <td>1.17</td>\n",
              "      <td>44</td>\n",
              "      <td>30.42</td>\n",
              "      <td>102</td>\n",
              "      <td>117.78</td>\n",
              "      <td>6.75</td>\n",
              "      <td>06:41:00</td>\n",
              "      <td>17:42:00</td>\n",
              "    </tr>\n",
              "    <tr>\n",
              "      <th>32683</th>\n",
              "      <td>1480587001</td>\n",
              "      <td>12/1/2016 12:00:00 AM</td>\n",
              "      <td>00:10:01</td>\n",
              "      <td>1.20</td>\n",
              "      <td>44</td>\n",
              "      <td>30.42</td>\n",
              "      <td>102</td>\n",
              "      <td>145.19</td>\n",
              "      <td>9.00</td>\n",
              "      <td>06:41:00</td>\n",
              "      <td>17:42:00</td>\n",
              "    </tr>\n",
              "    <tr>\n",
              "      <th>32684</th>\n",
              "      <td>1480586702</td>\n",
              "      <td>12/1/2016 12:00:00 AM</td>\n",
              "      <td>00:05:02</td>\n",
              "      <td>1.23</td>\n",
              "      <td>44</td>\n",
              "      <td>30.42</td>\n",
              "      <td>101</td>\n",
              "      <td>164.19</td>\n",
              "      <td>7.87</td>\n",
              "      <td>06:41:00</td>\n",
              "      <td>17:42:00</td>\n",
              "    </tr>\n",
              "    <tr>\n",
              "      <th>32685</th>\n",
              "      <td>1480586402</td>\n",
              "      <td>12/1/2016 12:00:00 AM</td>\n",
              "      <td>00:00:02</td>\n",
              "      <td>1.20</td>\n",
              "      <td>44</td>\n",
              "      <td>30.43</td>\n",
              "      <td>101</td>\n",
              "      <td>83.59</td>\n",
              "      <td>3.37</td>\n",
              "      <td>06:41:00</td>\n",
              "      <td>17:42:00</td>\n",
              "    </tr>\n",
              "  </tbody>\n",
              "</table>\n",
              "<p>32686 rows × 11 columns</p>\n",
              "</div>"
            ],
            "text/plain": [
              "         UNIXTime                   Data  ... TimeSunRise  TimeSunSet\n",
              "0      1475229326  9/29/2016 12:00:00 AM  ...    06:13:00    18:13:00\n",
              "1      1475229023  9/29/2016 12:00:00 AM  ...    06:13:00    18:13:00\n",
              "2      1475228726  9/29/2016 12:00:00 AM  ...    06:13:00    18:13:00\n",
              "3      1475228421  9/29/2016 12:00:00 AM  ...    06:13:00    18:13:00\n",
              "4      1475228124  9/29/2016 12:00:00 AM  ...    06:13:00    18:13:00\n",
              "...           ...                    ...  ...         ...         ...\n",
              "32681  1480587604  12/1/2016 12:00:00 AM  ...    06:41:00    17:42:00\n",
              "32682  1480587301  12/1/2016 12:00:00 AM  ...    06:41:00    17:42:00\n",
              "32683  1480587001  12/1/2016 12:00:00 AM  ...    06:41:00    17:42:00\n",
              "32684  1480586702  12/1/2016 12:00:00 AM  ...    06:41:00    17:42:00\n",
              "32685  1480586402  12/1/2016 12:00:00 AM  ...    06:41:00    17:42:00\n",
              "\n",
              "[32686 rows x 11 columns]"
            ]
          },
          "metadata": {
            "tags": []
          },
          "execution_count": 6
        }
      ]
    },
    {
      "cell_type": "code",
      "metadata": {
        "colab": {
          "base_uri": "https://localhost:8080/",
          "height": 419
        },
        "id": "B4ulx-twjBmx",
        "outputId": "677dd902-1639-43e6-b8d3-79558d9c8a99"
      },
      "source": [
        "def df_filter():\n",
        "  df = get_data()\n",
        "  df_filter = df.drop(['UNIXTime', 'Data', 'Time', 'TimeSunRise', 'TimeSunSet' ], axis=1)\n",
        "  return df_filter\n",
        "\n",
        "df_filter()"
      ],
      "execution_count": 7,
      "outputs": [
        {
          "output_type": "execute_result",
          "data": {
            "text/html": [
              "<div>\n",
              "<style scoped>\n",
              "    .dataframe tbody tr th:only-of-type {\n",
              "        vertical-align: middle;\n",
              "    }\n",
              "\n",
              "    .dataframe tbody tr th {\n",
              "        vertical-align: top;\n",
              "    }\n",
              "\n",
              "    .dataframe thead th {\n",
              "        text-align: right;\n",
              "    }\n",
              "</style>\n",
              "<table border=\"1\" class=\"dataframe\">\n",
              "  <thead>\n",
              "    <tr style=\"text-align: right;\">\n",
              "      <th></th>\n",
              "      <th>Radiation</th>\n",
              "      <th>Temperature</th>\n",
              "      <th>Pressure</th>\n",
              "      <th>Humidity</th>\n",
              "      <th>WindDirection(Degrees)</th>\n",
              "      <th>Speed</th>\n",
              "    </tr>\n",
              "  </thead>\n",
              "  <tbody>\n",
              "    <tr>\n",
              "      <th>0</th>\n",
              "      <td>1.21</td>\n",
              "      <td>48</td>\n",
              "      <td>30.46</td>\n",
              "      <td>59</td>\n",
              "      <td>177.39</td>\n",
              "      <td>5.62</td>\n",
              "    </tr>\n",
              "    <tr>\n",
              "      <th>1</th>\n",
              "      <td>1.21</td>\n",
              "      <td>48</td>\n",
              "      <td>30.46</td>\n",
              "      <td>58</td>\n",
              "      <td>176.78</td>\n",
              "      <td>3.37</td>\n",
              "    </tr>\n",
              "    <tr>\n",
              "      <th>2</th>\n",
              "      <td>1.23</td>\n",
              "      <td>48</td>\n",
              "      <td>30.46</td>\n",
              "      <td>57</td>\n",
              "      <td>158.75</td>\n",
              "      <td>3.37</td>\n",
              "    </tr>\n",
              "    <tr>\n",
              "      <th>3</th>\n",
              "      <td>1.21</td>\n",
              "      <td>48</td>\n",
              "      <td>30.46</td>\n",
              "      <td>60</td>\n",
              "      <td>137.71</td>\n",
              "      <td>3.37</td>\n",
              "    </tr>\n",
              "    <tr>\n",
              "      <th>4</th>\n",
              "      <td>1.17</td>\n",
              "      <td>48</td>\n",
              "      <td>30.46</td>\n",
              "      <td>62</td>\n",
              "      <td>104.95</td>\n",
              "      <td>5.62</td>\n",
              "    </tr>\n",
              "    <tr>\n",
              "      <th>...</th>\n",
              "      <td>...</td>\n",
              "      <td>...</td>\n",
              "      <td>...</td>\n",
              "      <td>...</td>\n",
              "      <td>...</td>\n",
              "      <td>...</td>\n",
              "    </tr>\n",
              "    <tr>\n",
              "      <th>32681</th>\n",
              "      <td>1.22</td>\n",
              "      <td>44</td>\n",
              "      <td>30.43</td>\n",
              "      <td>102</td>\n",
              "      <td>145.42</td>\n",
              "      <td>6.75</td>\n",
              "    </tr>\n",
              "    <tr>\n",
              "      <th>32682</th>\n",
              "      <td>1.17</td>\n",
              "      <td>44</td>\n",
              "      <td>30.42</td>\n",
              "      <td>102</td>\n",
              "      <td>117.78</td>\n",
              "      <td>6.75</td>\n",
              "    </tr>\n",
              "    <tr>\n",
              "      <th>32683</th>\n",
              "      <td>1.20</td>\n",
              "      <td>44</td>\n",
              "      <td>30.42</td>\n",
              "      <td>102</td>\n",
              "      <td>145.19</td>\n",
              "      <td>9.00</td>\n",
              "    </tr>\n",
              "    <tr>\n",
              "      <th>32684</th>\n",
              "      <td>1.23</td>\n",
              "      <td>44</td>\n",
              "      <td>30.42</td>\n",
              "      <td>101</td>\n",
              "      <td>164.19</td>\n",
              "      <td>7.87</td>\n",
              "    </tr>\n",
              "    <tr>\n",
              "      <th>32685</th>\n",
              "      <td>1.20</td>\n",
              "      <td>44</td>\n",
              "      <td>30.43</td>\n",
              "      <td>101</td>\n",
              "      <td>83.59</td>\n",
              "      <td>3.37</td>\n",
              "    </tr>\n",
              "  </tbody>\n",
              "</table>\n",
              "<p>32686 rows × 6 columns</p>\n",
              "</div>"
            ],
            "text/plain": [
              "       Radiation  Temperature  ...  WindDirection(Degrees)  Speed\n",
              "0           1.21           48  ...                  177.39   5.62\n",
              "1           1.21           48  ...                  176.78   3.37\n",
              "2           1.23           48  ...                  158.75   3.37\n",
              "3           1.21           48  ...                  137.71   3.37\n",
              "4           1.17           48  ...                  104.95   5.62\n",
              "...          ...          ...  ...                     ...    ...\n",
              "32681       1.22           44  ...                  145.42   6.75\n",
              "32682       1.17           44  ...                  117.78   6.75\n",
              "32683       1.20           44  ...                  145.19   9.00\n",
              "32684       1.23           44  ...                  164.19   7.87\n",
              "32685       1.20           44  ...                   83.59   3.37\n",
              "\n",
              "[32686 rows x 6 columns]"
            ]
          },
          "metadata": {
            "tags": []
          },
          "execution_count": 7
        }
      ]
    },
    {
      "cell_type": "code",
      "metadata": {
        "colab": {
          "base_uri": "https://localhost:8080/"
        },
        "id": "CXEi9OyYlmKr",
        "outputId": "63b2b6a2-1ea4-47e1-cdab-22c155114e14"
      },
      "source": [
        "df_filter().shape"
      ],
      "execution_count": 8,
      "outputs": [
        {
          "output_type": "execute_result",
          "data": {
            "text/plain": [
              "(32686, 6)"
            ]
          },
          "metadata": {
            "tags": []
          },
          "execution_count": 8
        }
      ]
    },
    {
      "cell_type": "code",
      "metadata": {
        "colab": {
          "base_uri": "https://localhost:8080/",
          "height": 419
        },
        "id": "vOvLKszSziVN",
        "outputId": "ee29462e-8786-46b7-b960-82292392fec1"
      },
      "source": [
        "df_filter().loc[1:2000, :]"
      ],
      "execution_count": 9,
      "outputs": [
        {
          "output_type": "execute_result",
          "data": {
            "text/html": [
              "<div>\n",
              "<style scoped>\n",
              "    .dataframe tbody tr th:only-of-type {\n",
              "        vertical-align: middle;\n",
              "    }\n",
              "\n",
              "    .dataframe tbody tr th {\n",
              "        vertical-align: top;\n",
              "    }\n",
              "\n",
              "    .dataframe thead th {\n",
              "        text-align: right;\n",
              "    }\n",
              "</style>\n",
              "<table border=\"1\" class=\"dataframe\">\n",
              "  <thead>\n",
              "    <tr style=\"text-align: right;\">\n",
              "      <th></th>\n",
              "      <th>Radiation</th>\n",
              "      <th>Temperature</th>\n",
              "      <th>Pressure</th>\n",
              "      <th>Humidity</th>\n",
              "      <th>WindDirection(Degrees)</th>\n",
              "      <th>Speed</th>\n",
              "    </tr>\n",
              "  </thead>\n",
              "  <tbody>\n",
              "    <tr>\n",
              "      <th>1</th>\n",
              "      <td>1.21</td>\n",
              "      <td>48</td>\n",
              "      <td>30.46</td>\n",
              "      <td>58</td>\n",
              "      <td>176.78</td>\n",
              "      <td>3.37</td>\n",
              "    </tr>\n",
              "    <tr>\n",
              "      <th>2</th>\n",
              "      <td>1.23</td>\n",
              "      <td>48</td>\n",
              "      <td>30.46</td>\n",
              "      <td>57</td>\n",
              "      <td>158.75</td>\n",
              "      <td>3.37</td>\n",
              "    </tr>\n",
              "    <tr>\n",
              "      <th>3</th>\n",
              "      <td>1.21</td>\n",
              "      <td>48</td>\n",
              "      <td>30.46</td>\n",
              "      <td>60</td>\n",
              "      <td>137.71</td>\n",
              "      <td>3.37</td>\n",
              "    </tr>\n",
              "    <tr>\n",
              "      <th>4</th>\n",
              "      <td>1.17</td>\n",
              "      <td>48</td>\n",
              "      <td>30.46</td>\n",
              "      <td>62</td>\n",
              "      <td>104.95</td>\n",
              "      <td>5.62</td>\n",
              "    </tr>\n",
              "    <tr>\n",
              "      <th>5</th>\n",
              "      <td>1.21</td>\n",
              "      <td>48</td>\n",
              "      <td>30.46</td>\n",
              "      <td>64</td>\n",
              "      <td>120.20</td>\n",
              "      <td>5.62</td>\n",
              "    </tr>\n",
              "    <tr>\n",
              "      <th>...</th>\n",
              "      <td>...</td>\n",
              "      <td>...</td>\n",
              "      <td>...</td>\n",
              "      <td>...</td>\n",
              "      <td>...</td>\n",
              "      <td>...</td>\n",
              "    </tr>\n",
              "    <tr>\n",
              "      <th>1996</th>\n",
              "      <td>1.25</td>\n",
              "      <td>54</td>\n",
              "      <td>30.46</td>\n",
              "      <td>83</td>\n",
              "      <td>167.92</td>\n",
              "      <td>6.75</td>\n",
              "    </tr>\n",
              "    <tr>\n",
              "      <th>1997</th>\n",
              "      <td>1.28</td>\n",
              "      <td>54</td>\n",
              "      <td>30.46</td>\n",
              "      <td>83</td>\n",
              "      <td>140.74</td>\n",
              "      <td>7.87</td>\n",
              "    </tr>\n",
              "    <tr>\n",
              "      <th>1998</th>\n",
              "      <td>1.26</td>\n",
              "      <td>54</td>\n",
              "      <td>30.46</td>\n",
              "      <td>84</td>\n",
              "      <td>188.98</td>\n",
              "      <td>9.00</td>\n",
              "    </tr>\n",
              "    <tr>\n",
              "      <th>1999</th>\n",
              "      <td>1.28</td>\n",
              "      <td>54</td>\n",
              "      <td>30.46</td>\n",
              "      <td>85</td>\n",
              "      <td>151.95</td>\n",
              "      <td>2.25</td>\n",
              "    </tr>\n",
              "    <tr>\n",
              "      <th>2000</th>\n",
              "      <td>1.23</td>\n",
              "      <td>54</td>\n",
              "      <td>30.46</td>\n",
              "      <td>85</td>\n",
              "      <td>114.25</td>\n",
              "      <td>2.25</td>\n",
              "    </tr>\n",
              "  </tbody>\n",
              "</table>\n",
              "<p>2000 rows × 6 columns</p>\n",
              "</div>"
            ],
            "text/plain": [
              "      Radiation  Temperature  Pressure  Humidity  WindDirection(Degrees)  Speed\n",
              "1          1.21           48     30.46        58                  176.78   3.37\n",
              "2          1.23           48     30.46        57                  158.75   3.37\n",
              "3          1.21           48     30.46        60                  137.71   3.37\n",
              "4          1.17           48     30.46        62                  104.95   5.62\n",
              "5          1.21           48     30.46        64                  120.20   5.62\n",
              "...         ...          ...       ...       ...                     ...    ...\n",
              "1996       1.25           54     30.46        83                  167.92   6.75\n",
              "1997       1.28           54     30.46        83                  140.74   7.87\n",
              "1998       1.26           54     30.46        84                  188.98   9.00\n",
              "1999       1.28           54     30.46        85                  151.95   2.25\n",
              "2000       1.23           54     30.46        85                  114.25   2.25\n",
              "\n",
              "[2000 rows x 6 columns]"
            ]
          },
          "metadata": {
            "tags": []
          },
          "execution_count": 9
        }
      ]
    },
    {
      "cell_type": "code",
      "metadata": {
        "colab": {
          "base_uri": "https://localhost:8080/"
        },
        "id": "ZVucrGmkwl-T",
        "outputId": "3622e941-e52c-492f-9c8f-ec28c90818c8"
      },
      "source": [
        "from collections import Counter\n",
        "\n",
        "def calculate_pcc():\n",
        "  df = get_data()\n",
        "  state_counts = Counter(df['Radiation'])\n",
        "  df_state = pd.DataFrame.from_dict(state_counts, orient='index')\n",
        "  #df_state.plot(kind='bar')\n",
        "\n",
        "  num=(df_state[0]/df_state[0].sum())**2\n",
        "\n",
        "  print(\"Population per class:{}\".format(df_state))\n",
        "\n",
        "  print(\"Proportion Chance Criterion: {:0.2f}%\".format(100*num.sum()))\n",
        "  print(\"1.25 * Proportion Chance Criterion: {:0.2f}%\".format(1.25*100*num.sum()))\n",
        "\n",
        "calculate_pcc()"
      ],
      "execution_count": 10,
      "outputs": [
        {
          "output_type": "stream",
          "text": [
            "Population per class:          0\n",
            "1.21   2010\n",
            "1.23   2110\n",
            "1.17    210\n",
            "1.20   1558\n",
            "1.24   1725\n",
            "...     ...\n",
            "16.32     1\n",
            "9.03      1\n",
            "7.04      1\n",
            "4.45      1\n",
            "4.29      1\n",
            "\n",
            "[14434 rows x 1 columns]\n",
            "Proportion Chance Criterion: 2.12%\n",
            "1.25 * Proportion Chance Criterion: 2.65%\n"
          ],
          "name": "stdout"
        }
      ]
    },
    {
      "cell_type": "code",
      "metadata": {
        "colab": {
          "base_uri": "https://localhost:8080/"
        },
        "id": "-pxzHd_qxcyZ",
        "outputId": "4a4dbaa8-4b98-4588-9ae0-5a6ffa8babae"
      },
      "source": [
        "def split_df():\n",
        "  df = df_filter()\n",
        "\n",
        "  X = df.drop('Radiation', axis = 1)\n",
        "  y = df['Radiation']\n",
        "\n",
        "  return X, y\n",
        "\n",
        "split_df()"
      ],
      "execution_count": 11,
      "outputs": [
        {
          "output_type": "execute_result",
          "data": {
            "text/plain": [
              "(       Temperature  Pressure  Humidity  WindDirection(Degrees)  Speed\n",
              " 0               48     30.46        59                  177.39   5.62\n",
              " 1               48     30.46        58                  176.78   3.37\n",
              " 2               48     30.46        57                  158.75   3.37\n",
              " 3               48     30.46        60                  137.71   3.37\n",
              " 4               48     30.46        62                  104.95   5.62\n",
              " ...            ...       ...       ...                     ...    ...\n",
              " 32681           44     30.43       102                  145.42   6.75\n",
              " 32682           44     30.42       102                  117.78   6.75\n",
              " 32683           44     30.42       102                  145.19   9.00\n",
              " 32684           44     30.42       101                  164.19   7.87\n",
              " 32685           44     30.43       101                   83.59   3.37\n",
              " \n",
              " [32686 rows x 5 columns], 0        1.21\n",
              " 1        1.21\n",
              " 2        1.23\n",
              " 3        1.21\n",
              " 4        1.17\n",
              "          ... \n",
              " 32681    1.22\n",
              " 32682    1.17\n",
              " 32683    1.20\n",
              " 32684    1.23\n",
              " 32685    1.20\n",
              " Name: Radiation, Length: 32686, dtype: float64)"
            ]
          },
          "metadata": {
            "tags": []
          },
          "execution_count": 11
        }
      ]
    },
    {
      "cell_type": "code",
      "metadata": {
        "id": "OevZYafQmATx"
      },
      "source": [
        "from sklearn.model_selection import train_test_split\n",
        "\n",
        "df = df_filter().loc[1:100, :]\n",
        "all_training = df\n",
        "all_test = df\n",
        "\n",
        "for seedN in range(1,6):\n",
        "    X_train, X_test, y_train, y_test = train_test_split(df.drop('Radiation', axis = 1), df['Radiation'], test_size=0.25, random_state=seedN)\n",
        "    training_accuracy = []  \n",
        "    test_accuracy = []\n",
        "    neighbors_settings = range(1, 101) # try n_neighbors from 1 to 10\n",
        "\n",
        "    for n_neighbors in neighbors_settings:   \n",
        "        reg = KNeighborsRegressor(n_neighbors=75) # build the model \n",
        "        reg.fit(X_train, y_train) #clf = KNeighborsClassifier(n_neighbors=n_neighbors    \n",
        "        training_accuracy.append(reg.score(X_train, y_train)) # record training set accuracy  \n",
        "        test_accuracy.append(reg.score(X_test, y_test)) # record generalization accuracy    \n",
        "    all_training[seedN]=training_accuracy\n",
        "    all_test[seedN] = test_accuracy"
      ],
      "execution_count": 14,
      "outputs": []
    },
    {
      "cell_type": "code",
      "metadata": {
        "colab": {
          "base_uri": "https://localhost:8080/",
          "height": 413
        },
        "id": "UwOZPDq09kSy",
        "outputId": "3470c3cf-6972-4cf4-a960-b4198a7ba1bc"
      },
      "source": [
        "fig = plt.figure(figsize=(15, 6))\n",
        "import pylab as plot\n",
        "params = {'legend.fontsize': 20, 'legend.handlelength': 2}\n",
        "plot.rcParams.update(params)\n",
        "\n",
        "plt.errorbar(neighbors_settings, all_training.mean(axis=1),\n",
        "             yerr=all_training.std(axis=1), label=\"training accuracy\", color='blue', marker='o', linestyle='dashed', markersize=18)\n",
        "plt.errorbar(neighbors_settings, all_test.mean(axis=1),\n",
        "             yerr=all_test.std(axis=1), label=\"test accuracy\", color='red', marker='^', linestyle='-', markersize=18)\n",
        "plt.ylabel(\"Accuracy\", fontsize=18)\n",
        "plt.xlabel(\"n_neighbors\",fontsize=18)\n",
        "plt.legend()"
      ],
      "execution_count": 15,
      "outputs": [
        {
          "output_type": "execute_result",
          "data": {
            "text/plain": [
              "<matplotlib.legend.Legend at 0x7f8cf4325e10>"
            ]
          },
          "metadata": {
            "tags": []
          },
          "execution_count": 15
        },
        {
          "output_type": "display_data",
          "data": {
            "image/png": "[encoded data removed]",
            "text/plain": [
              "<Figure size 1080x432 with 1 Axes>"
            ]
          },
          "metadata": {
            "tags": [],
            "needs_background": "light"
          }
        }
      ]
    },
    {
      "cell_type": "code",
      "metadata": {
        "colab": {
          "base_uri": "https://localhost:8080/",
          "height": 299
        },
        "id": "Xeh_qufQ-5dA",
        "outputId": "f2afc477-8c16-49b6-b50c-c7ea222a3bf5"
      },
      "source": [
        "from sklearn.metrics import r2_score\n",
        "\n",
        "reg = KNeighborsRegressor(n_neighbors=1)\n",
        "X_train, X_test, y_train, y_test = train_test_split(df.drop('Radiation', axis = 1), df['Radiation'], test_size=0.25, random_state=seedN)\n",
        "reg.fit(X_train, y_train)\n",
        "\n",
        "plt.plot( y_test, reg.predict(X_test), 'o')\n",
        "\n",
        "plt.xlabel(\"Actual\")\n",
        "plt.ylabel(\"Predicted\")\n",
        "\n",
        "print(r2_score(y_test, reg.predict(X_test)))"
      ],
      "execution_count": 16,
      "outputs": [
        {
          "output_type": "stream",
          "text": [
            "-0.14317055736634732\n"
          ],
          "name": "stdout"
        },
        {
          "output_type": "display_data",
          "data": {
            "image/png": "[encoded data removed]",
            "text/plain": [
              "<Figure size 432x288 with 1 Axes>"
            ]
          },
          "metadata": {
            "tags": [],
            "needs_background": "light"
          }
        }
      ]
    },
    {
      "cell_type": "code",
      "metadata": {
        "colab": {
          "base_uri": "https://localhost:8080/"
        },
        "id": "ZgTO1Ss1_vhp",
        "outputId": "f01cfbd5-40cc-4570-dab5-8af6aa5f19cc"
      },
      "source": [
        "all_test.mean (axis=1)"
      ],
      "execution_count": 17,
      "outputs": [
        {
          "output_type": "execute_result",
          "data": {
            "text/plain": [
              "1       28.808404\n",
              "2       27.080222\n",
              "3       25.438404\n",
              "4       22.842950\n",
              "5       24.414768\n",
              "          ...    \n",
              "96      66.187495\n",
              "97      71.714768\n",
              "98      42.191132\n",
              "99     118.192950\n",
              "100     74.248404\n",
              "Length: 100, dtype: float64"
            ]
          },
          "metadata": {
            "tags": []
          },
          "execution_count": 17
        }
      ]
    }
  ]
}