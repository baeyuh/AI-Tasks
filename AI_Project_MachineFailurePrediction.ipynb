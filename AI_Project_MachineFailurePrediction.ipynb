{
  "nbformat": 4,
  "nbformat_minor": 0,
  "metadata": {
    "kernelspec": {
      "display_name": "Python 3",
      "language": "python",
      "name": "python3"
    },
    "language_info": {
      "codemirror_mode": {
        "name": "ipython",
        "version": 3
      },
      "file_extension": ".py",
      "mimetype": "text/x-python",
      "name": "python",
      "nbconvert_exporter": "python",
      "pygments_lexer": "ipython3",
      "version": "3.8.3"
    },
    "colab": {
      "name": "AI_Project_MachineFailurePrediction.ipynb",
      "provenance": [],
      "collapsed_sections": [
        "d0Mfj0ie_z-D"
      ]
    }
  },
  "cells": [
    {
      "cell_type": "markdown",
      "metadata": {
        "id": "7ZTxGm73qs2R"
      },
      "source": [
        "## **Will the machine fail? What causes machine failures?**\n",
        "\n",
        "Using a synthetic dataset that reflects real predictive maintenance encountered in the industries, this machine learning model predicts whether a machine failure will occur (1) or not (0).\n",
        "\n",
        "Two sets of training and testing were done: \n",
        "  1. Predicting general machine failure\n",
        "  2. Predicting specific machine failure\n",
        "*   Tool wear failure (TWF)\n",
        "*   Heat dissipation failure (HDF)\n",
        "*   Power failure (PWF)\n",
        "*   Overstrain failure (OSF)\n",
        "*   Random failures (RNF)\n",
        "\n",
        "**Data Source:** Matzka, Stephan (2019). UCI Machine Learning Repository [https://archive.ics.uci.edu/ml/datasets/AI4I+2020+Predictive+Maintenance+Dataset]. Irvine, CA: University of California, School of Information and Computer Science.\n",
        "\n",
        "**Relevant Papers:** Stephan Matzka, 'Explainable Artificial Intelligence for Predictive Maintenance Applications', Third International Conference on Artificial Intelligence for Industries (AI4I 2020), 2020 (in press)"
      ]
    },
    {
      "cell_type": "markdown",
      "metadata": {
        "id": "d0Mfj0ie_z-D"
      },
      "source": [
        "## Exploratory Data Analysis "
      ]
    },
    {
      "cell_type": "code",
      "metadata": {
        "id": "9mZ7zKvg_z-D"
      },
      "source": [
        "import pandas as pd\n",
        "import numpy as np\n",
        "import matplotlib.pyplot as plt\n",
        "\n",
        "import warnings\n",
        "from warnings import simplefilter\n",
        "from sklearn.exceptions import ConvergenceWarning\n",
        "\n",
        "warnings.filterwarnings(\"ignore\", category=FutureWarning)\n",
        "warnings.filterwarnings(\"ignore\", category=RuntimeWarning)\n",
        "warnings.filterwarnings(\"ignore\", category=ConvergenceWarning)\n",
        "#warnings.filterwarnings(\"ignore\", category=DataConversionWarning)\n",
        "\n",
        "#from warnings import simplefilter\n",
        "#from sklearn.exceptions import ConvergenceWarning\n",
        "#simplefilter(\"ignore\", category=ConvergenceWarning)"
      ],
      "execution_count": 1,
      "outputs": []
    },
    {
      "cell_type": "code",
      "metadata": {
        "colab": {
          "base_uri": "https://localhost:8080/"
        },
        "id": "FqxYoRqFpctZ",
        "outputId": "aeb0ea17-c2be-4437-b7a0-9a1afeb8c907"
      },
      "source": [
        "from google.colab import drive\n",
        "drive.mount('/content/drive')"
      ],
      "execution_count": 2,
      "outputs": [
        {
          "output_type": "stream",
          "text": [
            "Drive already mounted at /content/drive; to attempt to forcibly remount, call drive.mount(\"/content/drive\", force_remount=True).\n"
          ],
          "name": "stdout"
        }
      ]
    },
    {
      "cell_type": "code",
      "metadata": {
        "id": "1NwkJFMYqHKI"
      },
      "source": [
        "data_dir = data_dir = '/content/drive/My Drive/Colab Notebooks/AI_HW1/'"
      ],
      "execution_count": 3,
      "outputs": []
    },
    {
      "cell_type": "code",
      "metadata": {
        "colab": {
          "base_uri": "https://localhost:8080/",
          "height": 197
        },
        "id": "yzJ68ohBq65W",
        "outputId": "ed1bc821-25af-4431-8ee3-1ecb322180fe"
      },
      "source": [
        "df_data = pd.read_csv(data_dir+'ai4i2020.csv')\n",
        "dummy = df_data\n",
        "dummy.head()"
      ],
      "execution_count": 4,
      "outputs": [
        {
          "output_type": "execute_result",
          "data": {
            "text/html": [
              "<div>\n",
              "<style scoped>\n",
              "    .dataframe tbody tr th:only-of-type {\n",
              "        vertical-align: middle;\n",
              "    }\n",
              "\n",
              "    .dataframe tbody tr th {\n",
              "        vertical-align: top;\n",
              "    }\n",
              "\n",
              "    .dataframe thead th {\n",
              "        text-align: right;\n",
              "    }\n",
              "</style>\n",
              "<table border=\"1\" class=\"dataframe\">\n",
              "  <thead>\n",
              "    <tr style=\"text-align: right;\">\n",
              "      <th></th>\n",
              "      <th>UDI</th>\n",
              "      <th>Product ID</th>\n",
              "      <th>Type</th>\n",
              "      <th>Air temperature [K]</th>\n",
              "      <th>Process temperature [K]</th>\n",
              "      <th>Rotational speed [rpm]</th>\n",
              "      <th>Torque [Nm]</th>\n",
              "      <th>Tool wear [min]</th>\n",
              "      <th>Machine failure</th>\n",
              "      <th>TWF</th>\n",
              "      <th>HDF</th>\n",
              "      <th>PWF</th>\n",
              "      <th>OSF</th>\n",
              "      <th>RNF</th>\n",
              "    </tr>\n",
              "  </thead>\n",
              "  <tbody>\n",
              "    <tr>\n",
              "      <th>0</th>\n",
              "      <td>1</td>\n",
              "      <td>M14860</td>\n",
              "      <td>M</td>\n",
              "      <td>298.1</td>\n",
              "      <td>308.6</td>\n",
              "      <td>1551</td>\n",
              "      <td>42.8</td>\n",
              "      <td>0</td>\n",
              "      <td>0</td>\n",
              "      <td>0</td>\n",
              "      <td>0</td>\n",
              "      <td>0</td>\n",
              "      <td>0</td>\n",
              "      <td>0</td>\n",
              "    </tr>\n",
              "    <tr>\n",
              "      <th>1</th>\n",
              "      <td>2</td>\n",
              "      <td>L47181</td>\n",
              "      <td>L</td>\n",
              "      <td>298.2</td>\n",
              "      <td>308.7</td>\n",
              "      <td>1408</td>\n",
              "      <td>46.3</td>\n",
              "      <td>3</td>\n",
              "      <td>0</td>\n",
              "      <td>0</td>\n",
              "      <td>0</td>\n",
              "      <td>0</td>\n",
              "      <td>0</td>\n",
              "      <td>0</td>\n",
              "    </tr>\n",
              "    <tr>\n",
              "      <th>2</th>\n",
              "      <td>3</td>\n",
              "      <td>L47182</td>\n",
              "      <td>L</td>\n",
              "      <td>298.1</td>\n",
              "      <td>308.5</td>\n",
              "      <td>1498</td>\n",
              "      <td>49.4</td>\n",
              "      <td>5</td>\n",
              "      <td>0</td>\n",
              "      <td>0</td>\n",
              "      <td>0</td>\n",
              "      <td>0</td>\n",
              "      <td>0</td>\n",
              "      <td>0</td>\n",
              "    </tr>\n",
              "    <tr>\n",
              "      <th>3</th>\n",
              "      <td>4</td>\n",
              "      <td>L47183</td>\n",
              "      <td>L</td>\n",
              "      <td>298.2</td>\n",
              "      <td>308.6</td>\n",
              "      <td>1433</td>\n",
              "      <td>39.5</td>\n",
              "      <td>7</td>\n",
              "      <td>0</td>\n",
              "      <td>0</td>\n",
              "      <td>0</td>\n",
              "      <td>0</td>\n",
              "      <td>0</td>\n",
              "      <td>0</td>\n",
              "    </tr>\n",
              "    <tr>\n",
              "      <th>4</th>\n",
              "      <td>5</td>\n",
              "      <td>L47184</td>\n",
              "      <td>L</td>\n",
              "      <td>298.2</td>\n",
              "      <td>308.7</td>\n",
              "      <td>1408</td>\n",
              "      <td>40.0</td>\n",
              "      <td>9</td>\n",
              "      <td>0</td>\n",
              "      <td>0</td>\n",
              "      <td>0</td>\n",
              "      <td>0</td>\n",
              "      <td>0</td>\n",
              "      <td>0</td>\n",
              "    </tr>\n",
              "  </tbody>\n",
              "</table>\n",
              "</div>"
            ],
            "text/plain": [
              "   UDI Product ID Type  Air temperature [K]  ...  HDF  PWF  OSF  RNF\n",
              "0    1     M14860    M                298.1  ...    0    0    0    0\n",
              "1    2     L47181    L                298.2  ...    0    0    0    0\n",
              "2    3     L47182    L                298.1  ...    0    0    0    0\n",
              "3    4     L47183    L                298.2  ...    0    0    0    0\n",
              "4    5     L47184    L                298.2  ...    0    0    0    0\n",
              "\n",
              "[5 rows x 14 columns]"
            ]
          },
          "metadata": {
            "tags": []
          },
          "execution_count": 4
        }
      ]
    },
    {
      "cell_type": "code",
      "metadata": {
        "id": "3JQsjQdv_z-E",
        "colab": {
          "base_uri": "https://localhost:8080/"
        },
        "outputId": "28abe4a0-0255-4930-b200-3d770325990f"
      },
      "source": [
        "print(df_data.shape)"
      ],
      "execution_count": 5,
      "outputs": [
        {
          "output_type": "stream",
          "text": [
            "(10000, 14)\n"
          ],
          "name": "stdout"
        }
      ]
    },
    {
      "cell_type": "code",
      "metadata": {
        "id": "GwZpCrAJ_z-F",
        "colab": {
          "base_uri": "https://localhost:8080/"
        },
        "outputId": "eff9e22f-93db-4e11-9c30-0cad0416787f"
      },
      "source": [
        "df_data.columns"
      ],
      "execution_count": 6,
      "outputs": [
        {
          "output_type": "execute_result",
          "data": {
            "text/plain": [
              "Index(['UDI', 'Product ID', 'Type', 'Air temperature [K]',\n",
              "       'Process temperature [K]', 'Rotational speed [rpm]', 'Torque [Nm]',\n",
              "       'Tool wear [min]', 'Machine failure', 'TWF', 'HDF', 'PWF', 'OSF',\n",
              "       'RNF'],\n",
              "      dtype='object')"
            ]
          },
          "metadata": {
            "tags": []
          },
          "execution_count": 6
        }
      ]
    },
    {
      "cell_type": "code",
      "metadata": {
        "scrolled": true,
        "id": "YNUNNf_b_z-F",
        "colab": {
          "base_uri": "https://localhost:8080/",
          "height": 226
        },
        "outputId": "6fc776bb-2a0f-41d0-c361-44f123bf6987"
      },
      "source": [
        "import seaborn as sns\n",
        "plt.figure(figsize=(7,3))\n",
        "sns.countplot(df_data['Machine failure'],label=\"Count\")\n",
        "plt.show()"
      ],
      "execution_count": 7,
      "outputs": [
        {
          "output_type": "display_data",
          "data": {
            "image/png": "[encoded data removed]",
            "text/plain": [
              "<Figure size 504x216 with 1 Axes>"
            ]
          },
          "metadata": {
            "tags": [],
            "needs_background": "light"
          }
        }
      ]
    },
    {
      "cell_type": "code",
      "metadata": {
        "id": "X3bPF1f-_z-F",
        "colab": {
          "base_uri": "https://localhost:8080/"
        },
        "outputId": "8ee7413f-a719-4600-e1e2-a09b953dd3bf"
      },
      "source": [
        "df_data.groupby('Machine failure').size()"
      ],
      "execution_count": 8,
      "outputs": [
        {
          "output_type": "execute_result",
          "data": {
            "text/plain": [
              "Machine failure\n",
              "0    9661\n",
              "1     339\n",
              "dtype: int64"
            ]
          },
          "metadata": {
            "tags": []
          },
          "execution_count": 8
        }
      ]
    },
    {
      "cell_type": "code",
      "metadata": {
        "id": "FGiUFuv6_z-G",
        "colab": {
          "base_uri": "https://localhost:8080/"
        },
        "outputId": "f1bef914-409b-44c4-9ff5-cee100cbc836"
      },
      "source": [
        "df_data.groupby('Machine failure').size()[0]/df_data.groupby('Machine failure').size().sum()"
      ],
      "execution_count": 9,
      "outputs": [
        {
          "output_type": "execute_result",
          "data": {
            "text/plain": [
              "0.9661"
            ]
          },
          "metadata": {
            "tags": []
          },
          "execution_count": 9
        }
      ]
    },
    {
      "cell_type": "code",
      "metadata": {
        "id": "KJCDR_Bi_z-G",
        "colab": {
          "base_uri": "https://localhost:8080/"
        },
        "outputId": "f0f71609-f02e-4c73-b6b9-3bc5fa94b11e"
      },
      "source": [
        "num=(df_data.groupby('Machine failure').size()/df_data.groupby('Machine failure').size().sum())**2\n",
        "#print(\"Population per class: {}\\n\".format(df_state))\n",
        "print(\"Proportion Chance Criterion = {}%\".format(100*num.sum()))\n",
        "print(\"1.25*Proportion Chance Criterion = {}%\".format(1.25*100*num.sum()))"
      ],
      "execution_count": 10,
      "outputs": [
        {
          "output_type": "stream",
          "text": [
            "Proportion Chance Criterion = 93.44984199999999%\n",
            "1.25*Proportion Chance Criterion = 116.81230249999999%\n"
          ],
          "name": "stdout"
        }
      ]
    },
    {
      "cell_type": "markdown",
      "metadata": {
        "id": "jMmIJLd9_z-G"
      },
      "source": [
        "# Step 1: Look at the missing values"
      ]
    },
    {
      "cell_type": "code",
      "metadata": {
        "id": "k7NLPB-M_z-G",
        "colab": {
          "base_uri": "https://localhost:8080/"
        },
        "outputId": "822a9ae8-065b-4e23-bb48-2c612ce962f7"
      },
      "source": [
        "df_data.isnull().sum()"
      ],
      "execution_count": 11,
      "outputs": [
        {
          "output_type": "execute_result",
          "data": {
            "text/plain": [
              "UDI                        0\n",
              "Product ID                 0\n",
              "Type                       0\n",
              "Air temperature [K]        0\n",
              "Process temperature [K]    0\n",
              "Rotational speed [rpm]     0\n",
              "Torque [Nm]                0\n",
              "Tool wear [min]            0\n",
              "Machine failure            0\n",
              "TWF                        0\n",
              "HDF                        0\n",
              "PWF                        0\n",
              "OSF                        0\n",
              "RNF                        0\n",
              "dtype: int64"
            ]
          },
          "metadata": {
            "tags": []
          },
          "execution_count": 11
        }
      ]
    },
    {
      "cell_type": "code",
      "metadata": {
        "id": "wySkpbfS_z-H",
        "colab": {
          "base_uri": "https://localhost:8080/"
        },
        "outputId": "e143165f-ffa7-413e-bb2d-25eb63cb00a8"
      },
      "source": [
        "df_data.values"
      ],
      "execution_count": 12,
      "outputs": [
        {
          "output_type": "execute_result",
          "data": {
            "text/plain": [
              "array([[1, 'M14860', 'M', ..., 0, 0, 0],\n",
              "       [2, 'L47181', 'L', ..., 0, 0, 0],\n",
              "       [3, 'L47182', 'L', ..., 0, 0, 0],\n",
              "       ...,\n",
              "       [9998, 'M24857', 'M', ..., 0, 0, 0],\n",
              "       [9999, 'H39412', 'H', ..., 0, 0, 0],\n",
              "       [10000, 'M24859', 'M', ..., 0, 0, 0]], dtype=object)"
            ]
          },
          "metadata": {
            "tags": []
          },
          "execution_count": 12
        }
      ]
    },
    {
      "cell_type": "markdown",
      "metadata": {
        "id": "KEEWB59r_z-H"
      },
      "source": [
        "## Steps 2 and 3. Remove or Imput the missing values"
      ]
    },
    {
      "cell_type": "code",
      "metadata": {
        "id": "-BnWYAwx_z-H",
        "colab": {
          "base_uri": "https://localhost:8080/"
        },
        "outputId": "09890f46-76be-4b17-cc40-cf156fa888a3"
      },
      "source": [
        "import pandas as pd\n",
        "import numpy as np\n",
        "\n",
        "from sklearn.base import TransformerMixin\n",
        "\n",
        "class DataFrameImputer(TransformerMixin):\n",
        "\n",
        "    def __init__(self):\n",
        "        \"\"\"Impute missing values.\n",
        "\n",
        "        Columns of dtype object are imputed with the most frequent value \n",
        "        in column.\n",
        "\n",
        "        Columns of other types are imputed with mean of column.\n",
        "\n",
        "        \"\"\"\n",
        "    def fit(self, X, y=None):\n",
        "\n",
        "        self.fill = pd.Series([X[c].value_counts().index[0]\n",
        "            if X[c].dtype == np.dtype('O') else X[c].mean() for c in X],\n",
        "            index=X.columns)\n",
        "\n",
        "        return self\n",
        "\n",
        "    def transform(self, X, y=None):\n",
        "        return X.fillna(self.fill)\n",
        "\n",
        "\n",
        "\n",
        "X_transition = pd.DataFrame(df_data)\n",
        "X_clean = DataFrameImputer().fit_transform(X_transition)\n",
        "\n",
        "X_clean.isnull().sum()"
      ],
      "execution_count": 13,
      "outputs": [
        {
          "output_type": "execute_result",
          "data": {
            "text/plain": [
              "UDI                        0\n",
              "Product ID                 0\n",
              "Type                       0\n",
              "Air temperature [K]        0\n",
              "Process temperature [K]    0\n",
              "Rotational speed [rpm]     0\n",
              "Torque [Nm]                0\n",
              "Tool wear [min]            0\n",
              "Machine failure            0\n",
              "TWF                        0\n",
              "HDF                        0\n",
              "PWF                        0\n",
              "OSF                        0\n",
              "RNF                        0\n",
              "dtype: int64"
            ]
          },
          "metadata": {
            "tags": []
          },
          "execution_count": 13
        }
      ]
    },
    {
      "cell_type": "code",
      "metadata": {
        "colab": {
          "base_uri": "https://localhost:8080/",
          "height": 197
        },
        "id": "rft4uFTLiAKa",
        "outputId": "04566b76-a6cb-4a8a-c86a-321b68705d8d"
      },
      "source": [
        "X_clean.head()"
      ],
      "execution_count": 14,
      "outputs": [
        {
          "output_type": "execute_result",
          "data": {
            "text/html": [
              "<div>\n",
              "<style scoped>\n",
              "    .dataframe tbody tr th:only-of-type {\n",
              "        vertical-align: middle;\n",
              "    }\n",
              "\n",
              "    .dataframe tbody tr th {\n",
              "        vertical-align: top;\n",
              "    }\n",
              "\n",
              "    .dataframe thead th {\n",
              "        text-align: right;\n",
              "    }\n",
              "</style>\n",
              "<table border=\"1\" class=\"dataframe\">\n",
              "  <thead>\n",
              "    <tr style=\"text-align: right;\">\n",
              "      <th></th>\n",
              "      <th>UDI</th>\n",
              "      <th>Product ID</th>\n",
              "      <th>Type</th>\n",
              "      <th>Air temperature [K]</th>\n",
              "      <th>Process temperature [K]</th>\n",
              "      <th>Rotational speed [rpm]</th>\n",
              "      <th>Torque [Nm]</th>\n",
              "      <th>Tool wear [min]</th>\n",
              "      <th>Machine failure</th>\n",
              "      <th>TWF</th>\n",
              "      <th>HDF</th>\n",
              "      <th>PWF</th>\n",
              "      <th>OSF</th>\n",
              "      <th>RNF</th>\n",
              "    </tr>\n",
              "  </thead>\n",
              "  <tbody>\n",
              "    <tr>\n",
              "      <th>0</th>\n",
              "      <td>1</td>\n",
              "      <td>M14860</td>\n",
              "      <td>M</td>\n",
              "      <td>298.1</td>\n",
              "      <td>308.6</td>\n",
              "      <td>1551</td>\n",
              "      <td>42.8</td>\n",
              "      <td>0</td>\n",
              "      <td>0</td>\n",
              "      <td>0</td>\n",
              "      <td>0</td>\n",
              "      <td>0</td>\n",
              "      <td>0</td>\n",
              "      <td>0</td>\n",
              "    </tr>\n",
              "    <tr>\n",
              "      <th>1</th>\n",
              "      <td>2</td>\n",
              "      <td>L47181</td>\n",
              "      <td>L</td>\n",
              "      <td>298.2</td>\n",
              "      <td>308.7</td>\n",
              "      <td>1408</td>\n",
              "      <td>46.3</td>\n",
              "      <td>3</td>\n",
              "      <td>0</td>\n",
              "      <td>0</td>\n",
              "      <td>0</td>\n",
              "      <td>0</td>\n",
              "      <td>0</td>\n",
              "      <td>0</td>\n",
              "    </tr>\n",
              "    <tr>\n",
              "      <th>2</th>\n",
              "      <td>3</td>\n",
              "      <td>L47182</td>\n",
              "      <td>L</td>\n",
              "      <td>298.1</td>\n",
              "      <td>308.5</td>\n",
              "      <td>1498</td>\n",
              "      <td>49.4</td>\n",
              "      <td>5</td>\n",
              "      <td>0</td>\n",
              "      <td>0</td>\n",
              "      <td>0</td>\n",
              "      <td>0</td>\n",
              "      <td>0</td>\n",
              "      <td>0</td>\n",
              "    </tr>\n",
              "    <tr>\n",
              "      <th>3</th>\n",
              "      <td>4</td>\n",
              "      <td>L47183</td>\n",
              "      <td>L</td>\n",
              "      <td>298.2</td>\n",
              "      <td>308.6</td>\n",
              "      <td>1433</td>\n",
              "      <td>39.5</td>\n",
              "      <td>7</td>\n",
              "      <td>0</td>\n",
              "      <td>0</td>\n",
              "      <td>0</td>\n",
              "      <td>0</td>\n",
              "      <td>0</td>\n",
              "      <td>0</td>\n",
              "    </tr>\n",
              "    <tr>\n",
              "      <th>4</th>\n",
              "      <td>5</td>\n",
              "      <td>L47184</td>\n",
              "      <td>L</td>\n",
              "      <td>298.2</td>\n",
              "      <td>308.7</td>\n",
              "      <td>1408</td>\n",
              "      <td>40.0</td>\n",
              "      <td>9</td>\n",
              "      <td>0</td>\n",
              "      <td>0</td>\n",
              "      <td>0</td>\n",
              "      <td>0</td>\n",
              "      <td>0</td>\n",
              "      <td>0</td>\n",
              "    </tr>\n",
              "  </tbody>\n",
              "</table>\n",
              "</div>"
            ],
            "text/plain": [
              "   UDI Product ID Type  Air temperature [K]  ...  HDF  PWF  OSF  RNF\n",
              "0    1     M14860    M                298.1  ...    0    0    0    0\n",
              "1    2     L47181    L                298.2  ...    0    0    0    0\n",
              "2    3     L47182    L                298.1  ...    0    0    0    0\n",
              "3    4     L47183    L                298.2  ...    0    0    0    0\n",
              "4    5     L47184    L                298.2  ...    0    0    0    0\n",
              "\n",
              "[5 rows x 14 columns]"
            ]
          },
          "metadata": {
            "tags": []
          },
          "execution_count": 14
        }
      ]
    },
    {
      "cell_type": "code",
      "metadata": {
        "id": "YecLrVcQ_z-I",
        "colab": {
          "base_uri": "https://localhost:8080/"
        },
        "outputId": "6f9a9ba0-a240-4288-a228-b3d2212ade50"
      },
      "source": [
        "X_clean.columns"
      ],
      "execution_count": 15,
      "outputs": [
        {
          "output_type": "execute_result",
          "data": {
            "text/plain": [
              "Index(['UDI', 'Product ID', 'Type', 'Air temperature [K]',\n",
              "       'Process temperature [K]', 'Rotational speed [rpm]', 'Torque [Nm]',\n",
              "       'Tool wear [min]', 'Machine failure', 'TWF', 'HDF', 'PWF', 'OSF',\n",
              "       'RNF'],\n",
              "      dtype='object')"
            ]
          },
          "metadata": {
            "tags": []
          },
          "execution_count": 15
        }
      ]
    },
    {
      "cell_type": "code",
      "metadata": {
        "id": "3QBQF3-c_z-I",
        "colab": {
          "base_uri": "https://localhost:8080/",
          "height": 197
        },
        "outputId": "f7fa50b2-0cc0-478d-b131-ae4c11238999"
      },
      "source": [
        "X_clean = X_clean.drop(['Machine failure', 'TWF', 'HDF', 'PWF', 'OSF', 'RNF'], axis=1)  # REMOVE THE TARGET VARIABLE\n",
        "X_clean.head()"
      ],
      "execution_count": 16,
      "outputs": [
        {
          "output_type": "execute_result",
          "data": {
            "text/html": [
              "<div>\n",
              "<style scoped>\n",
              "    .dataframe tbody tr th:only-of-type {\n",
              "        vertical-align: middle;\n",
              "    }\n",
              "\n",
              "    .dataframe tbody tr th {\n",
              "        vertical-align: top;\n",
              "    }\n",
              "\n",
              "    .dataframe thead th {\n",
              "        text-align: right;\n",
              "    }\n",
              "</style>\n",
              "<table border=\"1\" class=\"dataframe\">\n",
              "  <thead>\n",
              "    <tr style=\"text-align: right;\">\n",
              "      <th></th>\n",
              "      <th>UDI</th>\n",
              "      <th>Product ID</th>\n",
              "      <th>Type</th>\n",
              "      <th>Air temperature [K]</th>\n",
              "      <th>Process temperature [K]</th>\n",
              "      <th>Rotational speed [rpm]</th>\n",
              "      <th>Torque [Nm]</th>\n",
              "      <th>Tool wear [min]</th>\n",
              "    </tr>\n",
              "  </thead>\n",
              "  <tbody>\n",
              "    <tr>\n",
              "      <th>0</th>\n",
              "      <td>1</td>\n",
              "      <td>M14860</td>\n",
              "      <td>M</td>\n",
              "      <td>298.1</td>\n",
              "      <td>308.6</td>\n",
              "      <td>1551</td>\n",
              "      <td>42.8</td>\n",
              "      <td>0</td>\n",
              "    </tr>\n",
              "    <tr>\n",
              "      <th>1</th>\n",
              "      <td>2</td>\n",
              "      <td>L47181</td>\n",
              "      <td>L</td>\n",
              "      <td>298.2</td>\n",
              "      <td>308.7</td>\n",
              "      <td>1408</td>\n",
              "      <td>46.3</td>\n",
              "      <td>3</td>\n",
              "    </tr>\n",
              "    <tr>\n",
              "      <th>2</th>\n",
              "      <td>3</td>\n",
              "      <td>L47182</td>\n",
              "      <td>L</td>\n",
              "      <td>298.1</td>\n",
              "      <td>308.5</td>\n",
              "      <td>1498</td>\n",
              "      <td>49.4</td>\n",
              "      <td>5</td>\n",
              "    </tr>\n",
              "    <tr>\n",
              "      <th>3</th>\n",
              "      <td>4</td>\n",
              "      <td>L47183</td>\n",
              "      <td>L</td>\n",
              "      <td>298.2</td>\n",
              "      <td>308.6</td>\n",
              "      <td>1433</td>\n",
              "      <td>39.5</td>\n",
              "      <td>7</td>\n",
              "    </tr>\n",
              "    <tr>\n",
              "      <th>4</th>\n",
              "      <td>5</td>\n",
              "      <td>L47184</td>\n",
              "      <td>L</td>\n",
              "      <td>298.2</td>\n",
              "      <td>308.7</td>\n",
              "      <td>1408</td>\n",
              "      <td>40.0</td>\n",
              "      <td>9</td>\n",
              "    </tr>\n",
              "  </tbody>\n",
              "</table>\n",
              "</div>"
            ],
            "text/plain": [
              "   UDI Product ID Type  ...  Rotational speed [rpm]  Torque [Nm]  Tool wear [min]\n",
              "0    1     M14860    M  ...                    1551         42.8                0\n",
              "1    2     L47181    L  ...                    1408         46.3                3\n",
              "2    3     L47182    L  ...                    1498         49.4                5\n",
              "3    4     L47183    L  ...                    1433         39.5                7\n",
              "4    5     L47184    L  ...                    1408         40.0                9\n",
              "\n",
              "[5 rows x 8 columns]"
            ]
          },
          "metadata": {
            "tags": []
          },
          "execution_count": 16
        }
      ]
    },
    {
      "cell_type": "markdown",
      "metadata": {
        "id": "SGgslmKj_z-I"
      },
      "source": [
        "We can see that the numerical values do not have the same scale. We will need to apply scaling to the test set that we computed for the training set.\n",
        "\n",
        "## Step 4. Handle Categorical Data, for simplicity let's just One Hat Encode all the categorical values"
      ]
    },
    {
      "cell_type": "code",
      "metadata": {
        "id": "3YItTNo8_z-I"
      },
      "source": [
        "XX=pd.get_dummies(X_clean)"
      ],
      "execution_count": 17,
      "outputs": []
    },
    {
      "cell_type": "code",
      "metadata": {
        "id": "VKUt6l7-_z-J",
        "colab": {
          "base_uri": "https://localhost:8080/",
          "height": 280
        },
        "outputId": "14cd1778-79b3-4ed2-f35b-0b07125f9874"
      },
      "source": [
        "XX.head()"
      ],
      "execution_count": 18,
      "outputs": [
        {
          "output_type": "execute_result",
          "data": {
            "text/html": [
              "<div>\n",
              "<style scoped>\n",
              "    .dataframe tbody tr th:only-of-type {\n",
              "        vertical-align: middle;\n",
              "    }\n",
              "\n",
              "    .dataframe tbody tr th {\n",
              "        vertical-align: top;\n",
              "    }\n",
              "\n",
              "    .dataframe thead th {\n",
              "        text-align: right;\n",
              "    }\n",
              "</style>\n",
              "<table border=\"1\" class=\"dataframe\">\n",
              "  <thead>\n",
              "    <tr style=\"text-align: right;\">\n",
              "      <th></th>\n",
              "      <th>UDI</th>\n",
              "      <th>Air temperature [K]</th>\n",
              "      <th>Process temperature [K]</th>\n",
              "      <th>Rotational speed [rpm]</th>\n",
              "      <th>Torque [Nm]</th>\n",
              "      <th>Tool wear [min]</th>\n",
              "      <th>Product ID_H29424</th>\n",
              "      <th>Product ID_H29425</th>\n",
              "      <th>Product ID_H29432</th>\n",
              "      <th>Product ID_H29434</th>\n",
              "      <th>Product ID_H29441</th>\n",
              "      <th>Product ID_H29452</th>\n",
              "      <th>Product ID_H29457</th>\n",
              "      <th>Product ID_H29462</th>\n",
              "      <th>Product ID_H29466</th>\n",
              "      <th>Product ID_H29481</th>\n",
              "      <th>Product ID_H29494</th>\n",
              "      <th>Product ID_H29500</th>\n",
              "      <th>Product ID_H29522</th>\n",
              "      <th>Product ID_H29525</th>\n",
              "      <th>Product ID_H29550</th>\n",
              "      <th>Product ID_H29552</th>\n",
              "      <th>Product ID_H29557</th>\n",
              "      <th>Product ID_H29560</th>\n",
              "      <th>Product ID_H29569</th>\n",
              "      <th>Product ID_H29571</th>\n",
              "      <th>Product ID_H29580</th>\n",
              "      <th>Product ID_H29581</th>\n",
              "      <th>Product ID_H29595</th>\n",
              "      <th>Product ID_H29606</th>\n",
              "      <th>Product ID_H29607</th>\n",
              "      <th>Product ID_H29610</th>\n",
              "      <th>Product ID_H29626</th>\n",
              "      <th>Product ID_H29635</th>\n",
              "      <th>Product ID_H29680</th>\n",
              "      <th>Product ID_H29682</th>\n",
              "      <th>Product ID_H29684</th>\n",
              "      <th>Product ID_H29691</th>\n",
              "      <th>Product ID_H29702</th>\n",
              "      <th>Product ID_H29707</th>\n",
              "      <th>...</th>\n",
              "      <th>Product ID_M24739</th>\n",
              "      <th>Product ID_M24748</th>\n",
              "      <th>Product ID_M24753</th>\n",
              "      <th>Product ID_M24756</th>\n",
              "      <th>Product ID_M24761</th>\n",
              "      <th>Product ID_M24763</th>\n",
              "      <th>Product ID_M24765</th>\n",
              "      <th>Product ID_M24766</th>\n",
              "      <th>Product ID_M24767</th>\n",
              "      <th>Product ID_M24771</th>\n",
              "      <th>Product ID_M24775</th>\n",
              "      <th>Product ID_M24776</th>\n",
              "      <th>Product ID_M24777</th>\n",
              "      <th>Product ID_M24781</th>\n",
              "      <th>Product ID_M24783</th>\n",
              "      <th>Product ID_M24784</th>\n",
              "      <th>Product ID_M24785</th>\n",
              "      <th>Product ID_M24786</th>\n",
              "      <th>Product ID_M24788</th>\n",
              "      <th>Product ID_M24800</th>\n",
              "      <th>Product ID_M24803</th>\n",
              "      <th>Product ID_M24807</th>\n",
              "      <th>Product ID_M24809</th>\n",
              "      <th>Product ID_M24814</th>\n",
              "      <th>Product ID_M24815</th>\n",
              "      <th>Product ID_M24816</th>\n",
              "      <th>Product ID_M24818</th>\n",
              "      <th>Product ID_M24827</th>\n",
              "      <th>Product ID_M24835</th>\n",
              "      <th>Product ID_M24842</th>\n",
              "      <th>Product ID_M24846</th>\n",
              "      <th>Product ID_M24847</th>\n",
              "      <th>Product ID_M24849</th>\n",
              "      <th>Product ID_M24851</th>\n",
              "      <th>Product ID_M24855</th>\n",
              "      <th>Product ID_M24857</th>\n",
              "      <th>Product ID_M24859</th>\n",
              "      <th>Type_H</th>\n",
              "      <th>Type_L</th>\n",
              "      <th>Type_M</th>\n",
              "    </tr>\n",
              "  </thead>\n",
              "  <tbody>\n",
              "    <tr>\n",
              "      <th>0</th>\n",
              "      <td>1</td>\n",
              "      <td>298.1</td>\n",
              "      <td>308.6</td>\n",
              "      <td>1551</td>\n",
              "      <td>42.8</td>\n",
              "      <td>0</td>\n",
              "      <td>0</td>\n",
              "      <td>0</td>\n",
              "      <td>0</td>\n",
              "      <td>0</td>\n",
              "      <td>0</td>\n",
              "      <td>0</td>\n",
              "      <td>0</td>\n",
              "      <td>0</td>\n",
              "      <td>0</td>\n",
              "      <td>0</td>\n",
              "      <td>0</td>\n",
              "      <td>0</td>\n",
              "      <td>0</td>\n",
              "      <td>0</td>\n",
              "      <td>0</td>\n",
              "      <td>0</td>\n",
              "      <td>0</td>\n",
              "      <td>0</td>\n",
              "      <td>0</td>\n",
              "      <td>0</td>\n",
              "      <td>0</td>\n",
              "      <td>0</td>\n",
              "      <td>0</td>\n",
              "      <td>0</td>\n",
              "      <td>0</td>\n",
              "      <td>0</td>\n",
              "      <td>0</td>\n",
              "      <td>0</td>\n",
              "      <td>0</td>\n",
              "      <td>0</td>\n",
              "      <td>0</td>\n",
              "      <td>0</td>\n",
              "      <td>0</td>\n",
              "      <td>0</td>\n",
              "      <td>...</td>\n",
              "      <td>0</td>\n",
              "      <td>0</td>\n",
              "      <td>0</td>\n",
              "      <td>0</td>\n",
              "      <td>0</td>\n",
              "      <td>0</td>\n",
              "      <td>0</td>\n",
              "      <td>0</td>\n",
              "      <td>0</td>\n",
              "      <td>0</td>\n",
              "      <td>0</td>\n",
              "      <td>0</td>\n",
              "      <td>0</td>\n",
              "      <td>0</td>\n",
              "      <td>0</td>\n",
              "      <td>0</td>\n",
              "      <td>0</td>\n",
              "      <td>0</td>\n",
              "      <td>0</td>\n",
              "      <td>0</td>\n",
              "      <td>0</td>\n",
              "      <td>0</td>\n",
              "      <td>0</td>\n",
              "      <td>0</td>\n",
              "      <td>0</td>\n",
              "      <td>0</td>\n",
              "      <td>0</td>\n",
              "      <td>0</td>\n",
              "      <td>0</td>\n",
              "      <td>0</td>\n",
              "      <td>0</td>\n",
              "      <td>0</td>\n",
              "      <td>0</td>\n",
              "      <td>0</td>\n",
              "      <td>0</td>\n",
              "      <td>0</td>\n",
              "      <td>0</td>\n",
              "      <td>0</td>\n",
              "      <td>0</td>\n",
              "      <td>1</td>\n",
              "    </tr>\n",
              "    <tr>\n",
              "      <th>1</th>\n",
              "      <td>2</td>\n",
              "      <td>298.2</td>\n",
              "      <td>308.7</td>\n",
              "      <td>1408</td>\n",
              "      <td>46.3</td>\n",
              "      <td>3</td>\n",
              "      <td>0</td>\n",
              "      <td>0</td>\n",
              "      <td>0</td>\n",
              "      <td>0</td>\n",
              "      <td>0</td>\n",
              "      <td>0</td>\n",
              "      <td>0</td>\n",
              "      <td>0</td>\n",
              "      <td>0</td>\n",
              "      <td>0</td>\n",
              "      <td>0</td>\n",
              "      <td>0</td>\n",
              "      <td>0</td>\n",
              "      <td>0</td>\n",
              "      <td>0</td>\n",
              "      <td>0</td>\n",
              "      <td>0</td>\n",
              "      <td>0</td>\n",
              "      <td>0</td>\n",
              "      <td>0</td>\n",
              "      <td>0</td>\n",
              "      <td>0</td>\n",
              "      <td>0</td>\n",
              "      <td>0</td>\n",
              "      <td>0</td>\n",
              "      <td>0</td>\n",
              "      <td>0</td>\n",
              "      <td>0</td>\n",
              "      <td>0</td>\n",
              "      <td>0</td>\n",
              "      <td>0</td>\n",
              "      <td>0</td>\n",
              "      <td>0</td>\n",
              "      <td>0</td>\n",
              "      <td>...</td>\n",
              "      <td>0</td>\n",
              "      <td>0</td>\n",
              "      <td>0</td>\n",
              "      <td>0</td>\n",
              "      <td>0</td>\n",
              "      <td>0</td>\n",
              "      <td>0</td>\n",
              "      <td>0</td>\n",
              "      <td>0</td>\n",
              "      <td>0</td>\n",
              "      <td>0</td>\n",
              "      <td>0</td>\n",
              "      <td>0</td>\n",
              "      <td>0</td>\n",
              "      <td>0</td>\n",
              "      <td>0</td>\n",
              "      <td>0</td>\n",
              "      <td>0</td>\n",
              "      <td>0</td>\n",
              "      <td>0</td>\n",
              "      <td>0</td>\n",
              "      <td>0</td>\n",
              "      <td>0</td>\n",
              "      <td>0</td>\n",
              "      <td>0</td>\n",
              "      <td>0</td>\n",
              "      <td>0</td>\n",
              "      <td>0</td>\n",
              "      <td>0</td>\n",
              "      <td>0</td>\n",
              "      <td>0</td>\n",
              "      <td>0</td>\n",
              "      <td>0</td>\n",
              "      <td>0</td>\n",
              "      <td>0</td>\n",
              "      <td>0</td>\n",
              "      <td>0</td>\n",
              "      <td>0</td>\n",
              "      <td>1</td>\n",
              "      <td>0</td>\n",
              "    </tr>\n",
              "    <tr>\n",
              "      <th>2</th>\n",
              "      <td>3</td>\n",
              "      <td>298.1</td>\n",
              "      <td>308.5</td>\n",
              "      <td>1498</td>\n",
              "      <td>49.4</td>\n",
              "      <td>5</td>\n",
              "      <td>0</td>\n",
              "      <td>0</td>\n",
              "      <td>0</td>\n",
              "      <td>0</td>\n",
              "      <td>0</td>\n",
              "      <td>0</td>\n",
              "      <td>0</td>\n",
              "      <td>0</td>\n",
              "      <td>0</td>\n",
              "      <td>0</td>\n",
              "      <td>0</td>\n",
              "      <td>0</td>\n",
              "      <td>0</td>\n",
              "      <td>0</td>\n",
              "      <td>0</td>\n",
              "      <td>0</td>\n",
              "      <td>0</td>\n",
              "      <td>0</td>\n",
              "      <td>0</td>\n",
              "      <td>0</td>\n",
              "      <td>0</td>\n",
              "      <td>0</td>\n",
              "      <td>0</td>\n",
              "      <td>0</td>\n",
              "      <td>0</td>\n",
              "      <td>0</td>\n",
              "      <td>0</td>\n",
              "      <td>0</td>\n",
              "      <td>0</td>\n",
              "      <td>0</td>\n",
              "      <td>0</td>\n",
              "      <td>0</td>\n",
              "      <td>0</td>\n",
              "      <td>0</td>\n",
              "      <td>...</td>\n",
              "      <td>0</td>\n",
              "      <td>0</td>\n",
              "      <td>0</td>\n",
              "      <td>0</td>\n",
              "      <td>0</td>\n",
              "      <td>0</td>\n",
              "      <td>0</td>\n",
              "      <td>0</td>\n",
              "      <td>0</td>\n",
              "      <td>0</td>\n",
              "      <td>0</td>\n",
              "      <td>0</td>\n",
              "      <td>0</td>\n",
              "      <td>0</td>\n",
              "      <td>0</td>\n",
              "      <td>0</td>\n",
              "      <td>0</td>\n",
              "      <td>0</td>\n",
              "      <td>0</td>\n",
              "      <td>0</td>\n",
              "      <td>0</td>\n",
              "      <td>0</td>\n",
              "      <td>0</td>\n",
              "      <td>0</td>\n",
              "      <td>0</td>\n",
              "      <td>0</td>\n",
              "      <td>0</td>\n",
              "      <td>0</td>\n",
              "      <td>0</td>\n",
              "      <td>0</td>\n",
              "      <td>0</td>\n",
              "      <td>0</td>\n",
              "      <td>0</td>\n",
              "      <td>0</td>\n",
              "      <td>0</td>\n",
              "      <td>0</td>\n",
              "      <td>0</td>\n",
              "      <td>0</td>\n",
              "      <td>1</td>\n",
              "      <td>0</td>\n",
              "    </tr>\n",
              "    <tr>\n",
              "      <th>3</th>\n",
              "      <td>4</td>\n",
              "      <td>298.2</td>\n",
              "      <td>308.6</td>\n",
              "      <td>1433</td>\n",
              "      <td>39.5</td>\n",
              "      <td>7</td>\n",
              "      <td>0</td>\n",
              "      <td>0</td>\n",
              "      <td>0</td>\n",
              "      <td>0</td>\n",
              "      <td>0</td>\n",
              "      <td>0</td>\n",
              "      <td>0</td>\n",
              "      <td>0</td>\n",
              "      <td>0</td>\n",
              "      <td>0</td>\n",
              "      <td>0</td>\n",
              "      <td>0</td>\n",
              "      <td>0</td>\n",
              "      <td>0</td>\n",
              "      <td>0</td>\n",
              "      <td>0</td>\n",
              "      <td>0</td>\n",
              "      <td>0</td>\n",
              "      <td>0</td>\n",
              "      <td>0</td>\n",
              "      <td>0</td>\n",
              "      <td>0</td>\n",
              "      <td>0</td>\n",
              "      <td>0</td>\n",
              "      <td>0</td>\n",
              "      <td>0</td>\n",
              "      <td>0</td>\n",
              "      <td>0</td>\n",
              "      <td>0</td>\n",
              "      <td>0</td>\n",
              "      <td>0</td>\n",
              "      <td>0</td>\n",
              "      <td>0</td>\n",
              "      <td>0</td>\n",
              "      <td>...</td>\n",
              "      <td>0</td>\n",
              "      <td>0</td>\n",
              "      <td>0</td>\n",
              "      <td>0</td>\n",
              "      <td>0</td>\n",
              "      <td>0</td>\n",
              "      <td>0</td>\n",
              "      <td>0</td>\n",
              "      <td>0</td>\n",
              "      <td>0</td>\n",
              "      <td>0</td>\n",
              "      <td>0</td>\n",
              "      <td>0</td>\n",
              "      <td>0</td>\n",
              "      <td>0</td>\n",
              "      <td>0</td>\n",
              "      <td>0</td>\n",
              "      <td>0</td>\n",
              "      <td>0</td>\n",
              "      <td>0</td>\n",
              "      <td>0</td>\n",
              "      <td>0</td>\n",
              "      <td>0</td>\n",
              "      <td>0</td>\n",
              "      <td>0</td>\n",
              "      <td>0</td>\n",
              "      <td>0</td>\n",
              "      <td>0</td>\n",
              "      <td>0</td>\n",
              "      <td>0</td>\n",
              "      <td>0</td>\n",
              "      <td>0</td>\n",
              "      <td>0</td>\n",
              "      <td>0</td>\n",
              "      <td>0</td>\n",
              "      <td>0</td>\n",
              "      <td>0</td>\n",
              "      <td>0</td>\n",
              "      <td>1</td>\n",
              "      <td>0</td>\n",
              "    </tr>\n",
              "    <tr>\n",
              "      <th>4</th>\n",
              "      <td>5</td>\n",
              "      <td>298.2</td>\n",
              "      <td>308.7</td>\n",
              "      <td>1408</td>\n",
              "      <td>40.0</td>\n",
              "      <td>9</td>\n",
              "      <td>0</td>\n",
              "      <td>0</td>\n",
              "      <td>0</td>\n",
              "      <td>0</td>\n",
              "      <td>0</td>\n",
              "      <td>0</td>\n",
              "      <td>0</td>\n",
              "      <td>0</td>\n",
              "      <td>0</td>\n",
              "      <td>0</td>\n",
              "      <td>0</td>\n",
              "      <td>0</td>\n",
              "      <td>0</td>\n",
              "      <td>0</td>\n",
              "      <td>0</td>\n",
              "      <td>0</td>\n",
              "      <td>0</td>\n",
              "      <td>0</td>\n",
              "      <td>0</td>\n",
              "      <td>0</td>\n",
              "      <td>0</td>\n",
              "      <td>0</td>\n",
              "      <td>0</td>\n",
              "      <td>0</td>\n",
              "      <td>0</td>\n",
              "      <td>0</td>\n",
              "      <td>0</td>\n",
              "      <td>0</td>\n",
              "      <td>0</td>\n",
              "      <td>0</td>\n",
              "      <td>0</td>\n",
              "      <td>0</td>\n",
              "      <td>0</td>\n",
              "      <td>0</td>\n",
              "      <td>...</td>\n",
              "      <td>0</td>\n",
              "      <td>0</td>\n",
              "      <td>0</td>\n",
              "      <td>0</td>\n",
              "      <td>0</td>\n",
              "      <td>0</td>\n",
              "      <td>0</td>\n",
              "      <td>0</td>\n",
              "      <td>0</td>\n",
              "      <td>0</td>\n",
              "      <td>0</td>\n",
              "      <td>0</td>\n",
              "      <td>0</td>\n",
              "      <td>0</td>\n",
              "      <td>0</td>\n",
              "      <td>0</td>\n",
              "      <td>0</td>\n",
              "      <td>0</td>\n",
              "      <td>0</td>\n",
              "      <td>0</td>\n",
              "      <td>0</td>\n",
              "      <td>0</td>\n",
              "      <td>0</td>\n",
              "      <td>0</td>\n",
              "      <td>0</td>\n",
              "      <td>0</td>\n",
              "      <td>0</td>\n",
              "      <td>0</td>\n",
              "      <td>0</td>\n",
              "      <td>0</td>\n",
              "      <td>0</td>\n",
              "      <td>0</td>\n",
              "      <td>0</td>\n",
              "      <td>0</td>\n",
              "      <td>0</td>\n",
              "      <td>0</td>\n",
              "      <td>0</td>\n",
              "      <td>0</td>\n",
              "      <td>1</td>\n",
              "      <td>0</td>\n",
              "    </tr>\n",
              "  </tbody>\n",
              "</table>\n",
              "<p>5 rows × 10009 columns</p>\n",
              "</div>"
            ],
            "text/plain": [
              "   UDI  Air temperature [K]  Process temperature [K]  ...  Type_H  Type_L  Type_M\n",
              "0    1                298.1                    308.6  ...       0       0       1\n",
              "1    2                298.2                    308.7  ...       0       1       0\n",
              "2    3                298.1                    308.5  ...       0       1       0\n",
              "3    4                298.2                    308.6  ...       0       1       0\n",
              "4    5                298.2                    308.7  ...       0       1       0\n",
              "\n",
              "[5 rows x 10009 columns]"
            ]
          },
          "metadata": {
            "tags": []
          },
          "execution_count": 18
        }
      ]
    },
    {
      "cell_type": "code",
      "metadata": {
        "id": "8uQacCdl_z-J",
        "colab": {
          "base_uri": "https://localhost:8080/"
        },
        "outputId": "bd42ba57-bf68-4f91-9458-423f39a5f0e5"
      },
      "source": [
        "X_clean.shape"
      ],
      "execution_count": 19,
      "outputs": [
        {
          "output_type": "execute_result",
          "data": {
            "text/plain": [
              "(10000, 8)"
            ]
          },
          "metadata": {
            "tags": []
          },
          "execution_count": 19
        }
      ]
    },
    {
      "cell_type": "code",
      "metadata": {
        "id": "U99O3oyx_z-J",
        "colab": {
          "base_uri": "https://localhost:8080/"
        },
        "outputId": "396eb422-e290-4b4d-9ad1-8be4382d4616"
      },
      "source": [
        "XX.shape"
      ],
      "execution_count": 20,
      "outputs": [
        {
          "output_type": "execute_result",
          "data": {
            "text/plain": [
              "(10000, 10009)"
            ]
          },
          "metadata": {
            "tags": []
          },
          "execution_count": 20
        }
      ]
    },
    {
      "cell_type": "code",
      "metadata": {
        "id": "5s1dMrha_z-J"
      },
      "source": [
        "XX_column_names =XX.columns"
      ],
      "execution_count": 21,
      "outputs": []
    },
    {
      "cell_type": "markdown",
      "metadata": {
        "id": "W5niNoh9_z-K"
      },
      "source": [
        "# Step 5: Apply Scaler"
      ]
    },
    {
      "cell_type": "code",
      "metadata": {
        "id": "puDKeCdP_z-K"
      },
      "source": [
        "from sklearn.preprocessing import MinMaxScaler\n",
        "sscaler = MinMaxScaler()\n",
        "XX = sscaler.fit_transform(X_clean.drop(['UDI', 'Product ID','Type'], axis=1).astype(np.float)) #You will loss the column names"
      ],
      "execution_count": 22,
      "outputs": []
    },
    {
      "cell_type": "code",
      "metadata": {
        "id": "Mm_m7GL7_z-K",
        "colab": {
          "base_uri": "https://localhost:8080/"
        },
        "outputId": "81903a29-6167-47c8-abad-d1542fd9aab5"
      },
      "source": [
        "XX"
      ],
      "execution_count": 23,
      "outputs": [
        {
          "output_type": "execute_result",
          "data": {
            "text/plain": [
              "array([[0.30434783, 0.35802469, 0.22293364, 0.53571429, 0.        ],\n",
              "       [0.31521739, 0.37037037, 0.13969732, 0.58379121, 0.01185771],\n",
              "       [0.30434783, 0.34567901, 0.19208382, 0.62637363, 0.01976285],\n",
              "       ...,\n",
              "       [0.40217391, 0.35802469, 0.27764843, 0.40659341, 0.08695652],\n",
              "       [0.40217391, 0.37037037, 0.13969732, 0.61401099, 0.09881423],\n",
              "       [0.40217391, 0.37037037, 0.19324796, 0.5       , 0.11857708]])"
            ]
          },
          "metadata": {
            "tags": []
          },
          "execution_count": 23
        }
      ]
    },
    {
      "cell_type": "code",
      "metadata": {
        "id": "o5FxOJed_z-K"
      },
      "source": [
        ""
      ],
      "execution_count": 23,
      "outputs": []
    },
    {
      "cell_type": "code",
      "metadata": {
        "id": "-S6oByE7_z-K",
        "colab": {
          "base_uri": "https://localhost:8080/",
          "height": 197
        },
        "outputId": "ba0fe678-38b2-4dee-e2c9-0fcb10bf0789"
      },
      "source": [
        "XX_df = pd.DataFrame(data = XX,columns = X_clean.drop(['UDI', 'Product ID','Type'], axis=1).columns) # Return the column names\n",
        "XX_df.head()"
      ],
      "execution_count": 24,
      "outputs": [
        {
          "output_type": "execute_result",
          "data": {
            "text/html": [
              "<div>\n",
              "<style scoped>\n",
              "    .dataframe tbody tr th:only-of-type {\n",
              "        vertical-align: middle;\n",
              "    }\n",
              "\n",
              "    .dataframe tbody tr th {\n",
              "        vertical-align: top;\n",
              "    }\n",
              "\n",
              "    .dataframe thead th {\n",
              "        text-align: right;\n",
              "    }\n",
              "</style>\n",
              "<table border=\"1\" class=\"dataframe\">\n",
              "  <thead>\n",
              "    <tr style=\"text-align: right;\">\n",
              "      <th></th>\n",
              "      <th>Air temperature [K]</th>\n",
              "      <th>Process temperature [K]</th>\n",
              "      <th>Rotational speed [rpm]</th>\n",
              "      <th>Torque [Nm]</th>\n",
              "      <th>Tool wear [min]</th>\n",
              "    </tr>\n",
              "  </thead>\n",
              "  <tbody>\n",
              "    <tr>\n",
              "      <th>0</th>\n",
              "      <td>0.304348</td>\n",
              "      <td>0.358025</td>\n",
              "      <td>0.222934</td>\n",
              "      <td>0.535714</td>\n",
              "      <td>0.000000</td>\n",
              "    </tr>\n",
              "    <tr>\n",
              "      <th>1</th>\n",
              "      <td>0.315217</td>\n",
              "      <td>0.370370</td>\n",
              "      <td>0.139697</td>\n",
              "      <td>0.583791</td>\n",
              "      <td>0.011858</td>\n",
              "    </tr>\n",
              "    <tr>\n",
              "      <th>2</th>\n",
              "      <td>0.304348</td>\n",
              "      <td>0.345679</td>\n",
              "      <td>0.192084</td>\n",
              "      <td>0.626374</td>\n",
              "      <td>0.019763</td>\n",
              "    </tr>\n",
              "    <tr>\n",
              "      <th>3</th>\n",
              "      <td>0.315217</td>\n",
              "      <td>0.358025</td>\n",
              "      <td>0.154249</td>\n",
              "      <td>0.490385</td>\n",
              "      <td>0.027668</td>\n",
              "    </tr>\n",
              "    <tr>\n",
              "      <th>4</th>\n",
              "      <td>0.315217</td>\n",
              "      <td>0.370370</td>\n",
              "      <td>0.139697</td>\n",
              "      <td>0.497253</td>\n",
              "      <td>0.035573</td>\n",
              "    </tr>\n",
              "  </tbody>\n",
              "</table>\n",
              "</div>"
            ],
            "text/plain": [
              "   Air temperature [K]  Process temperature [K]  ...  Torque [Nm]  Tool wear [min]\n",
              "0             0.304348                 0.358025  ...     0.535714         0.000000\n",
              "1             0.315217                 0.370370  ...     0.583791         0.011858\n",
              "2             0.304348                 0.345679  ...     0.626374         0.019763\n",
              "3             0.315217                 0.358025  ...     0.490385         0.027668\n",
              "4             0.315217                 0.370370  ...     0.497253         0.035573\n",
              "\n",
              "[5 rows x 5 columns]"
            ]
          },
          "metadata": {
            "tags": []
          },
          "execution_count": 24
        }
      ]
    },
    {
      "cell_type": "markdown",
      "metadata": {
        "id": "DQLyv6ke_z-K"
      },
      "source": [
        "# Step 6:  Now let's run an automated Machine Learning to the above processed data\n",
        "\n",
        "Below we combine the notebook codes previously shared into a single running code to create an **Automated ML**"
      ]
    },
    {
      "cell_type": "code",
      "metadata": {
        "id": "lnvjFFkk_z-K"
      },
      "source": [
        "from sklearn.neighbors import KNeighborsClassifier\n",
        "from sklearn.linear_model import LogisticRegression\n",
        "from sklearn.svm import LinearSVC\n",
        "from sklearn.svm import SVC\n",
        "from sklearn.ensemble import RandomForestClassifier\n",
        "from sklearn.ensemble import GradientBoostingClassifier\n",
        "from sklearn.model_selection import train_test_split\n",
        "\n",
        "Number_trials=20\n",
        "\n",
        "def train_knn(X, y):\n",
        "    score_train = []\n",
        "    score_test = []\n",
        "\n",
        "    for seed in range(Number_trials):\n",
        "        X_train, X_test, y_train, y_test = train_test_split(X, y, test_size=0.25, random_state=seed)\n",
        "        neighbors_settings = range(1,20)\n",
        "        acc_train = []\n",
        "        acc_test = []\n",
        "\n",
        "        for n_neighbors in neighbors_settings:   \n",
        "            clf = KNeighborsClassifier(n_neighbors=n_neighbors) # build the model \n",
        "            clf.fit(X_train, y_train)    \n",
        "            acc_train.append(clf.score(X_train, y_train))\n",
        "            acc_test.append(clf.score(X_test, y_test))\n",
        "\n",
        "        score_train.append(acc_train)\n",
        "        score_test.append(acc_test)   \n",
        "        \n",
        "    score = np.mean(score_test, axis=0)\n",
        "    run_time = (time.time() - start_time)\n",
        "    return ['kNN', np.amax(score), 'N_Neighbor = {0}'.format(np.argmax(score)+1), 'NA',run_time]\n",
        "\n",
        "def train_logistic(X, y, reg):\n",
        "    C = [1e-8, 1e-4, 1e-3, 1e-2, 0.1, 0.2,0.4, 0.75, 1, 1.5, 3, 5, 10, 15,  20, 100, 300, 1000, 5000]\n",
        "    #C = [.01, .1]\n",
        "    score_train = []\n",
        "    score_test = []\n",
        "    weighted_coefs=[]\n",
        "    \n",
        "    for seed in range(Number_trials):\n",
        "        training_accuracy = []  \n",
        "        test_accuracy = []\n",
        "        X_train, X_test, y_train, y_test = train_test_split(X, y, test_size=0.25, random_state=seed)\n",
        "        for alpha_run in C:\n",
        "            if reg == 'l1':\n",
        "                lr = LogisticRegression(C=alpha_run, penalty=reg, solver='liblinear').fit(X_train, y_train)\n",
        "            if reg == 'l2':\n",
        "                lr = LogisticRegression(C=alpha_run, penalty=reg, dual=False).fit(X_train, y_train)\n",
        "            \n",
        "            \n",
        "            training_accuracy.append(lr.score(X_train, y_train))\n",
        "            test_accuracy.append(lr.score(X_test, y_test))\n",
        "            coefs=lr.coef_ \n",
        "            weighted_coefs.append(coefs) #append all the computed coefficients per trial\n",
        "                \n",
        "        score_train.append(training_accuracy)\n",
        "        score_test.append(test_accuracy)\n",
        "    \n",
        "    mean_coefs=np.mean(weighted_coefs, axis=0) #get the mean of the weighted coefficients over all the trials \n",
        "    #print(mean_coefs) \n",
        "    score = np.mean(score_test, axis=0)\n",
        "    \n",
        "    #Plot the weight of the parameters \n",
        "    top_predictor=X.columns[np.argmax(np.abs(mean_coefs[0,:]))]\n",
        "    abs_mean_coefs = np.abs(mean_coefs[0,:])\n",
        "    coefs_count = len(abs_mean_coefs)\n",
        "    fig, ax = plt.subplots(figsize=(7,3))\n",
        "    ax.barh(np.arange(coefs_count), sorted(abs_mean_coefs))\n",
        "     \n",
        "    ax.set_yticks(np.arange(coefs_count))\n",
        "    ax.set_yticklabels(X.columns[np.argsort(abs_mean_coefs)])\n",
        "    \n",
        "    run_time = (time.time() - start_time)\n",
        "    return ['Logistic ({0})'.format(reg), np.amax(score), \\\n",
        "            'C = {0}'.format(C[np.argmax(score)]), top_predictor, run_time]\n",
        "\n",
        "def train_svm(X, y, reg):\n",
        "    C = [1e-8, 1e-4, 1e-3, 1e-2, 0.1, 0.2,0.4, 0.75, 1, 1.5, 3, 5, 10, 15,  20, 100, 300, 1000, 5000]\n",
        "    #C = [.01, .1]\n",
        "    score_train = []\n",
        "    score_test = []\n",
        "    weighted_coefs=[]\n",
        "    \n",
        "    for seed in range(Number_trials):\n",
        "        training_accuracy = []  \n",
        "        test_accuracy = []\n",
        "        X_train, X_test, y_train, y_test = train_test_split(X, y, test_size=0.25, random_state=seed)\n",
        "        for alpha_run in C:\n",
        "            if reg == 'l1':\n",
        "                svc = LinearSVC(C=alpha_run, penalty=reg, loss='squared_hinge', dual=False).fit(X_train, y_train)\n",
        "            if reg == 'l2':\n",
        "                svc = LinearSVC(C=alpha_run, penalty=reg).fit(X_train, y_train)\n",
        "            training_accuracy.append(svc.score(X_train, y_train))\n",
        "            test_accuracy.append(svc.score(X_test, y_test))\n",
        "           # if alpha_run == 0.01:\n",
        "            coefs = svc.coef_\n",
        "            weighted_coefs.append(coefs)\n",
        "                \n",
        "        score_train.append(training_accuracy)\n",
        "        score_test.append(test_accuracy)\n",
        " \n",
        "\n",
        "    mean_coefs=np.mean(weighted_coefs, axis=0) #get the mean of the weighted coefficients over all the trials       \n",
        "    score = np.mean(score_test, axis=0)\n",
        "    \n",
        "\n",
        "    top_predictor=X.columns[np.argmax(np.abs(mean_coefs[0,:]))]\n",
        "    abs_mean_coefs = np.abs(mean_coefs[0,:])\n",
        "    coefs_count = len(abs_mean_coefs)\n",
        "    fig, ax = plt.subplots(figsize=(7,3))\n",
        "    ax.barh(np.arange(coefs_count), sorted(abs_mean_coefs))\n",
        "        \n",
        "    ax.set_yticks(np.arange(coefs_count))\n",
        "    ax.set_yticklabels(X.columns[np.argsort(abs_mean_coefs)])\n",
        "    \n",
        "    run_time = (time.time() - start_time)\n",
        "    return ['Linear SVM ({0})'.format(reg), np.amax(score), \\\n",
        "            'C = {0}'.format(C[np.argmax(score)]), top_predictor,run_time]\n",
        "\n",
        "def train_RF(X, y, reg):\n",
        "    max_features_tuning=[0.1, .2, .3, .4, .5, .7, .8]\n",
        "    #C = [.01, .1]\n",
        "    score_train = []\n",
        "    score_test = []\n",
        "    weighted_coefs=[]\n",
        "    \n",
        "    for seed in range(Number_trials):\n",
        "        training_accuracy = []  \n",
        "        test_accuracy = []\n",
        "        X_train, X_test, y_train, y_test = train_test_split(X, y, test_size=0.25, random_state=seed)\n",
        "        for max_features_run in max_features_tuning:\n",
        "            svc = RandomForestClassifier(n_estimators=100, max_features=max_features_run).fit(X_train, y_train)\n",
        "            training_accuracy.append(svc.score(X_train, y_train))\n",
        "            test_accuracy.append(svc.score(X_test, y_test))\n",
        "           # if alpha_run == 0.01:\n",
        "            coefs = svc.feature_importances_\n",
        "            weighted_coefs.append(coefs)\n",
        "                \n",
        "        score_train.append(training_accuracy)\n",
        "        score_test.append(test_accuracy)\n",
        " \n",
        "\n",
        "    mean_coefs=np.mean(weighted_coefs, axis=0) #get the mean of the weighted coefficients over all the trials       \n",
        "    score = np.mean(score_test, axis=0)\n",
        "    \n",
        "\n",
        "    top_predictor=X.columns[np.argmax(np.abs(mean_coefs))]\n",
        "    abs_mean_coefs = np.abs(mean_coefs[:])\n",
        "    coefs_count = len(abs_mean_coefs)\n",
        "    fig, ax = plt.subplots(figsize=(7,3))\n",
        "    ax.barh(np.arange(coefs_count), sorted(abs_mean_coefs))\n",
        "        \n",
        "    ax.set_yticks(np.arange(coefs_count))\n",
        "    ax.set_yticklabels(X.columns[np.argsort(abs_mean_coefs)])\n",
        "    \n",
        "    run_time = (time.time() - start_time)\n",
        "    return ['Random Forest', np.amax(score), \\\n",
        "            'Max_features = {0}'.format(max_features_tuning[np.argmax(score)]), top_predictor,run_time]\n",
        "\n",
        "def train_GBM(X, y, reg):\n",
        "    max_features_tuning=[0.1, .2, .3, .4, .5, .7, .8]\n",
        "    #C = [.01, .1]\n",
        "    score_train = []\n",
        "    score_test = []\n",
        "    weighted_coefs=[]\n",
        "    \n",
        "    for seed in range(Number_trials):\n",
        "        training_accuracy = []  \n",
        "        test_accuracy = []\n",
        "        X_train, X_test, y_train, y_test = train_test_split(X, y, test_size=0.25, random_state=seed)\n",
        "        for max_features_run in max_features_tuning:\n",
        "            svc = GradientBoostingClassifier(n_estimators=100,max_depth=3, max_features=max_features_run).fit(X_train, y_train)\n",
        "            training_accuracy.append(svc.score(X_train, y_train))\n",
        "            test_accuracy.append(svc.score(X_test, y_test))\n",
        "           # if alpha_run == 0.01:\n",
        "            coefs = svc.feature_importances_\n",
        "            weighted_coefs.append(coefs)\n",
        "                \n",
        "        score_train.append(training_accuracy)\n",
        "        score_test.append(test_accuracy)\n",
        " \n",
        "\n",
        "    mean_coefs=np.mean(weighted_coefs, axis=0) #get the mean of the weighted coefficients over all the trials       \n",
        "    score = np.mean(score_test, axis=0)\n",
        "    \n",
        "\n",
        "    top_predictor=X.columns[np.argmax(np.abs(mean_coefs))]\n",
        "    abs_mean_coefs = np.abs(mean_coefs[:])\n",
        "    coefs_count = len(abs_mean_coefs)\n",
        "    fig, ax = plt.subplots(figsize=(7,3))\n",
        "    ax.barh(np.arange(coefs_count), sorted(abs_mean_coefs))\n",
        "        \n",
        "    ax.set_yticks(np.arange(coefs_count))\n",
        "    ax.set_yticklabels(X.columns[np.argsort(abs_mean_coefs)])\n",
        "    \n",
        "    run_time = (time.time() - start_time)\n",
        "    return ['Gradient Boosting Method', np.amax(score), \\\n",
        "            'Max_features = {0}'.format(max_features_tuning[np.argmax(score)]), top_predictor,run_time]\n",
        "\n"
      ],
      "execution_count": 25,
      "outputs": []
    },
    {
      "cell_type": "code",
      "metadata": {
        "id": "IN2XZS9Na4NW"
      },
      "source": [
        "#df_data = df_data.drop(['Machine failure', 'TWF', 'HDF', 'PWF', 'OSF', 'RNF'], axis=1)\n",
        "df_MF = df_data.drop(['TWF', 'HDF', 'PWF', 'OSF', 'RNF'], axis=1)\n",
        "df_TWF = df_data.drop(['Machine failure', 'HDF', 'PWF', 'OSF', 'RNF'], axis=1)\n",
        "df_HDF = df_data.drop(['Machine failure', 'TWF', 'PWF', 'OSF', 'RNF'], axis=1)\n",
        "df_PWF = df_data.drop(['Machine failure', 'TWF', 'HDF', 'OSF', 'RNF'], axis=1)\n",
        "df_OSF = df_data.drop(['Machine failure', 'TWF', 'HDF', 'PWF', 'RNF'], axis=1)\n",
        "df_RNF = df_data.drop(['Machine failure', 'TWF', 'HDF', 'PWF', 'OSF'], axis=1)\n",
        "\n",
        "#df_RNF.head()"
      ],
      "execution_count": 26,
      "outputs": []
    },
    {
      "cell_type": "code",
      "metadata": {
        "scrolled": false,
        "id": "Dac9rMbt_z-N",
        "colab": {
          "base_uri": "https://localhost:8080/",
          "height": 1000
        },
        "outputId": "dca48351-deed-4265-8fc3-8a2765ae0440"
      },
      "source": [
        "#@title\n",
        "X = XX_df\n",
        "y = df_MF['Machine failure']\n",
        "\n",
        "import time\n",
        "\n",
        "start_time = time.time()\n",
        "a = train_knn(X,y)\n",
        "print(a)\n",
        "print(\"%s seconds\" % a[4])\n",
        "\n",
        "start_time = time.time()\n",
        "b = train_logistic(X,y,reg='l2')\n",
        "print(b)\n",
        "print(\"%s seconds\" % b[4])\n",
        "\n",
        "start_time = time.time()\n",
        "c = train_logistic(X,y,reg='l1')\n",
        "print(c)\n",
        "print(\"%s seconds\" % c[4])\n",
        "\n",
        "start_time = time.time()\n",
        "d = train_svm(X,y,reg='l2')\n",
        "print(d)\n",
        "print(\"%s seconds\" % d[4])\n",
        "\n",
        "start_time = time.time()\n",
        "e = train_svm(X,y,reg='l1')\n",
        "print(e)\n",
        "print(\"%s seconds\" % e[4])\n",
        "\n",
        "start_time = time.time()\n",
        "f = train_RF(X,y,reg='none')\n",
        "print(f)\n",
        "print(\"%s seconds\" % f[4])\n",
        "\n",
        "start_time = time.time()\n",
        "g = train_GBM(X,y,reg='none')\n",
        "print(g)\n",
        "print(\"%s seconds\" % f[4])"
      ],
      "execution_count": 27,
      "outputs": [
        {
          "output_type": "stream",
          "text": [
            "['kNN', 0.9718599999999998, 'N_Neighbor = 5', 'NA', 150.50935220718384]\n",
            "150.50935220718384 seconds\n",
            "['Logistic (l2)', 0.9699, 'C = 100', 'Torque [Nm]', 16.3646183013916]\n",
            "16.3646183013916 seconds\n",
            "['Logistic (l1)', 0.96998, 'C = 1.5', 'Torque [Nm]', 59.13896346092224]\n",
            "59.13896346092224 seconds\n",
            "['Linear SVM (l2)', 0.9681000000000001, 'C = 100', 'Torque [Nm]', 45.70512080192566]\n",
            "45.70512080192566 seconds\n",
            "['Linear SVM (l1)', 0.96706, 'C = 5000', 'Rotational speed [rpm]', 128.51935648918152]\n",
            "128.51935648918152 seconds\n",
            "['Random Forest', 0.9856000000000001, 'Max_features = 0.8', 'Torque [Nm]', 135.14281702041626]\n",
            "135.14281702041626 seconds\n",
            "['Gradient Boosting Method', 0.9829800000000001, 'Max_features = 0.8', 'Torque [Nm]', 66.63399505615234]\n",
            "135.14281702041626 seconds\n"
          ],
          "name": "stdout"
        },
        {
          "output_type": "display_data",
          "data": {
            "image/png": "[encoded data removed]",
            "text/plain": [
              "<Figure size 504x216 with 1 Axes>"
            ]
          },
          "metadata": {
            "tags": [],
            "needs_background": "light"
          }
        },
        {
          "output_type": "display_data",
          "data": {
            "image/png": "[encoded data removed]",
            "text/plain": [
              "<Figure size 504x216 with 1 Axes>"
            ]
          },
          "metadata": {
            "tags": [],
            "needs_background": "light"
          }
        },
        {
          "output_type": "display_data",
          "data": {
            "image/png": "[encoded data removed]",
            "text/plain": [
              "<Figure size 504x216 with 1 Axes>"
            ]
          },
          "metadata": {
            "tags": [],
            "needs_background": "light"
          }
        },
        {
          "output_type": "display_data",
          "data": {
            "image/png": "[encoded data removed]",
            "text/plain": [
              "<Figure size 504x216 with 1 Axes>"
            ]
          },
          "metadata": {
            "tags": [],
            "needs_background": "light"
          }
        },
        {
          "output_type": "display_data",
          "data": {
            "image/png": "[encoded data removed]",
            "text/plain": [
              "<Figure size 504x216 with 1 Axes>"
            ]
          },
          "metadata": {
            "tags": [],
            "needs_background": "light"
          }
        },
        {
          "output_type": "display_data",
          "data": {
            "image/png": "[encoded data removed]",
            "text/plain": [
              "<Figure size 504x216 with 1 Axes>"
            ]
          },
          "metadata": {
            "tags": [],
            "needs_background": "light"
          }
        }
      ]
    },
    {
      "cell_type": "code",
      "metadata": {
        "id": "fZtHFt88_z-O",
        "colab": {
          "base_uri": "https://localhost:8080/",
          "height": 257
        },
        "outputId": "0c6a0051-bb3f-4ed8-e433-75fc3714ec4d"
      },
      "source": [
        "cols = ['Machine Learning Method', 'Test Accuracy', 'Best Parameter', 'Top Predictor Variable', 'Run Time']\n",
        "df2 = pd.DataFrame(columns=cols)\n",
        "\n",
        "df2.loc[0] = a\n",
        "df2.loc[1] = b\n",
        "df2.loc[2] = c\n",
        "df2.loc[3] = d\n",
        "df2.loc[4] = e\n",
        "df2.loc[5] = f\n",
        "df2.loc[6] = g\n",
        "\n",
        "df2"
      ],
      "execution_count": 28,
      "outputs": [
        {
          "output_type": "execute_result",
          "data": {
            "text/html": [
              "<div>\n",
              "<style scoped>\n",
              "    .dataframe tbody tr th:only-of-type {\n",
              "        vertical-align: middle;\n",
              "    }\n",
              "\n",
              "    .dataframe tbody tr th {\n",
              "        vertical-align: top;\n",
              "    }\n",
              "\n",
              "    .dataframe thead th {\n",
              "        text-align: right;\n",
              "    }\n",
              "</style>\n",
              "<table border=\"1\" class=\"dataframe\">\n",
              "  <thead>\n",
              "    <tr style=\"text-align: right;\">\n",
              "      <th></th>\n",
              "      <th>Machine Learning Method</th>\n",
              "      <th>Test Accuracy</th>\n",
              "      <th>Best Parameter</th>\n",
              "      <th>Top Predictor Variable</th>\n",
              "      <th>Run Time</th>\n",
              "    </tr>\n",
              "  </thead>\n",
              "  <tbody>\n",
              "    <tr>\n",
              "      <th>0</th>\n",
              "      <td>kNN</td>\n",
              "      <td>0.97186</td>\n",
              "      <td>N_Neighbor = 5</td>\n",
              "      <td>NA</td>\n",
              "      <td>150.509352</td>\n",
              "    </tr>\n",
              "    <tr>\n",
              "      <th>1</th>\n",
              "      <td>Logistic (l2)</td>\n",
              "      <td>0.96990</td>\n",
              "      <td>C = 100</td>\n",
              "      <td>Torque [Nm]</td>\n",
              "      <td>16.364618</td>\n",
              "    </tr>\n",
              "    <tr>\n",
              "      <th>2</th>\n",
              "      <td>Logistic (l1)</td>\n",
              "      <td>0.96998</td>\n",
              "      <td>C = 1.5</td>\n",
              "      <td>Torque [Nm]</td>\n",
              "      <td>59.138963</td>\n",
              "    </tr>\n",
              "    <tr>\n",
              "      <th>3</th>\n",
              "      <td>Linear SVM (l2)</td>\n",
              "      <td>0.96810</td>\n",
              "      <td>C = 100</td>\n",
              "      <td>Torque [Nm]</td>\n",
              "      <td>45.705121</td>\n",
              "    </tr>\n",
              "    <tr>\n",
              "      <th>4</th>\n",
              "      <td>Linear SVM (l1)</td>\n",
              "      <td>0.96706</td>\n",
              "      <td>C = 5000</td>\n",
              "      <td>Rotational speed [rpm]</td>\n",
              "      <td>128.519356</td>\n",
              "    </tr>\n",
              "    <tr>\n",
              "      <th>5</th>\n",
              "      <td>Random Forest</td>\n",
              "      <td>0.98560</td>\n",
              "      <td>Max_features = 0.8</td>\n",
              "      <td>Torque [Nm]</td>\n",
              "      <td>135.142817</td>\n",
              "    </tr>\n",
              "    <tr>\n",
              "      <th>6</th>\n",
              "      <td>Gradient Boosting Method</td>\n",
              "      <td>0.98298</td>\n",
              "      <td>Max_features = 0.8</td>\n",
              "      <td>Torque [Nm]</td>\n",
              "      <td>66.633995</td>\n",
              "    </tr>\n",
              "  </tbody>\n",
              "</table>\n",
              "</div>"
            ],
            "text/plain": [
              "    Machine Learning Method  Test Accuracy  ...  Top Predictor Variable    Run Time\n",
              "0                       kNN        0.97186  ...                      NA  150.509352\n",
              "1             Logistic (l2)        0.96990  ...             Torque [Nm]   16.364618\n",
              "2             Logistic (l1)        0.96998  ...             Torque [Nm]   59.138963\n",
              "3           Linear SVM (l2)        0.96810  ...             Torque [Nm]   45.705121\n",
              "4           Linear SVM (l1)        0.96706  ...  Rotational speed [rpm]  128.519356\n",
              "5             Random Forest        0.98560  ...             Torque [Nm]  135.142817\n",
              "6  Gradient Boosting Method        0.98298  ...             Torque [Nm]   66.633995\n",
              "\n",
              "[7 rows x 5 columns]"
            ]
          },
          "metadata": {
            "tags": []
          },
          "execution_count": 28
        }
      ]
    },
    {
      "cell_type": "code",
      "metadata": {
        "scrolled": false,
        "colab": {
          "base_uri": "https://localhost:8080/",
          "height": 1000
        },
        "id": "lOkTSnVNKubB",
        "outputId": "328ff142-5923-4c30-d1d3-d999a2645016"
      },
      "source": [
        "X = XX_df\n",
        "y = df_TWF['TWF']\n",
        "\n",
        "import time\n",
        "\n",
        "start_time = time.time()\n",
        "a = train_knn(X,y)\n",
        "print(a)\n",
        "print(\"%s seconds\" % a[4])\n",
        "\n",
        "start_time = time.time()\n",
        "b = train_logistic(X,y,reg='l2')\n",
        "print(b)\n",
        "print(\"%s seconds\" % b[4])\n",
        "\n",
        "start_time = time.time()\n",
        "c = train_logistic(X,y,reg='l1')\n",
        "print(c)\n",
        "print(\"%s seconds\" % c[4])\n",
        "\n",
        "start_time = time.time()\n",
        "d = train_svm(X,y,reg='l2')\n",
        "print(d)\n",
        "print(\"%s seconds\" % d[4])\n",
        "\n",
        "start_time = time.time()\n",
        "e = train_svm(X,y,reg='l1')\n",
        "print(e)\n",
        "print(\"%s seconds\" % e[4])\n",
        "\n",
        "\n",
        "start_time = time.time()\n",
        "f = train_RF(X,y,reg='none')\n",
        "print(f)\n",
        "print(\"%s seconds\" % f[4])\n",
        "\n",
        "start_time = time.time()\n",
        "g = train_GBM(X,y,reg='none')\n",
        "print(g)\n",
        "print(\"%s seconds\" % f[4])"
      ],
      "execution_count": 29,
      "outputs": [
        {
          "output_type": "stream",
          "text": [
            "['kNN', 0.9952799999999999, 'N_Neighbor = 6', 'NA', 149.5438141822815]\n",
            "149.5438141822815 seconds\n",
            "['Logistic (l2)', 0.9952799999999999, 'C = 1e-08', 'Tool wear [min]', 15.954586744308472]\n",
            "15.954586744308472 seconds\n",
            "['Logistic (l1)', 0.9952799999999999, 'C = 1e-08', 'Tool wear [min]', 63.62796926498413]\n",
            "63.62796926498413 seconds\n",
            "['Linear SVM (l2)', 0.9952799999999999, 'C = 1e-08', 'Tool wear [min]', 17.99391531944275]\n",
            "17.99391531944275 seconds\n",
            "['Linear SVM (l1)', 0.9952799999999999, 'C = 1e-08', 'Tool wear [min]', 87.25386834144592]\n",
            "87.25386834144592 seconds\n",
            "['Random Forest', 0.99526, 'Max_features = 0.1', 'Tool wear [min]', 78.3561806678772]\n",
            "78.3561806678772 seconds\n",
            "['Gradient Boosting Method', 0.9945400000000001, 'Max_features = 0.1', 'Tool wear [min]', 65.66505885124207]\n",
            "78.3561806678772 seconds\n"
          ],
          "name": "stdout"
        },
        {
          "output_type": "display_data",
          "data": {
            "image/png": "[encoded data removed]",
            "text/plain": [
              "<Figure size 504x216 with 1 Axes>"
            ]
          },
          "metadata": {
            "tags": [],
            "needs_background": "light"
          }
        },
        {
          "output_type": "display_data",
          "data": {
            "image/png": "[encoded data removed]",
            "text/plain": [
              "<Figure size 504x216 with 1 Axes>"
            ]
          },
          "metadata": {
            "tags": [],
            "needs_background": "light"
          }
        },
        {
          "output_type": "display_data",
          "data": {
            "image/png": "[encoded data removed]",
            "text/plain": [
              "<Figure size 504x216 with 1 Axes>"
            ]
          },
          "metadata": {
            "tags": [],
            "needs_background": "light"
          }
        },
        {
          "output_type": "display_data",
          "data": {
            "image/png": "[encoded data removed]",
            "text/plain": [
              "<Figure size 504x216 with 1 Axes>"
            ]
          },
          "metadata": {
            "tags": [],
            "needs_background": "light"
          }
        },
        {
          "output_type": "display_data",
          "data": {
            "image/png": "[encoded data removed]",
            "text/plain": [
              "<Figure size 504x216 with 1 Axes>"
            ]
          },
          "metadata": {
            "tags": [],
            "needs_background": "light"
          }
        },
        {
          "output_type": "display_data",
          "data": {
            "image/png": "[encoded data removed]",
            "text/plain": [
              "<Figure size 504x216 with 1 Axes>"
            ]
          },
          "metadata": {
            "tags": [],
            "needs_background": "light"
          }
        }
      ]
    },
    {
      "cell_type": "code",
      "metadata": {
        "colab": {
          "base_uri": "https://localhost:8080/",
          "height": 257
        },
        "id": "E-tAf8vkMb2Q",
        "outputId": "0e373f9a-049f-4e4a-ba3b-3804522746d5"
      },
      "source": [
        "cols = ['Machine Learning Method', 'Test Accuracy', 'Best Parameter', 'Top Predictor Variable for TWF', 'Run Time']\n",
        "df2 = pd.DataFrame(columns=cols)\n",
        "\n",
        "df2.loc[0] = a\n",
        "df2.loc[1] = b\n",
        "df2.loc[2] = c\n",
        "df2.loc[3] = d\n",
        "df2.loc[4] = e\n",
        "df2.loc[5] = f\n",
        "df2.loc[6] = g\n",
        "\n",
        "df2"
      ],
      "execution_count": 30,
      "outputs": [
        {
          "output_type": "execute_result",
          "data": {
            "text/html": [
              "<div>\n",
              "<style scoped>\n",
              "    .dataframe tbody tr th:only-of-type {\n",
              "        vertical-align: middle;\n",
              "    }\n",
              "\n",
              "    .dataframe tbody tr th {\n",
              "        vertical-align: top;\n",
              "    }\n",
              "\n",
              "    .dataframe thead th {\n",
              "        text-align: right;\n",
              "    }\n",
              "</style>\n",
              "<table border=\"1\" class=\"dataframe\">\n",
              "  <thead>\n",
              "    <tr style=\"text-align: right;\">\n",
              "      <th></th>\n",
              "      <th>Machine Learning Method</th>\n",
              "      <th>Test Accuracy</th>\n",
              "      <th>Best Parameter</th>\n",
              "      <th>Top Predictor Variable for TWF</th>\n",
              "      <th>Run Time</th>\n",
              "    </tr>\n",
              "  </thead>\n",
              "  <tbody>\n",
              "    <tr>\n",
              "      <th>0</th>\n",
              "      <td>kNN</td>\n",
              "      <td>0.99528</td>\n",
              "      <td>N_Neighbor = 6</td>\n",
              "      <td>NA</td>\n",
              "      <td>149.543814</td>\n",
              "    </tr>\n",
              "    <tr>\n",
              "      <th>1</th>\n",
              "      <td>Logistic (l2)</td>\n",
              "      <td>0.99528</td>\n",
              "      <td>C = 1e-08</td>\n",
              "      <td>Tool wear [min]</td>\n",
              "      <td>15.954587</td>\n",
              "    </tr>\n",
              "    <tr>\n",
              "      <th>2</th>\n",
              "      <td>Logistic (l1)</td>\n",
              "      <td>0.99528</td>\n",
              "      <td>C = 1e-08</td>\n",
              "      <td>Tool wear [min]</td>\n",
              "      <td>63.627969</td>\n",
              "    </tr>\n",
              "    <tr>\n",
              "      <th>3</th>\n",
              "      <td>Linear SVM (l2)</td>\n",
              "      <td>0.99528</td>\n",
              "      <td>C = 1e-08</td>\n",
              "      <td>Tool wear [min]</td>\n",
              "      <td>17.993915</td>\n",
              "    </tr>\n",
              "    <tr>\n",
              "      <th>4</th>\n",
              "      <td>Linear SVM (l1)</td>\n",
              "      <td>0.99528</td>\n",
              "      <td>C = 1e-08</td>\n",
              "      <td>Tool wear [min]</td>\n",
              "      <td>87.253868</td>\n",
              "    </tr>\n",
              "    <tr>\n",
              "      <th>5</th>\n",
              "      <td>Random Forest</td>\n",
              "      <td>0.99526</td>\n",
              "      <td>Max_features = 0.1</td>\n",
              "      <td>Tool wear [min]</td>\n",
              "      <td>78.356181</td>\n",
              "    </tr>\n",
              "    <tr>\n",
              "      <th>6</th>\n",
              "      <td>Gradient Boosting Method</td>\n",
              "      <td>0.99454</td>\n",
              "      <td>Max_features = 0.1</td>\n",
              "      <td>Tool wear [min]</td>\n",
              "      <td>65.665059</td>\n",
              "    </tr>\n",
              "  </tbody>\n",
              "</table>\n",
              "</div>"
            ],
            "text/plain": [
              "    Machine Learning Method  ...    Run Time\n",
              "0                       kNN  ...  149.543814\n",
              "1             Logistic (l2)  ...   15.954587\n",
              "2             Logistic (l1)  ...   63.627969\n",
              "3           Linear SVM (l2)  ...   17.993915\n",
              "4           Linear SVM (l1)  ...   87.253868\n",
              "5             Random Forest  ...   78.356181\n",
              "6  Gradient Boosting Method  ...   65.665059\n",
              "\n",
              "[7 rows x 5 columns]"
            ]
          },
          "metadata": {
            "tags": []
          },
          "execution_count": 30
        }
      ]
    },
    {
      "cell_type": "code",
      "metadata": {
        "scrolled": false,
        "colab": {
          "base_uri": "https://localhost:8080/",
          "height": 1000
        },
        "id": "u_fgnnaPNVSe",
        "outputId": "65535d6f-7ef1-40c3-b127-5a9455d98a7a"
      },
      "source": [
        "X = XX_df\n",
        "y = df_HDF['HDF']\n",
        "\n",
        "import time\n",
        "\n",
        "start_time = time.time()\n",
        "a = train_knn(X,y)\n",
        "print(a)\n",
        "print(\"%s seconds\" % a[4])\n",
        "\n",
        "start_time = time.time()\n",
        "b = train_logistic(X,y,reg='l2')\n",
        "print(b)\n",
        "print(\"%s seconds\" % b[4])\n",
        "\n",
        "start_time = time.time()\n",
        "c = train_logistic(X,y,reg='l1')\n",
        "print(c)\n",
        "print(\"%s seconds\" % c[4])\n",
        "\n",
        "start_time = time.time()\n",
        "d = train_svm(X,y,reg='l2')\n",
        "print(d)\n",
        "print(\"%s seconds\" % d[4])\n",
        "\n",
        "start_time = time.time()\n",
        "e = train_svm(X,y,reg='l1')\n",
        "print(e)\n",
        "print(\"%s seconds\" % e[4])\n",
        "\n",
        "\n",
        "start_time = time.time()\n",
        "f = train_RF(X,y,reg='none')\n",
        "print(f)\n",
        "print(\"%s seconds\" % f[4])\n",
        "\n",
        "start_time = time.time()\n",
        "g = train_GBM(X,y,reg='none')\n",
        "print(g)\n",
        "print(\"%s seconds\" % f[4])"
      ],
      "execution_count": 31,
      "outputs": [
        {
          "output_type": "stream",
          "text": [
            "['kNN', 0.9893999999999998, 'N_Neighbor = 7', 'NA', 149.4338836669922]\n",
            "149.4338836669922 seconds\n",
            "['Logistic (l2)', 0.9932200000000002, 'C = 300', 'Rotational speed [rpm]', 17.34931969642639]\n",
            "17.34931969642639 seconds\n",
            "['Logistic (l1)', 0.9932400000000001, 'C = 5', 'Rotational speed [rpm]', 110.4586386680603]\n",
            "110.4586386680603 seconds\n",
            "['Linear SVM (l2)', 0.9931800000000001, 'C = 100', 'Rotational speed [rpm]', 9.640884160995483]\n",
            "9.640884160995483 seconds\n",
            "['Linear SVM (l1)', 0.9927800000000003, 'C = 100', 'Rotational speed [rpm]', 72.2405092716217]\n",
            "72.2405092716217 seconds\n",
            "['Random Forest', 0.9984399999999999, 'Max_features = 0.8', 'Air temperature [K]', 60.98717260360718]\n",
            "60.98717260360718 seconds\n",
            "['Gradient Boosting Method', 0.9976399999999999, 'Max_features = 0.7', 'Air temperature [K]', 66.1089243888855]\n",
            "60.98717260360718 seconds\n"
          ],
          "name": "stdout"
        },
        {
          "output_type": "display_data",
          "data": {
            "image/png": "[encoded data removed]",
            "text/plain": [
              "<Figure size 504x216 with 1 Axes>"
            ]
          },
          "metadata": {
            "tags": [],
            "needs_background": "light"
          }
        },
        {
          "output_type": "display_data",
          "data": {
            "image/png": "[encoded data removed]",
            "text/plain": [
              "<Figure size 504x216 with 1 Axes>"
            ]
          },
          "metadata": {
            "tags": [],
            "needs_background": "light"
          }
        },
        {
          "output_type": "display_data",
          "data": {
            "image/png": "[encoded data removed]",
            "text/plain": [
              "<Figure size 504x216 with 1 Axes>"
            ]
          },
          "metadata": {
            "tags": [],
            "needs_background": "light"
          }
        },
        {
          "output_type": "display_data",
          "data": {
            "image/png": "[encoded data removed]",
            "text/plain": [
              "<Figure size 504x216 with 1 Axes>"
            ]
          },
          "metadata": {
            "tags": [],
            "needs_background": "light"
          }
        },
        {
          "output_type": "display_data",
          "data": {
            "image/png": "[encoded data removed]",
            "text/plain": [
              "<Figure size 504x216 with 1 Axes>"
            ]
          },
          "metadata": {
            "tags": [],
            "needs_background": "light"
          }
        },
        {
          "output_type": "display_data",
          "data": {
            "image/png": "[encoded data removed]",
            "text/plain": [
              "<Figure size 504x216 with 1 Axes>"
            ]
          },
          "metadata": {
            "tags": [],
            "needs_background": "light"
          }
        }
      ]
    },
    {
      "cell_type": "code",
      "metadata": {
        "colab": {
          "base_uri": "https://localhost:8080/",
          "height": 257
        },
        "id": "Ch3dLD3dNRjb",
        "outputId": "1ad99cdb-c7be-4c7b-e9a8-7d6db00a5d0c"
      },
      "source": [
        "cols = ['Machine Learning Method', 'Test Accuracy', 'Best Parameter', 'Top Predictor Variable for HDF', 'Run Time']\n",
        "df2 = pd.DataFrame(columns=cols)\n",
        "\n",
        "df2.loc[0] = a\n",
        "df2.loc[1] = b\n",
        "df2.loc[2] = c\n",
        "df2.loc[3] = d\n",
        "df2.loc[4] = e\n",
        "df2.loc[5] = f\n",
        "df2.loc[6] = g\n",
        "\n",
        "df2"
      ],
      "execution_count": 32,
      "outputs": [
        {
          "output_type": "execute_result",
          "data": {
            "text/html": [
              "<div>\n",
              "<style scoped>\n",
              "    .dataframe tbody tr th:only-of-type {\n",
              "        vertical-align: middle;\n",
              "    }\n",
              "\n",
              "    .dataframe tbody tr th {\n",
              "        vertical-align: top;\n",
              "    }\n",
              "\n",
              "    .dataframe thead th {\n",
              "        text-align: right;\n",
              "    }\n",
              "</style>\n",
              "<table border=\"1\" class=\"dataframe\">\n",
              "  <thead>\n",
              "    <tr style=\"text-align: right;\">\n",
              "      <th></th>\n",
              "      <th>Machine Learning Method</th>\n",
              "      <th>Test Accuracy</th>\n",
              "      <th>Best Parameter</th>\n",
              "      <th>Top Predictor Variable for HDF</th>\n",
              "      <th>Run Time</th>\n",
              "    </tr>\n",
              "  </thead>\n",
              "  <tbody>\n",
              "    <tr>\n",
              "      <th>0</th>\n",
              "      <td>kNN</td>\n",
              "      <td>0.98940</td>\n",
              "      <td>N_Neighbor = 7</td>\n",
              "      <td>NA</td>\n",
              "      <td>149.433884</td>\n",
              "    </tr>\n",
              "    <tr>\n",
              "      <th>1</th>\n",
              "      <td>Logistic (l2)</td>\n",
              "      <td>0.99322</td>\n",
              "      <td>C = 300</td>\n",
              "      <td>Rotational speed [rpm]</td>\n",
              "      <td>17.349320</td>\n",
              "    </tr>\n",
              "    <tr>\n",
              "      <th>2</th>\n",
              "      <td>Logistic (l1)</td>\n",
              "      <td>0.99324</td>\n",
              "      <td>C = 5</td>\n",
              "      <td>Rotational speed [rpm]</td>\n",
              "      <td>110.458639</td>\n",
              "    </tr>\n",
              "    <tr>\n",
              "      <th>3</th>\n",
              "      <td>Linear SVM (l2)</td>\n",
              "      <td>0.99318</td>\n",
              "      <td>C = 100</td>\n",
              "      <td>Rotational speed [rpm]</td>\n",
              "      <td>9.640884</td>\n",
              "    </tr>\n",
              "    <tr>\n",
              "      <th>4</th>\n",
              "      <td>Linear SVM (l1)</td>\n",
              "      <td>0.99278</td>\n",
              "      <td>C = 100</td>\n",
              "      <td>Rotational speed [rpm]</td>\n",
              "      <td>72.240509</td>\n",
              "    </tr>\n",
              "    <tr>\n",
              "      <th>5</th>\n",
              "      <td>Random Forest</td>\n",
              "      <td>0.99844</td>\n",
              "      <td>Max_features = 0.8</td>\n",
              "      <td>Air temperature [K]</td>\n",
              "      <td>60.987173</td>\n",
              "    </tr>\n",
              "    <tr>\n",
              "      <th>6</th>\n",
              "      <td>Gradient Boosting Method</td>\n",
              "      <td>0.99764</td>\n",
              "      <td>Max_features = 0.7</td>\n",
              "      <td>Air temperature [K]</td>\n",
              "      <td>66.108924</td>\n",
              "    </tr>\n",
              "  </tbody>\n",
              "</table>\n",
              "</div>"
            ],
            "text/plain": [
              "    Machine Learning Method  ...    Run Time\n",
              "0                       kNN  ...  149.433884\n",
              "1             Logistic (l2)  ...   17.349320\n",
              "2             Logistic (l1)  ...  110.458639\n",
              "3           Linear SVM (l2)  ...    9.640884\n",
              "4           Linear SVM (l1)  ...   72.240509\n",
              "5             Random Forest  ...   60.987173\n",
              "6  Gradient Boosting Method  ...   66.108924\n",
              "\n",
              "[7 rows x 5 columns]"
            ]
          },
          "metadata": {
            "tags": []
          },
          "execution_count": 32
        }
      ]
    },
    {
      "cell_type": "code",
      "metadata": {
        "colab": {
          "base_uri": "https://localhost:8080/",
          "height": 1000
        },
        "id": "a7hFTTGSVC1U",
        "outputId": "6cb0c68f-291e-4c99-efa8-d51a97438f28"
      },
      "source": [
        "X = XX_df\n",
        "y = df_PWF['PWF']\n",
        "\n",
        "import time\n",
        "\n",
        "start_time = time.time()\n",
        "a = train_knn(X,y)\n",
        "print(a)\n",
        "print(\"%s seconds\" % a[4])\n",
        "\n",
        "start_time = time.time()\n",
        "b = train_logistic(X,y,reg='l2')\n",
        "print(b)\n",
        "print(\"%s seconds\" % b[4])\n",
        "\n",
        "start_time = time.time()\n",
        "c = train_logistic(X,y,reg='l1')\n",
        "print(c)\n",
        "print(\"%s seconds\" % c[4])\n",
        "\n",
        "start_time = time.time()\n",
        "d = train_svm(X,y,reg='l2')\n",
        "print(d)\n",
        "print(\"%s seconds\" % d[4])\n",
        "\n",
        "start_time = time.time()\n",
        "e = train_svm(X,y,reg='l1')\n",
        "print(e)\n",
        "print(\"%s seconds\" % e[4])\n",
        "\n",
        "\n",
        "start_time = time.time()\n",
        "f = train_RF(X,y,reg='none')\n",
        "print(f)\n",
        "print(\"%s seconds\" % f[4])\n",
        "\n",
        "start_time = time.time()\n",
        "g = train_GBM(X,y,reg='none')\n",
        "print(g)\n",
        "print(\"%s seconds\" % f[4])"
      ],
      "execution_count": 33,
      "outputs": [
        {
          "output_type": "stream",
          "text": [
            "['kNN', 0.9919400000000002, 'N_Neighbor = 3', 'NA', 148.77545928955078]\n",
            "148.77545928955078 seconds\n",
            "['Logistic (l2)', 0.9976200000000001, 'C = 5000', 'Rotational speed [rpm]', 15.409365177154541]\n",
            "15.409365177154541 seconds\n",
            "['Logistic (l1)', 0.99766, 'C = 300', 'Rotational speed [rpm]', 127.22212743759155]\n",
            "127.22212743759155 seconds\n",
            "['Linear SVM (l2)', 0.99696, 'C = 100', 'Rotational speed [rpm]', 9.709476709365845]\n",
            "9.709476709365845 seconds\n",
            "['Linear SVM (l1)', 0.99508, 'C = 300', 'Rotational speed [rpm]', 90.69940686225891]\n",
            "90.69940686225891 seconds\n",
            "['Random Forest', 0.99746, 'Max_features = 0.8', 'Torque [Nm]', 99.42971920967102]\n",
            "99.42971920967102 seconds\n",
            "['Gradient Boosting Method', 0.9970599999999997, 'Max_features = 0.8', 'Torque [Nm]', 66.21745824813843]\n",
            "99.42971920967102 seconds\n"
          ],
          "name": "stdout"
        },
        {
          "output_type": "display_data",
          "data": {
            "image/png": "[encoded data removed]",
            "text/plain": [
              "<Figure size 504x216 with 1 Axes>"
            ]
          },
          "metadata": {
            "tags": [],
            "needs_background": "light"
          }
        },
        {
          "output_type": "display_data",
          "data": {
            "image/png": "[encoded data removed]",
            "text/plain": [
              "<Figure size 504x216 with 1 Axes>"
            ]
          },
          "metadata": {
            "tags": [],
            "needs_background": "light"
          }
        },
        {
          "output_type": "display_data",
          "data": {
            "image/png": "[encoded data removed]",
            "text/plain": [
              "<Figure size 504x216 with 1 Axes>"
            ]
          },
          "metadata": {
            "tags": [],
            "needs_background": "light"
          }
        },
        {
          "output_type": "display_data",
          "data": {
            "image/png": "[encoded data removed]",
            "text/plain": [
              "<Figure size 504x216 with 1 Axes>"
            ]
          },
          "metadata": {
            "tags": [],
            "needs_background": "light"
          }
        },
        {
          "output_type": "display_data",
          "data": {
            "image/png": "[encoded data removed]",
            "text/plain": [
              "<Figure size 504x216 with 1 Axes>"
            ]
          },
          "metadata": {
            "tags": [],
            "needs_background": "light"
          }
        },
        {
          "output_type": "display_data",
          "data": {
            "image/png": "[encoded data removed]",
            "text/plain": [
              "<Figure size 504x216 with 1 Axes>"
            ]
          },
          "metadata": {
            "tags": [],
            "needs_background": "light"
          }
        }
      ]
    },
    {
      "cell_type": "code",
      "metadata": {
        "colab": {
          "base_uri": "https://localhost:8080/",
          "height": 257
        },
        "id": "k9ifxtiIVLEE",
        "outputId": "ffa613df-1437-40a7-b37f-b57db42df095"
      },
      "source": [
        "cols = ['Machine Learning Method', 'Test Accuracy', 'Best Parameter', 'Top Predictor Variable for PWF', 'Run Time']\n",
        "df2 = pd.DataFrame(columns=cols)\n",
        "\n",
        "df2.loc[0] = a\n",
        "df2.loc[1] = b\n",
        "df2.loc[2] = c\n",
        "df2.loc[3] = d\n",
        "df2.loc[4] = e\n",
        "df2.loc[5] = f\n",
        "df2.loc[6] = g\n",
        "\n",
        "df2"
      ],
      "execution_count": 34,
      "outputs": [
        {
          "output_type": "execute_result",
          "data": {
            "text/html": [
              "<div>\n",
              "<style scoped>\n",
              "    .dataframe tbody tr th:only-of-type {\n",
              "        vertical-align: middle;\n",
              "    }\n",
              "\n",
              "    .dataframe tbody tr th {\n",
              "        vertical-align: top;\n",
              "    }\n",
              "\n",
              "    .dataframe thead th {\n",
              "        text-align: right;\n",
              "    }\n",
              "</style>\n",
              "<table border=\"1\" class=\"dataframe\">\n",
              "  <thead>\n",
              "    <tr style=\"text-align: right;\">\n",
              "      <th></th>\n",
              "      <th>Machine Learning Method</th>\n",
              "      <th>Test Accuracy</th>\n",
              "      <th>Best Parameter</th>\n",
              "      <th>Top Predictor Variable for PWF</th>\n",
              "      <th>Run Time</th>\n",
              "    </tr>\n",
              "  </thead>\n",
              "  <tbody>\n",
              "    <tr>\n",
              "      <th>0</th>\n",
              "      <td>kNN</td>\n",
              "      <td>0.99194</td>\n",
              "      <td>N_Neighbor = 3</td>\n",
              "      <td>NA</td>\n",
              "      <td>148.775459</td>\n",
              "    </tr>\n",
              "    <tr>\n",
              "      <th>1</th>\n",
              "      <td>Logistic (l2)</td>\n",
              "      <td>0.99762</td>\n",
              "      <td>C = 5000</td>\n",
              "      <td>Rotational speed [rpm]</td>\n",
              "      <td>15.409365</td>\n",
              "    </tr>\n",
              "    <tr>\n",
              "      <th>2</th>\n",
              "      <td>Logistic (l1)</td>\n",
              "      <td>0.99766</td>\n",
              "      <td>C = 300</td>\n",
              "      <td>Rotational speed [rpm]</td>\n",
              "      <td>127.222127</td>\n",
              "    </tr>\n",
              "    <tr>\n",
              "      <th>3</th>\n",
              "      <td>Linear SVM (l2)</td>\n",
              "      <td>0.99696</td>\n",
              "      <td>C = 100</td>\n",
              "      <td>Rotational speed [rpm]</td>\n",
              "      <td>9.709477</td>\n",
              "    </tr>\n",
              "    <tr>\n",
              "      <th>4</th>\n",
              "      <td>Linear SVM (l1)</td>\n",
              "      <td>0.99508</td>\n",
              "      <td>C = 300</td>\n",
              "      <td>Rotational speed [rpm]</td>\n",
              "      <td>90.699407</td>\n",
              "    </tr>\n",
              "    <tr>\n",
              "      <th>5</th>\n",
              "      <td>Random Forest</td>\n",
              "      <td>0.99746</td>\n",
              "      <td>Max_features = 0.8</td>\n",
              "      <td>Torque [Nm]</td>\n",
              "      <td>99.429719</td>\n",
              "    </tr>\n",
              "    <tr>\n",
              "      <th>6</th>\n",
              "      <td>Gradient Boosting Method</td>\n",
              "      <td>0.99706</td>\n",
              "      <td>Max_features = 0.8</td>\n",
              "      <td>Torque [Nm]</td>\n",
              "      <td>66.217458</td>\n",
              "    </tr>\n",
              "  </tbody>\n",
              "</table>\n",
              "</div>"
            ],
            "text/plain": [
              "    Machine Learning Method  ...    Run Time\n",
              "0                       kNN  ...  148.775459\n",
              "1             Logistic (l2)  ...   15.409365\n",
              "2             Logistic (l1)  ...  127.222127\n",
              "3           Linear SVM (l2)  ...    9.709477\n",
              "4           Linear SVM (l1)  ...   90.699407\n",
              "5             Random Forest  ...   99.429719\n",
              "6  Gradient Boosting Method  ...   66.217458\n",
              "\n",
              "[7 rows x 5 columns]"
            ]
          },
          "metadata": {
            "tags": []
          },
          "execution_count": 34
        }
      ]
    },
    {
      "cell_type": "code",
      "metadata": {
        "colab": {
          "base_uri": "https://localhost:8080/",
          "height": 1000
        },
        "id": "fsf7-_OTjfgn",
        "outputId": "a45ab89e-bb29-4948-cef1-c623dd427bfd"
      },
      "source": [
        "X = XX_df\n",
        "y = df_OSF['OSF']\n",
        "\n",
        "import time\n",
        "\n",
        "start_time = time.time()\n",
        "a = train_knn(X,y)\n",
        "print(a)\n",
        "print(\"%s seconds\" % a[4])\n",
        "\n",
        "start_time = time.time()\n",
        "b = train_logistic(X,y,reg='l2')\n",
        "print(b)\n",
        "print(\"%s seconds\" % b[4])\n",
        "\n",
        "start_time = time.time()\n",
        "c = train_logistic(X,y,reg='l1')\n",
        "print(c)\n",
        "print(\"%s seconds\" % c[4])\n",
        "\n",
        "start_time = time.time()\n",
        "d = train_svm(X,y,reg='l2')\n",
        "print(d)\n",
        "print(\"%s seconds\" % d[4])\n",
        "\n",
        "start_time = time.time()\n",
        "e = train_svm(X,y,reg='l1')\n",
        "print(e)\n",
        "print(\"%s seconds\" % e[4])\n",
        "\n",
        "\n",
        "start_time = time.time()\n",
        "f = train_RF(X,y,reg='none')\n",
        "print(f)\n",
        "print(\"%s seconds\" % f[4])\n",
        "\n",
        "start_time = time.time()\n",
        "g = train_GBM(X,y,reg='none')\n",
        "print(g)\n",
        "print(\"%s seconds\" % f[4])"
      ],
      "execution_count": 35,
      "outputs": [
        {
          "output_type": "stream",
          "text": [
            "['kNN', 0.9936400000000001, 'N_Neighbor = 3', 'NA', 149.48757696151733]\n",
            "149.48757696151733 seconds\n",
            "['Logistic (l2)', 0.9949600000000001, 'C = 5000', 'Torque [Nm]', 17.380180597305298]\n",
            "17.380180597305298 seconds\n",
            "['Logistic (l1)', 0.9949600000000001, 'C = 100', 'Torque [Nm]', 196.20931220054626]\n",
            "196.20931220054626 seconds\n",
            "['Linear SVM (l2)', 0.9945600000000002, 'C = 100', 'Torque [Nm]', 7.637668132781982]\n",
            "7.637668132781982 seconds\n",
            "['Linear SVM (l1)', 0.9940200000000001, 'C = 0.75', 'Torque [Nm]', 65.90546989440918]\n",
            "65.90546989440918 seconds\n",
            "['Random Forest', 0.9958200000000001, 'Max_features = 0.8', 'Tool wear [min]', 79.9600293636322]\n",
            "79.9600293636322 seconds\n",
            "['Gradient Boosting Method', 0.9949999999999999, 'Max_features = 0.8', 'Tool wear [min]', 67.59123873710632]\n",
            "79.9600293636322 seconds\n"
          ],
          "name": "stdout"
        },
        {
          "output_type": "display_data",
          "data": {
            "image/png": "[encoded data removed]",
            "text/plain": [
              "<Figure size 504x216 with 1 Axes>"
            ]
          },
          "metadata": {
            "tags": [],
            "needs_background": "light"
          }
        },
        {
          "output_type": "display_data",
          "data": {
            "image/png": "[encoded data removed]",
            "text/plain": [
              "<Figure size 504x216 with 1 Axes>"
            ]
          },
          "metadata": {
            "tags": [],
            "needs_background": "light"
          }
        },
        {
          "output_type": "display_data",
          "data": {
            "image/png": "[encoded data removed]",
            "text/plain": [
              "<Figure size 504x216 with 1 Axes>"
            ]
          },
          "metadata": {
            "tags": [],
            "needs_background": "light"
          }
        },
        {
          "output_type": "display_data",
          "data": {
            "image/png": "[encoded data removed]",
            "text/plain": [
              "<Figure size 504x216 with 1 Axes>"
            ]
          },
          "metadata": {
            "tags": [],
            "needs_background": "light"
          }
        },
        {
          "output_type": "display_data",
          "data": {
            "image/png": "[encoded data removed]",
            "text/plain": [
              "<Figure size 504x216 with 1 Axes>"
            ]
          },
          "metadata": {
            "tags": [],
            "needs_background": "light"
          }
        },
        {
          "output_type": "display_data",
          "data": {
            "image/png": "[encoded data removed]",
            "text/plain": [
              "<Figure size 504x216 with 1 Axes>"
            ]
          },
          "metadata": {
            "tags": [],
            "needs_background": "light"
          }
        }
      ]
    },
    {
      "cell_type": "code",
      "metadata": {
        "colab": {
          "base_uri": "https://localhost:8080/",
          "height": 257
        },
        "id": "jw63991sjpz4",
        "outputId": "82110012-3189-4428-a7b7-727bcccf1c48"
      },
      "source": [
        "cols = ['Machine Learning Method', 'Test Accuracy', 'Best Parameter', 'Top Predictor Variable for OSF', 'Run Time']\n",
        "df2 = pd.DataFrame(columns=cols)\n",
        "\n",
        "df2.loc[0] = a\n",
        "df2.loc[1] = b\n",
        "df2.loc[2] = c\n",
        "df2.loc[3] = d\n",
        "df2.loc[4] = e\n",
        "df2.loc[5] = f\n",
        "df2.loc[6] = g\n",
        "\n",
        "df2"
      ],
      "execution_count": 36,
      "outputs": [
        {
          "output_type": "execute_result",
          "data": {
            "text/html": [
              "<div>\n",
              "<style scoped>\n",
              "    .dataframe tbody tr th:only-of-type {\n",
              "        vertical-align: middle;\n",
              "    }\n",
              "\n",
              "    .dataframe tbody tr th {\n",
              "        vertical-align: top;\n",
              "    }\n",
              "\n",
              "    .dataframe thead th {\n",
              "        text-align: right;\n",
              "    }\n",
              "</style>\n",
              "<table border=\"1\" class=\"dataframe\">\n",
              "  <thead>\n",
              "    <tr style=\"text-align: right;\">\n",
              "      <th></th>\n",
              "      <th>Machine Learning Method</th>\n",
              "      <th>Test Accuracy</th>\n",
              "      <th>Best Parameter</th>\n",
              "      <th>Top Predictor Variable for OSF</th>\n",
              "      <th>Run Time</th>\n",
              "    </tr>\n",
              "  </thead>\n",
              "  <tbody>\n",
              "    <tr>\n",
              "      <th>0</th>\n",
              "      <td>kNN</td>\n",
              "      <td>0.99364</td>\n",
              "      <td>N_Neighbor = 3</td>\n",
              "      <td>NA</td>\n",
              "      <td>149.487577</td>\n",
              "    </tr>\n",
              "    <tr>\n",
              "      <th>1</th>\n",
              "      <td>Logistic (l2)</td>\n",
              "      <td>0.99496</td>\n",
              "      <td>C = 5000</td>\n",
              "      <td>Torque [Nm]</td>\n",
              "      <td>17.380181</td>\n",
              "    </tr>\n",
              "    <tr>\n",
              "      <th>2</th>\n",
              "      <td>Logistic (l1)</td>\n",
              "      <td>0.99496</td>\n",
              "      <td>C = 100</td>\n",
              "      <td>Torque [Nm]</td>\n",
              "      <td>196.209312</td>\n",
              "    </tr>\n",
              "    <tr>\n",
              "      <th>3</th>\n",
              "      <td>Linear SVM (l2)</td>\n",
              "      <td>0.99456</td>\n",
              "      <td>C = 100</td>\n",
              "      <td>Torque [Nm]</td>\n",
              "      <td>7.637668</td>\n",
              "    </tr>\n",
              "    <tr>\n",
              "      <th>4</th>\n",
              "      <td>Linear SVM (l1)</td>\n",
              "      <td>0.99402</td>\n",
              "      <td>C = 0.75</td>\n",
              "      <td>Torque [Nm]</td>\n",
              "      <td>65.905470</td>\n",
              "    </tr>\n",
              "    <tr>\n",
              "      <th>5</th>\n",
              "      <td>Random Forest</td>\n",
              "      <td>0.99582</td>\n",
              "      <td>Max_features = 0.8</td>\n",
              "      <td>Tool wear [min]</td>\n",
              "      <td>79.960029</td>\n",
              "    </tr>\n",
              "    <tr>\n",
              "      <th>6</th>\n",
              "      <td>Gradient Boosting Method</td>\n",
              "      <td>0.99500</td>\n",
              "      <td>Max_features = 0.8</td>\n",
              "      <td>Tool wear [min]</td>\n",
              "      <td>67.591239</td>\n",
              "    </tr>\n",
              "  </tbody>\n",
              "</table>\n",
              "</div>"
            ],
            "text/plain": [
              "    Machine Learning Method  ...    Run Time\n",
              "0                       kNN  ...  149.487577\n",
              "1             Logistic (l2)  ...   17.380181\n",
              "2             Logistic (l1)  ...  196.209312\n",
              "3           Linear SVM (l2)  ...    7.637668\n",
              "4           Linear SVM (l1)  ...   65.905470\n",
              "5             Random Forest  ...   79.960029\n",
              "6  Gradient Boosting Method  ...   67.591239\n",
              "\n",
              "[7 rows x 5 columns]"
            ]
          },
          "metadata": {
            "tags": []
          },
          "execution_count": 36
        }
      ]
    },
    {
      "cell_type": "code",
      "metadata": {
        "colab": {
          "base_uri": "https://localhost:8080/",
          "height": 1000
        },
        "id": "A0nx2I-kjuAf",
        "outputId": "efa5dd66-349e-488b-d4c8-810280a8f08d"
      },
      "source": [
        "X = XX_df\n",
        "y = df_RNF['RNF']\n",
        "\n",
        "import time\n",
        "\n",
        "start_time = time.time()\n",
        "a = train_knn(X,y)\n",
        "print(a)\n",
        "print(\"%s seconds\" % a[4])\n",
        "\n",
        "start_time = time.time()\n",
        "b = train_logistic(X,y,reg='l2')\n",
        "print(b)\n",
        "print(\"%s seconds\" % b[4])\n",
        "\n",
        "start_time = time.time()\n",
        "c = train_logistic(X,y,reg='l1')\n",
        "print(c)\n",
        "print(\"%s seconds\" % c[4])\n",
        "\n",
        "start_time = time.time()\n",
        "d = train_svm(X,y,reg='l2')\n",
        "print(d)\n",
        "print(\"%s seconds\" % d[4])\n",
        "\n",
        "start_time = time.time()\n",
        "e = train_svm(X,y,reg='l1')\n",
        "print(e)\n",
        "print(\"%s seconds\" % e[4])\n",
        "\n",
        "\n",
        "start_time = time.time()\n",
        "f = train_RF(X,y,reg='none')\n",
        "print(f)\n",
        "print(\"%s seconds\" % f[4])\n",
        "\n",
        "start_time = time.time()\n",
        "g = train_GBM(X,y,reg='none')\n",
        "print(g)\n",
        "print(\"%s seconds\" % f[4])"
      ],
      "execution_count": 37,
      "outputs": [
        {
          "output_type": "stream",
          "text": [
            "['kNN', 0.9978800000000001, 'N_Neighbor = 4', 'NA', 149.6689965724945]\n",
            "149.6689965724945 seconds\n",
            "['Logistic (l2)', 0.9978800000000001, 'C = 1e-08', 'Process temperature [K]', 15.704739809036255]\n",
            "15.704739809036255 seconds\n",
            "['Logistic (l1)', 0.9978800000000001, 'C = 1e-08', 'Process temperature [K]', 34.818030834198]\n",
            "34.818030834198 seconds\n",
            "['Linear SVM (l2)', 0.9978800000000001, 'C = 1e-08', 'Rotational speed [rpm]', 76.25366401672363]\n",
            "76.25366401672363 seconds\n",
            "['Linear SVM (l1)', 0.9978800000000001, 'C = 1e-08', 'Process temperature [K]', 77.77114915847778]\n",
            "77.77114915847778 seconds\n",
            "['Random Forest', 0.9978800000000001, 'Max_features = 0.1', 'Torque [Nm]', 81.56144976615906]\n",
            "81.56144976615906 seconds\n",
            "['Gradient Boosting Method', 0.9971400000000001, 'Max_features = 0.3', 'Torque [Nm]', 68.4695816040039]\n",
            "81.56144976615906 seconds\n"
          ],
          "name": "stdout"
        },
        {
          "output_type": "display_data",
          "data": {
            "image/png": "[encoded data removed]",
            "text/plain": [
              "<Figure size 504x216 with 1 Axes>"
            ]
          },
          "metadata": {
            "tags": [],
            "needs_background": "light"
          }
        },
        {
          "output_type": "display_data",
          "data": {
            "image/png": "[encoded data removed]",
            "text/plain": [
              "<Figure size 504x216 with 1 Axes>"
            ]
          },
          "metadata": {
            "tags": [],
            "needs_background": "light"
          }
        },
        {
          "output_type": "display_data",
          "data": {
            "image/png": "[encoded data removed]",
            "text/plain": [
              "<Figure size 504x216 with 1 Axes>"
            ]
          },
          "metadata": {
            "tags": [],
            "needs_background": "light"
          }
        },
        {
          "output_type": "display_data",
          "data": {
            "image/png": "[encoded data removed]",
            "text/plain": [
              "<Figure size 504x216 with 1 Axes>"
            ]
          },
          "metadata": {
            "tags": [],
            "needs_background": "light"
          }
        },
        {
          "output_type": "display_data",
          "data": {
            "image/png": "[encoded data removed]",
            "text/plain": [
              "<Figure size 504x216 with 1 Axes>"
            ]
          },
          "metadata": {
            "tags": [],
            "needs_background": "light"
          }
        },
        {
          "output_type": "display_data",
          "data": {
            "image/png": "[encoded data removed]",
            "text/plain": [
              "<Figure size 504x216 with 1 Axes>"
            ]
          },
          "metadata": {
            "tags": [],
            "needs_background": "light"
          }
        }
      ]
    },
    {
      "cell_type": "code",
      "metadata": {
        "colab": {
          "base_uri": "https://localhost:8080/",
          "height": 257
        },
        "id": "DQ-5ktIWj0zA",
        "outputId": "5f31186e-9b62-4371-85a2-ba160bee66a9"
      },
      "source": [
        "cols = ['Machine Learning Method', 'Test Accuracy', 'Best Parameter', 'Top Predictor Variable for RNF', 'Run Time']\n",
        "df2 = pd.DataFrame(columns=cols)\n",
        "\n",
        "df2.loc[0] = a\n",
        "df2.loc[1] = b\n",
        "df2.loc[2] = c\n",
        "df2.loc[3] = d\n",
        "df2.loc[4] = e\n",
        "df2.loc[5] = f\n",
        "df2.loc[6] = g\n",
        "\n",
        "df2"
      ],
      "execution_count": 38,
      "outputs": [
        {
          "output_type": "execute_result",
          "data": {
            "text/html": [
              "<div>\n",
              "<style scoped>\n",
              "    .dataframe tbody tr th:only-of-type {\n",
              "        vertical-align: middle;\n",
              "    }\n",
              "\n",
              "    .dataframe tbody tr th {\n",
              "        vertical-align: top;\n",
              "    }\n",
              "\n",
              "    .dataframe thead th {\n",
              "        text-align: right;\n",
              "    }\n",
              "</style>\n",
              "<table border=\"1\" class=\"dataframe\">\n",
              "  <thead>\n",
              "    <tr style=\"text-align: right;\">\n",
              "      <th></th>\n",
              "      <th>Machine Learning Method</th>\n",
              "      <th>Test Accuracy</th>\n",
              "      <th>Best Parameter</th>\n",
              "      <th>Top Predictor Variable for RNF</th>\n",
              "      <th>Run Time</th>\n",
              "    </tr>\n",
              "  </thead>\n",
              "  <tbody>\n",
              "    <tr>\n",
              "      <th>0</th>\n",
              "      <td>kNN</td>\n",
              "      <td>0.99788</td>\n",
              "      <td>N_Neighbor = 4</td>\n",
              "      <td>NA</td>\n",
              "      <td>149.668997</td>\n",
              "    </tr>\n",
              "    <tr>\n",
              "      <th>1</th>\n",
              "      <td>Logistic (l2)</td>\n",
              "      <td>0.99788</td>\n",
              "      <td>C = 1e-08</td>\n",
              "      <td>Process temperature [K]</td>\n",
              "      <td>15.704740</td>\n",
              "    </tr>\n",
              "    <tr>\n",
              "      <th>2</th>\n",
              "      <td>Logistic (l1)</td>\n",
              "      <td>0.99788</td>\n",
              "      <td>C = 1e-08</td>\n",
              "      <td>Process temperature [K]</td>\n",
              "      <td>34.818031</td>\n",
              "    </tr>\n",
              "    <tr>\n",
              "      <th>3</th>\n",
              "      <td>Linear SVM (l2)</td>\n",
              "      <td>0.99788</td>\n",
              "      <td>C = 1e-08</td>\n",
              "      <td>Rotational speed [rpm]</td>\n",
              "      <td>76.253664</td>\n",
              "    </tr>\n",
              "    <tr>\n",
              "      <th>4</th>\n",
              "      <td>Linear SVM (l1)</td>\n",
              "      <td>0.99788</td>\n",
              "      <td>C = 1e-08</td>\n",
              "      <td>Process temperature [K]</td>\n",
              "      <td>77.771149</td>\n",
              "    </tr>\n",
              "    <tr>\n",
              "      <th>5</th>\n",
              "      <td>Random Forest</td>\n",
              "      <td>0.99788</td>\n",
              "      <td>Max_features = 0.1</td>\n",
              "      <td>Torque [Nm]</td>\n",
              "      <td>81.561450</td>\n",
              "    </tr>\n",
              "    <tr>\n",
              "      <th>6</th>\n",
              "      <td>Gradient Boosting Method</td>\n",
              "      <td>0.99714</td>\n",
              "      <td>Max_features = 0.3</td>\n",
              "      <td>Torque [Nm]</td>\n",
              "      <td>68.469582</td>\n",
              "    </tr>\n",
              "  </tbody>\n",
              "</table>\n",
              "</div>"
            ],
            "text/plain": [
              "    Machine Learning Method  ...    Run Time\n",
              "0                       kNN  ...  149.668997\n",
              "1             Logistic (l2)  ...   15.704740\n",
              "2             Logistic (l1)  ...   34.818031\n",
              "3           Linear SVM (l2)  ...   76.253664\n",
              "4           Linear SVM (l1)  ...   77.771149\n",
              "5             Random Forest  ...   81.561450\n",
              "6  Gradient Boosting Method  ...   68.469582\n",
              "\n",
              "[7 rows x 5 columns]"
            ]
          },
          "metadata": {
            "tags": []
          },
          "execution_count": 38
        }
      ]
    },
    {
      "cell_type": "code",
      "metadata": {
        "colab": {
          "base_uri": "https://localhost:8080/",
          "height": 197
        },
        "id": "BEUrcC8wH6W5",
        "outputId": "6c71743b-085c-4306-ae0a-958887a3b29b"
      },
      "source": [
        "cols = ['Machine Failure Mode', 'Top Predictor Variable']\n",
        "df2 = pd.DataFrame(columns=cols)\n",
        "\n",
        "df2.loc[0] = ['Tool Wear Failure (TWF)', 'Tool wear [min]']\n",
        "df2.loc[1] = ['Heat Dissipation Failure (HDF)', 'Air temperature [K]']\n",
        "df2.loc[2] = ['Power Failure (PWF)', 'Torque [Nm]']\n",
        "df2.loc[3] = ['Overstrain Failure (OSF)', 'Tool wear [min]']\n",
        "df2.loc[4] = ['Random Failure (RNF)', 'Torque [Nm]']\n",
        "\n",
        "df2"
      ],
      "execution_count": 40,
      "outputs": [
        {
          "output_type": "execute_result",
          "data": {
            "text/html": [
              "<div>\n",
              "<style scoped>\n",
              "    .dataframe tbody tr th:only-of-type {\n",
              "        vertical-align: middle;\n",
              "    }\n",
              "\n",
              "    .dataframe tbody tr th {\n",
              "        vertical-align: top;\n",
              "    }\n",
              "\n",
              "    .dataframe thead th {\n",
              "        text-align: right;\n",
              "    }\n",
              "</style>\n",
              "<table border=\"1\" class=\"dataframe\">\n",
              "  <thead>\n",
              "    <tr style=\"text-align: right;\">\n",
              "      <th></th>\n",
              "      <th>Machine Failure Mode</th>\n",
              "      <th>Top Predictor Variable</th>\n",
              "    </tr>\n",
              "  </thead>\n",
              "  <tbody>\n",
              "    <tr>\n",
              "      <th>0</th>\n",
              "      <td>Tool Wear Failure (TWF)</td>\n",
              "      <td>Tool wear [min]</td>\n",
              "    </tr>\n",
              "    <tr>\n",
              "      <th>1</th>\n",
              "      <td>Heat Dissipation Failure (HDF)</td>\n",
              "      <td>Air temperature [K]</td>\n",
              "    </tr>\n",
              "    <tr>\n",
              "      <th>2</th>\n",
              "      <td>Power Failure (PWF)</td>\n",
              "      <td>Torque [Nm]</td>\n",
              "    </tr>\n",
              "    <tr>\n",
              "      <th>3</th>\n",
              "      <td>Overstrain Failure (OSF)</td>\n",
              "      <td>Tool wear [min]</td>\n",
              "    </tr>\n",
              "    <tr>\n",
              "      <th>4</th>\n",
              "      <td>Random Failure (RNF)</td>\n",
              "      <td>Torque [Nm]</td>\n",
              "    </tr>\n",
              "  </tbody>\n",
              "</table>\n",
              "</div>"
            ],
            "text/plain": [
              "             Machine Failure Mode Top Predictor Variable\n",
              "0         Tool Wear Failure (TWF)        Tool wear [min]\n",
              "1  Heat Dissipation Failure (HDF)    Air temperature [K]\n",
              "2             Power Failure (PWF)            Torque [Nm]\n",
              "3        Overstrain Failure (OSF)        Tool wear [min]\n",
              "4            Random Failure (RNF)            Torque [Nm]"
            ]
          },
          "metadata": {
            "tags": []
          },
          "execution_count": 40
        }
      ]
    }
  ]
}
