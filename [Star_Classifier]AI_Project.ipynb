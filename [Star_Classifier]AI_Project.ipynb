{
  "nbformat": 4,
  "nbformat_minor": 0,
  "metadata": {
    "colab": {
      "name": "[Star Classifier]AI_Project.ipynb",
      "provenance": [],
      "collapsed_sections": [],
      "include_colab_link": true
    },
    "kernelspec": {
      "display_name": "Python 3",
      "language": "python",
      "name": "python3"
    },
    "language_info": {
      "codemirror_mode": {
        "name": "ipython",
        "version": 3
      },
      "file_extension": ".py",
      "mimetype": "text/x-python",
      "name": "python",
      "nbconvert_exporter": "python",
      "pygments_lexer": "ipython3",
      "version": "3.8.5"
    }
  },
  "cells": [
    {
      "cell_type": "markdown",
      "metadata": {
        "id": "view-in-github",
        "colab_type": "text"
      },
      "source": [
        "<a href=\"https://colab.research.google.com/github/baeyuh/AI-Tasks/blob/main/%5BStar_Classifier%5DAI_Project.ipynb\" target=\"_parent\"><img src=\"https://colab.research.google.com/assets/colab-badge.svg\" alt=\"Open In Colab\"/></a>"
      ]
    },
    {
      "cell_type": "markdown",
      "metadata": {
        "id": "NvJGxBmf_z98"
      },
      "source": [
        "Star Classification"
      ]
    },
    {
      "cell_type": "markdown",
      "metadata": {
        "id": "d0Mfj0ie_z-D"
      },
      "source": [
        "## Exploratory Data Analysis "
      ]
    },
    {
      "cell_type": "code",
      "metadata": {
        "id": "9mZ7zKvg_z-D"
      },
      "source": [
        "import pandas as pd\n",
        "import numpy as np\n",
        "import matplotlib.pyplot as plt\n",
        "\n",
        "import warnings\n",
        "from warnings import simplefilter\n",
        "from sklearn.exceptions import ConvergenceWarning\n",
        "\n",
        "warnings.filterwarnings(\"ignore\", category=FutureWarning)\n",
        "warnings.filterwarnings(\"ignore\", category=RuntimeWarning)\n",
        "warnings.filterwarnings(\"ignore\", category=ConvergenceWarning)\n",
        "#warnings.filterwarnings(\"ignore\", category=DataConversionWarning)\n",
        "\n",
        "#from warnings import simplefilter\n",
        "#from sklearn.exceptions import ConvergenceWarning\n",
        "#simplefilter(\"ignore\", category=ConvergenceWarning)"
      ],
      "execution_count": 1,
      "outputs": []
    },
    {
      "cell_type": "code",
      "metadata": {
        "colab": {
          "base_uri": "https://localhost:8080/"
        },
        "id": "FqxYoRqFpctZ",
        "outputId": "2916b26c-f02a-42a8-9f7c-c4cf231097ab"
      },
      "source": [
        "from google.colab import drive\n",
        "drive.mount('/content/drive')"
      ],
      "execution_count": 2,
      "outputs": [
        {
          "output_type": "stream",
          "text": [
            "Drive already mounted at /content/drive; to attempt to forcibly remount, call drive.mount(\"/content/drive\", force_remount=True).\n"
          ],
          "name": "stdout"
        }
      ]
    },
    {
      "cell_type": "code",
      "metadata": {
        "id": "1NwkJFMYqHKI"
      },
      "source": [
        "data_dir = '/content/drive/MyDrive/Colab Notebooks/AI_Project/dataset/'"
      ],
      "execution_count": 3,
      "outputs": []
    },
    {
      "cell_type": "code",
      "metadata": {
        "colab": {
          "base_uri": "https://localhost:8080/",
          "height": 197
        },
        "id": "yzJ68ohBq65W",
        "outputId": "238c22ae-658f-4ee2-82c3-1a7d94c36e9d"
      },
      "source": [
        "df_data = pd.read_csv(data_dir+'6 class csv.csv')\n",
        "dummy = df_data\n",
        "dummy.head()"
      ],
      "execution_count": 4,
      "outputs": [
        {
          "output_type": "execute_result",
          "data": {
            "text/html": [
              "<div>\n",
              "<style scoped>\n",
              "    .dataframe tbody tr th:only-of-type {\n",
              "        vertical-align: middle;\n",
              "    }\n",
              "\n",
              "    .dataframe tbody tr th {\n",
              "        vertical-align: top;\n",
              "    }\n",
              "\n",
              "    .dataframe thead th {\n",
              "        text-align: right;\n",
              "    }\n",
              "</style>\n",
              "<table border=\"1\" class=\"dataframe\">\n",
              "  <thead>\n",
              "    <tr style=\"text-align: right;\">\n",
              "      <th></th>\n",
              "      <th>Temperature (K)</th>\n",
              "      <th>Luminosity(L/Lo)</th>\n",
              "      <th>Radius(R/Ro)</th>\n",
              "      <th>Absolute magnitude(Mv)</th>\n",
              "      <th>Star type</th>\n",
              "      <th>Star color</th>\n",
              "      <th>Spectral Class</th>\n",
              "    </tr>\n",
              "  </thead>\n",
              "  <tbody>\n",
              "    <tr>\n",
              "      <th>0</th>\n",
              "      <td>3068</td>\n",
              "      <td>0.002400</td>\n",
              "      <td>0.1700</td>\n",
              "      <td>16.12</td>\n",
              "      <td>0</td>\n",
              "      <td>Red</td>\n",
              "      <td>M</td>\n",
              "    </tr>\n",
              "    <tr>\n",
              "      <th>1</th>\n",
              "      <td>3042</td>\n",
              "      <td>0.000500</td>\n",
              "      <td>0.1542</td>\n",
              "      <td>16.60</td>\n",
              "      <td>0</td>\n",
              "      <td>Red</td>\n",
              "      <td>M</td>\n",
              "    </tr>\n",
              "    <tr>\n",
              "      <th>2</th>\n",
              "      <td>2600</td>\n",
              "      <td>0.000300</td>\n",
              "      <td>0.1020</td>\n",
              "      <td>18.70</td>\n",
              "      <td>0</td>\n",
              "      <td>Red</td>\n",
              "      <td>M</td>\n",
              "    </tr>\n",
              "    <tr>\n",
              "      <th>3</th>\n",
              "      <td>2800</td>\n",
              "      <td>0.000200</td>\n",
              "      <td>0.1600</td>\n",
              "      <td>16.65</td>\n",
              "      <td>0</td>\n",
              "      <td>Red</td>\n",
              "      <td>M</td>\n",
              "    </tr>\n",
              "    <tr>\n",
              "      <th>4</th>\n",
              "      <td>1939</td>\n",
              "      <td>0.000138</td>\n",
              "      <td>0.1030</td>\n",
              "      <td>20.06</td>\n",
              "      <td>0</td>\n",
              "      <td>Red</td>\n",
              "      <td>M</td>\n",
              "    </tr>\n",
              "  </tbody>\n",
              "</table>\n",
              "</div>"
            ],
            "text/plain": [
              "   Temperature (K)  Luminosity(L/Lo)  ...  Star color  Spectral Class\n",
              "0             3068          0.002400  ...         Red               M\n",
              "1             3042          0.000500  ...         Red               M\n",
              "2             2600          0.000300  ...         Red               M\n",
              "3             2800          0.000200  ...         Red               M\n",
              "4             1939          0.000138  ...         Red               M\n",
              "\n",
              "[5 rows x 7 columns]"
            ]
          },
          "metadata": {
            "tags": []
          },
          "execution_count": 4
        }
      ]
    },
    {
      "cell_type": "code",
      "metadata": {
        "colab": {
          "base_uri": "https://localhost:8080/"
        },
        "id": "3JQsjQdv_z-E",
        "outputId": "ce9099b3-1f85-4812-a674-2d01e142d441"
      },
      "source": [
        "print(df_data.shape)"
      ],
      "execution_count": 5,
      "outputs": [
        {
          "output_type": "stream",
          "text": [
            "(240, 7)\n"
          ],
          "name": "stdout"
        }
      ]
    },
    {
      "cell_type": "code",
      "metadata": {
        "colab": {
          "base_uri": "https://localhost:8080/"
        },
        "id": "GwZpCrAJ_z-F",
        "outputId": "f961de89-cd99-4536-b01d-ced9afb4b62c"
      },
      "source": [
        "df_data.columns"
      ],
      "execution_count": 6,
      "outputs": [
        {
          "output_type": "execute_result",
          "data": {
            "text/plain": [
              "Index(['Temperature (K)', 'Luminosity(L/Lo)', 'Radius(R/Ro)',\n",
              "       'Absolute magnitude(Mv)', 'Star type', 'Star color', 'Spectral Class'],\n",
              "      dtype='object')"
            ]
          },
          "metadata": {
            "tags": []
          },
          "execution_count": 6
        }
      ]
    },
    {
      "cell_type": "code",
      "metadata": {
        "colab": {
          "base_uri": "https://localhost:8080/",
          "height": 496
        },
        "id": "YNUNNf_b_z-F",
        "scrolled": true,
        "outputId": "fd233d5c-90d6-4668-b421-13f0a4220455"
      },
      "source": [
        "import seaborn as sns\n",
        "plt.figure(figsize=(15,8))\n",
        "sns.countplot(df_data['Star type'],label=\"Count\")\n",
        "plt.show()"
      ],
      "execution_count": 7,
      "outputs": [
        {
          "output_type": "display_data",
          "data": {
            "image/png": "[encoded data removed]",
            "text/plain": [
              "<Figure size 1080x576 with 1 Axes>"
            ]
          },
          "metadata": {
            "tags": [],
            "needs_background": "light"
          }
        }
      ]
    },
    {
      "cell_type": "code",
      "metadata": {
        "colab": {
          "base_uri": "https://localhost:8080/"
        },
        "id": "X3bPF1f-_z-F",
        "outputId": "1394b5ba-10d6-4d49-8ce6-b5455c2cf00d"
      },
      "source": [
        "df_data.groupby('Star type').size()"
      ],
      "execution_count": 8,
      "outputs": [
        {
          "output_type": "execute_result",
          "data": {
            "text/plain": [
              "Star type\n",
              "0    40\n",
              "1    40\n",
              "2    40\n",
              "3    40\n",
              "4    40\n",
              "5    40\n",
              "dtype: int64"
            ]
          },
          "metadata": {
            "tags": []
          },
          "execution_count": 8
        }
      ]
    },
    {
      "cell_type": "code",
      "metadata": {
        "colab": {
          "base_uri": "https://localhost:8080/"
        },
        "id": "FGiUFuv6_z-G",
        "outputId": "5b8d501f-534d-4ee6-f0db-7236cd4f1858"
      },
      "source": [
        "df_data.groupby('Star type').size()[0]/df_data.groupby('Star type').size().sum()"
      ],
      "execution_count": 9,
      "outputs": [
        {
          "output_type": "execute_result",
          "data": {
            "text/plain": [
              "0.16666666666666666"
            ]
          },
          "metadata": {
            "tags": []
          },
          "execution_count": 9
        }
      ]
    },
    {
      "cell_type": "code",
      "metadata": {
        "colab": {
          "base_uri": "https://localhost:8080/"
        },
        "id": "KJCDR_Bi_z-G",
        "outputId": "f967074d-73b1-4f86-d403-27620fadb880"
      },
      "source": [
        "num=(df_data.groupby('Star type').size()/df_data.groupby('Star type').size().sum())**2\n",
        "#print(\"Population per class: {}\\n\".format(df_state))\n",
        "print(\"Proportion Chance Criterion = {}%\".format(100*num.sum()))\n",
        "print(\"1.25*Proportion Chance Criterion = {}%\".format(1.25*100*num.sum()))"
      ],
      "execution_count": 10,
      "outputs": [
        {
          "output_type": "stream",
          "text": [
            "Proportion Chance Criterion = 16.666666666666668%\n",
            "1.25*Proportion Chance Criterion = 20.833333333333336%\n"
          ],
          "name": "stdout"
        }
      ]
    },
    {
      "cell_type": "markdown",
      "metadata": {
        "id": "jMmIJLd9_z-G"
      },
      "source": [
        "# Step 1: Look at the missing values"
      ]
    },
    {
      "cell_type": "code",
      "metadata": {
        "colab": {
          "base_uri": "https://localhost:8080/"
        },
        "id": "k7NLPB-M_z-G",
        "outputId": "89fc638f-f0ca-492c-97d9-aa1d4e4a43ab"
      },
      "source": [
        "df_data.isnull().sum()"
      ],
      "execution_count": 11,
      "outputs": [
        {
          "output_type": "execute_result",
          "data": {
            "text/plain": [
              "Temperature (K)           0\n",
              "Luminosity(L/Lo)          0\n",
              "Radius(R/Ro)              0\n",
              "Absolute magnitude(Mv)    0\n",
              "Star type                 0\n",
              "Star color                0\n",
              "Spectral Class            0\n",
              "dtype: int64"
            ]
          },
          "metadata": {
            "tags": []
          },
          "execution_count": 11
        }
      ]
    },
    {
      "cell_type": "code",
      "metadata": {
        "colab": {
          "base_uri": "https://localhost:8080/"
        },
        "id": "wySkpbfS_z-H",
        "outputId": "04058af9-9e7e-4842-b084-f9924aec42b2"
      },
      "source": [
        "df_data.values"
      ],
      "execution_count": 12,
      "outputs": [
        {
          "output_type": "execute_result",
          "data": {
            "text/plain": [
              "array([[3068, 0.0024, 0.17, ..., 0, 'Red', 'M'],\n",
              "       [3042, 0.0005, 0.1542, ..., 0, 'Red', 'M'],\n",
              "       [2600, 0.0003, 0.102, ..., 0, 'Red', 'M'],\n",
              "       ...,\n",
              "       [8829, 537493.0, 1423.0, ..., 5, 'White', 'A'],\n",
              "       [9235, 404940.0, 1112.0, ..., 5, 'White', 'A'],\n",
              "       [37882, 294903.0, 1783.0, ..., 5, 'Blue', 'O']], dtype=object)"
            ]
          },
          "metadata": {
            "tags": []
          },
          "execution_count": 12
        }
      ]
    },
    {
      "cell_type": "markdown",
      "metadata": {
        "id": "KEEWB59r_z-H"
      },
      "source": [
        "## Steps 2 and 3. Remove or Input the missing values"
      ]
    },
    {
      "cell_type": "code",
      "metadata": {
        "id": "-BnWYAwx_z-H"
      },
      "source": [
        "import pandas as pd\n",
        "import numpy as np\n",
        "\n",
        "from sklearn.base import TransformerMixin\n",
        "\n",
        "class DataFrameImputer(TransformerMixin):\n",
        "\n",
        "    def __init__(self):\n",
        "        \"\"\"Impute missing values.\n",
        "\n",
        "        Columns of dtype object are imputed with the most frequent value \n",
        "        in column.\n",
        "\n",
        "        Columns of other types are imputed with mean of column.\n",
        "\n",
        "        \"\"\"\n",
        "    def fit(self, X, y=None):\n",
        "\n",
        "        self.fill = pd.Series([X[c].value_counts().index[0]\n",
        "            if X[c].dtype == np.dtype('O') else X[c].mean() for c in X],\n",
        "            index=X.columns)\n",
        "\n",
        "        return self\n",
        "\n",
        "    def transform(self, X, y=None):\n",
        "        return X.fillna(self.fill)\n",
        "\n",
        "\n",
        "\n",
        "X_transition = pd.DataFrame(df_data)\n",
        "X_data_clean = DataFrameImputer().fit_transform(X_transition)\n"
      ],
      "execution_count": 13,
      "outputs": []
    },
    {
      "cell_type": "code",
      "metadata": {
        "colab": {
          "base_uri": "https://localhost:8080/"
        },
        "id": "YAoqrWmbxL2v",
        "outputId": "39764a39-00f7-4a0c-fe3b-d8596171f34b"
      },
      "source": [
        "X_data_clean.isnull().sum()"
      ],
      "execution_count": 14,
      "outputs": [
        {
          "output_type": "execute_result",
          "data": {
            "text/plain": [
              "Temperature (K)           0\n",
              "Luminosity(L/Lo)          0\n",
              "Radius(R/Ro)              0\n",
              "Absolute magnitude(Mv)    0\n",
              "Star type                 0\n",
              "Star color                0\n",
              "Spectral Class            0\n",
              "dtype: int64"
            ]
          },
          "metadata": {
            "tags": []
          },
          "execution_count": 14
        }
      ]
    },
    {
      "cell_type": "code",
      "metadata": {
        "colab": {
          "base_uri": "https://localhost:8080/",
          "height": 197
        },
        "id": "rft4uFTLiAKa",
        "outputId": "8f1bf1e3-9056-4b8f-bb08-e3603290b6a0"
      },
      "source": [
        "X_data_clean.head()"
      ],
      "execution_count": 15,
      "outputs": [
        {
          "output_type": "execute_result",
          "data": {
            "text/html": [
              "<div>\n",
              "<style scoped>\n",
              "    .dataframe tbody tr th:only-of-type {\n",
              "        vertical-align: middle;\n",
              "    }\n",
              "\n",
              "    .dataframe tbody tr th {\n",
              "        vertical-align: top;\n",
              "    }\n",
              "\n",
              "    .dataframe thead th {\n",
              "        text-align: right;\n",
              "    }\n",
              "</style>\n",
              "<table border=\"1\" class=\"dataframe\">\n",
              "  <thead>\n",
              "    <tr style=\"text-align: right;\">\n",
              "      <th></th>\n",
              "      <th>Temperature (K)</th>\n",
              "      <th>Luminosity(L/Lo)</th>\n",
              "      <th>Radius(R/Ro)</th>\n",
              "      <th>Absolute magnitude(Mv)</th>\n",
              "      <th>Star type</th>\n",
              "      <th>Star color</th>\n",
              "      <th>Spectral Class</th>\n",
              "    </tr>\n",
              "  </thead>\n",
              "  <tbody>\n",
              "    <tr>\n",
              "      <th>0</th>\n",
              "      <td>3068</td>\n",
              "      <td>0.002400</td>\n",
              "      <td>0.1700</td>\n",
              "      <td>16.12</td>\n",
              "      <td>0</td>\n",
              "      <td>Red</td>\n",
              "      <td>M</td>\n",
              "    </tr>\n",
              "    <tr>\n",
              "      <th>1</th>\n",
              "      <td>3042</td>\n",
              "      <td>0.000500</td>\n",
              "      <td>0.1542</td>\n",
              "      <td>16.60</td>\n",
              "      <td>0</td>\n",
              "      <td>Red</td>\n",
              "      <td>M</td>\n",
              "    </tr>\n",
              "    <tr>\n",
              "      <th>2</th>\n",
              "      <td>2600</td>\n",
              "      <td>0.000300</td>\n",
              "      <td>0.1020</td>\n",
              "      <td>18.70</td>\n",
              "      <td>0</td>\n",
              "      <td>Red</td>\n",
              "      <td>M</td>\n",
              "    </tr>\n",
              "    <tr>\n",
              "      <th>3</th>\n",
              "      <td>2800</td>\n",
              "      <td>0.000200</td>\n",
              "      <td>0.1600</td>\n",
              "      <td>16.65</td>\n",
              "      <td>0</td>\n",
              "      <td>Red</td>\n",
              "      <td>M</td>\n",
              "    </tr>\n",
              "    <tr>\n",
              "      <th>4</th>\n",
              "      <td>1939</td>\n",
              "      <td>0.000138</td>\n",
              "      <td>0.1030</td>\n",
              "      <td>20.06</td>\n",
              "      <td>0</td>\n",
              "      <td>Red</td>\n",
              "      <td>M</td>\n",
              "    </tr>\n",
              "  </tbody>\n",
              "</table>\n",
              "</div>"
            ],
            "text/plain": [
              "   Temperature (K)  Luminosity(L/Lo)  ...  Star color  Spectral Class\n",
              "0             3068          0.002400  ...         Red               M\n",
              "1             3042          0.000500  ...         Red               M\n",
              "2             2600          0.000300  ...         Red               M\n",
              "3             2800          0.000200  ...         Red               M\n",
              "4             1939          0.000138  ...         Red               M\n",
              "\n",
              "[5 rows x 7 columns]"
            ]
          },
          "metadata": {
            "tags": []
          },
          "execution_count": 15
        }
      ]
    },
    {
      "cell_type": "code",
      "metadata": {
        "colab": {
          "base_uri": "https://localhost:8080/"
        },
        "id": "YecLrVcQ_z-I",
        "outputId": "0d63ca02-854f-4c3c-b828-4e6d951b7f78"
      },
      "source": [
        "X_data_clean.columns"
      ],
      "execution_count": 16,
      "outputs": [
        {
          "output_type": "execute_result",
          "data": {
            "text/plain": [
              "Index(['Temperature (K)', 'Luminosity(L/Lo)', 'Radius(R/Ro)',\n",
              "       'Absolute magnitude(Mv)', 'Star type', 'Star color', 'Spectral Class'],\n",
              "      dtype='object')"
            ]
          },
          "metadata": {
            "tags": []
          },
          "execution_count": 16
        }
      ]
    },
    {
      "cell_type": "code",
      "metadata": {
        "id": "3QBQF3-c_z-I"
      },
      "source": [
        "X_data_clean = X_data_clean.drop(['Star type'], axis=1)  # REMOVE THE TARGET VARIABLE"
      ],
      "execution_count": 17,
      "outputs": []
    },
    {
      "cell_type": "markdown",
      "metadata": {
        "id": "SGgslmKj_z-I"
      },
      "source": [
        "We can see that the numerical values do not have the same scale. We will need to apply scaling to the test set that we computed for the training set.\n",
        "\n",
        "## Step 4. Handle Categorical Data, for simplicity let's just One Hat Encode all the categorical values"
      ]
    },
    {
      "cell_type": "code",
      "metadata": {
        "id": "3YItTNo8_z-I"
      },
      "source": [
        "XX=pd.get_dummies(X_data_clean)"
      ],
      "execution_count": 18,
      "outputs": []
    },
    {
      "cell_type": "code",
      "metadata": {
        "id": "VKUt6l7-_z-J",
        "colab": {
          "base_uri": "https://localhost:8080/",
          "height": 267
        },
        "outputId": "2dcac1e1-55df-4c08-8224-3a00ae23890f"
      },
      "source": [
        "XX.head()"
      ],
      "execution_count": 19,
      "outputs": [
        {
          "output_type": "execute_result",
          "data": {
            "text/html": [
              "<div>\n",
              "<style scoped>\n",
              "    .dataframe tbody tr th:only-of-type {\n",
              "        vertical-align: middle;\n",
              "    }\n",
              "\n",
              "    .dataframe tbody tr th {\n",
              "        vertical-align: top;\n",
              "    }\n",
              "\n",
              "    .dataframe thead th {\n",
              "        text-align: right;\n",
              "    }\n",
              "</style>\n",
              "<table border=\"1\" class=\"dataframe\">\n",
              "  <thead>\n",
              "    <tr style=\"text-align: right;\">\n",
              "      <th></th>\n",
              "      <th>Temperature (K)</th>\n",
              "      <th>Luminosity(L/Lo)</th>\n",
              "      <th>Radius(R/Ro)</th>\n",
              "      <th>Absolute magnitude(Mv)</th>\n",
              "      <th>Star color_Blue</th>\n",
              "      <th>Star color_Blue</th>\n",
              "      <th>Star color_Blue White</th>\n",
              "      <th>Star color_Blue white</th>\n",
              "      <th>Star color_Blue white</th>\n",
              "      <th>Star color_Blue-White</th>\n",
              "      <th>Star color_Blue-white</th>\n",
              "      <th>Star color_Orange</th>\n",
              "      <th>Star color_Orange-Red</th>\n",
              "      <th>Star color_Pale yellow orange</th>\n",
              "      <th>Star color_Red</th>\n",
              "      <th>Star color_White</th>\n",
              "      <th>Star color_White-Yellow</th>\n",
              "      <th>Star color_Whitish</th>\n",
              "      <th>Star color_Yellowish</th>\n",
              "      <th>Star color_Yellowish White</th>\n",
              "      <th>Star color_white</th>\n",
              "      <th>Star color_yellow-white</th>\n",
              "      <th>Star color_yellowish</th>\n",
              "      <th>Spectral Class_A</th>\n",
              "      <th>Spectral Class_B</th>\n",
              "      <th>Spectral Class_F</th>\n",
              "      <th>Spectral Class_G</th>\n",
              "      <th>Spectral Class_K</th>\n",
              "      <th>Spectral Class_M</th>\n",
              "      <th>Spectral Class_O</th>\n",
              "    </tr>\n",
              "  </thead>\n",
              "  <tbody>\n",
              "    <tr>\n",
              "      <th>0</th>\n",
              "      <td>3068</td>\n",
              "      <td>0.002400</td>\n",
              "      <td>0.1700</td>\n",
              "      <td>16.12</td>\n",
              "      <td>0</td>\n",
              "      <td>0</td>\n",
              "      <td>0</td>\n",
              "      <td>0</td>\n",
              "      <td>0</td>\n",
              "      <td>0</td>\n",
              "      <td>0</td>\n",
              "      <td>0</td>\n",
              "      <td>0</td>\n",
              "      <td>0</td>\n",
              "      <td>1</td>\n",
              "      <td>0</td>\n",
              "      <td>0</td>\n",
              "      <td>0</td>\n",
              "      <td>0</td>\n",
              "      <td>0</td>\n",
              "      <td>0</td>\n",
              "      <td>0</td>\n",
              "      <td>0</td>\n",
              "      <td>0</td>\n",
              "      <td>0</td>\n",
              "      <td>0</td>\n",
              "      <td>0</td>\n",
              "      <td>0</td>\n",
              "      <td>1</td>\n",
              "      <td>0</td>\n",
              "    </tr>\n",
              "    <tr>\n",
              "      <th>1</th>\n",
              "      <td>3042</td>\n",
              "      <td>0.000500</td>\n",
              "      <td>0.1542</td>\n",
              "      <td>16.60</td>\n",
              "      <td>0</td>\n",
              "      <td>0</td>\n",
              "      <td>0</td>\n",
              "      <td>0</td>\n",
              "      <td>0</td>\n",
              "      <td>0</td>\n",
              "      <td>0</td>\n",
              "      <td>0</td>\n",
              "      <td>0</td>\n",
              "      <td>0</td>\n",
              "      <td>1</td>\n",
              "      <td>0</td>\n",
              "      <td>0</td>\n",
              "      <td>0</td>\n",
              "      <td>0</td>\n",
              "      <td>0</td>\n",
              "      <td>0</td>\n",
              "      <td>0</td>\n",
              "      <td>0</td>\n",
              "      <td>0</td>\n",
              "      <td>0</td>\n",
              "      <td>0</td>\n",
              "      <td>0</td>\n",
              "      <td>0</td>\n",
              "      <td>1</td>\n",
              "      <td>0</td>\n",
              "    </tr>\n",
              "    <tr>\n",
              "      <th>2</th>\n",
              "      <td>2600</td>\n",
              "      <td>0.000300</td>\n",
              "      <td>0.1020</td>\n",
              "      <td>18.70</td>\n",
              "      <td>0</td>\n",
              "      <td>0</td>\n",
              "      <td>0</td>\n",
              "      <td>0</td>\n",
              "      <td>0</td>\n",
              "      <td>0</td>\n",
              "      <td>0</td>\n",
              "      <td>0</td>\n",
              "      <td>0</td>\n",
              "      <td>0</td>\n",
              "      <td>1</td>\n",
              "      <td>0</td>\n",
              "      <td>0</td>\n",
              "      <td>0</td>\n",
              "      <td>0</td>\n",
              "      <td>0</td>\n",
              "      <td>0</td>\n",
              "      <td>0</td>\n",
              "      <td>0</td>\n",
              "      <td>0</td>\n",
              "      <td>0</td>\n",
              "      <td>0</td>\n",
              "      <td>0</td>\n",
              "      <td>0</td>\n",
              "      <td>1</td>\n",
              "      <td>0</td>\n",
              "    </tr>\n",
              "    <tr>\n",
              "      <th>3</th>\n",
              "      <td>2800</td>\n",
              "      <td>0.000200</td>\n",
              "      <td>0.1600</td>\n",
              "      <td>16.65</td>\n",
              "      <td>0</td>\n",
              "      <td>0</td>\n",
              "      <td>0</td>\n",
              "      <td>0</td>\n",
              "      <td>0</td>\n",
              "      <td>0</td>\n",
              "      <td>0</td>\n",
              "      <td>0</td>\n",
              "      <td>0</td>\n",
              "      <td>0</td>\n",
              "      <td>1</td>\n",
              "      <td>0</td>\n",
              "      <td>0</td>\n",
              "      <td>0</td>\n",
              "      <td>0</td>\n",
              "      <td>0</td>\n",
              "      <td>0</td>\n",
              "      <td>0</td>\n",
              "      <td>0</td>\n",
              "      <td>0</td>\n",
              "      <td>0</td>\n",
              "      <td>0</td>\n",
              "      <td>0</td>\n",
              "      <td>0</td>\n",
              "      <td>1</td>\n",
              "      <td>0</td>\n",
              "    </tr>\n",
              "    <tr>\n",
              "      <th>4</th>\n",
              "      <td>1939</td>\n",
              "      <td>0.000138</td>\n",
              "      <td>0.1030</td>\n",
              "      <td>20.06</td>\n",
              "      <td>0</td>\n",
              "      <td>0</td>\n",
              "      <td>0</td>\n",
              "      <td>0</td>\n",
              "      <td>0</td>\n",
              "      <td>0</td>\n",
              "      <td>0</td>\n",
              "      <td>0</td>\n",
              "      <td>0</td>\n",
              "      <td>0</td>\n",
              "      <td>1</td>\n",
              "      <td>0</td>\n",
              "      <td>0</td>\n",
              "      <td>0</td>\n",
              "      <td>0</td>\n",
              "      <td>0</td>\n",
              "      <td>0</td>\n",
              "      <td>0</td>\n",
              "      <td>0</td>\n",
              "      <td>0</td>\n",
              "      <td>0</td>\n",
              "      <td>0</td>\n",
              "      <td>0</td>\n",
              "      <td>0</td>\n",
              "      <td>1</td>\n",
              "      <td>0</td>\n",
              "    </tr>\n",
              "  </tbody>\n",
              "</table>\n",
              "</div>"
            ],
            "text/plain": [
              "   Temperature (K)  Luminosity(L/Lo)  ...  Spectral Class_M  Spectral Class_O\n",
              "0             3068          0.002400  ...                 1                 0\n",
              "1             3042          0.000500  ...                 1                 0\n",
              "2             2600          0.000300  ...                 1                 0\n",
              "3             2800          0.000200  ...                 1                 0\n",
              "4             1939          0.000138  ...                 1                 0\n",
              "\n",
              "[5 rows x 30 columns]"
            ]
          },
          "metadata": {
            "tags": []
          },
          "execution_count": 19
        }
      ]
    },
    {
      "cell_type": "code",
      "metadata": {
        "id": "8uQacCdl_z-J",
        "colab": {
          "base_uri": "https://localhost:8080/"
        },
        "outputId": "0422b30b-1e12-42c2-b2a3-28fe344f20b8"
      },
      "source": [
        "X_data_clean.shape"
      ],
      "execution_count": 20,
      "outputs": [
        {
          "output_type": "execute_result",
          "data": {
            "text/plain": [
              "(240, 6)"
            ]
          },
          "metadata": {
            "tags": []
          },
          "execution_count": 20
        }
      ]
    },
    {
      "cell_type": "code",
      "metadata": {
        "id": "U99O3oyx_z-J",
        "colab": {
          "base_uri": "https://localhost:8080/"
        },
        "outputId": "16e5d88b-719f-4783-cfa2-1cf20a6f9e57"
      },
      "source": [
        "XX.shape"
      ],
      "execution_count": 21,
      "outputs": [
        {
          "output_type": "execute_result",
          "data": {
            "text/plain": [
              "(240, 30)"
            ]
          },
          "metadata": {
            "tags": []
          },
          "execution_count": 21
        }
      ]
    },
    {
      "cell_type": "code",
      "metadata": {
        "id": "5s1dMrha_z-J"
      },
      "source": [
        "XX_column_names =XX.columns"
      ],
      "execution_count": 22,
      "outputs": []
    },
    {
      "cell_type": "markdown",
      "metadata": {
        "id": "W5niNoh9_z-K"
      },
      "source": [
        "# Step 5: Apply Scaler"
      ]
    },
    {
      "cell_type": "code",
      "metadata": {
        "id": "puDKeCdP_z-K"
      },
      "source": [
        "from sklearn.preprocessing import MinMaxScaler\n",
        "sscaler = MinMaxScaler()\n",
        "\n",
        "XX = sscaler.fit_transform(XX.astype(np.float)) #You will lose the column names"
      ],
      "execution_count": 23,
      "outputs": []
    },
    {
      "cell_type": "code",
      "metadata": {
        "colab": {
          "base_uri": "https://localhost:8080/"
        },
        "id": "Mm_m7GL7_z-K",
        "outputId": "9d7a1be9-fdf6-49a6-afb6-04aaa4e6e081"
      },
      "source": [
        "XX"
      ],
      "execution_count": 24,
      "outputs": [
        {
          "output_type": "execute_result",
          "data": {
            "text/plain": [
              "array([[2.96629095e-02, 2.73127546e-09, 8.29359490e-05, ...,\n",
              "        0.00000000e+00, 1.00000000e+00, 0.00000000e+00],\n",
              "       [2.89797956e-02, 4.94455040e-10, 7.48271124e-05, ...,\n",
              "        0.00000000e+00, 1.00000000e+00, 0.00000000e+00],\n",
              "       [1.73668585e-02, 2.59000259e-10, 4.80371586e-05, ...,\n",
              "        0.00000000e+00, 1.00000000e+00, 0.00000000e+00],\n",
              "       ...,\n",
              "       [1.81025196e-01, 6.32776483e-01, 7.30304200e-01, ...,\n",
              "        0.00000000e+00, 0.00000000e+00, 0.00000000e+00],\n",
              "       [1.91692283e-01, 4.76725295e-01, 5.70693556e-01, ...,\n",
              "        0.00000000e+00, 0.00000000e+00, 0.00000000e+00],\n",
              "       [9.44352487e-01, 3.47181606e-01, 9.15062503e-01, ...,\n",
              "        0.00000000e+00, 0.00000000e+00, 1.00000000e+00]])"
            ]
          },
          "metadata": {
            "tags": []
          },
          "execution_count": 24
        }
      ]
    },
    {
      "cell_type": "code",
      "metadata": {
        "colab": {
          "base_uri": "https://localhost:8080/",
          "height": 267
        },
        "id": "-S6oByE7_z-K",
        "outputId": "13387d5d-5b9a-4ad2-c01d-8bd8336af710"
      },
      "source": [
        "XX_df = pd.DataFrame(data = XX,columns = XX_column_names) # Return the column names\n",
        "XX_df.head()"
      ],
      "execution_count": 25,
      "outputs": [
        {
          "output_type": "execute_result",
          "data": {
            "text/html": [
              "<div>\n",
              "<style scoped>\n",
              "    .dataframe tbody tr th:only-of-type {\n",
              "        vertical-align: middle;\n",
              "    }\n",
              "\n",
              "    .dataframe tbody tr th {\n",
              "        vertical-align: top;\n",
              "    }\n",
              "\n",
              "    .dataframe thead th {\n",
              "        text-align: right;\n",
              "    }\n",
              "</style>\n",
              "<table border=\"1\" class=\"dataframe\">\n",
              "  <thead>\n",
              "    <tr style=\"text-align: right;\">\n",
              "      <th></th>\n",
              "      <th>Temperature (K)</th>\n",
              "      <th>Luminosity(L/Lo)</th>\n",
              "      <th>Radius(R/Ro)</th>\n",
              "      <th>Absolute magnitude(Mv)</th>\n",
              "      <th>Star color_Blue</th>\n",
              "      <th>Star color_Blue</th>\n",
              "      <th>Star color_Blue White</th>\n",
              "      <th>Star color_Blue white</th>\n",
              "      <th>Star color_Blue white</th>\n",
              "      <th>Star color_Blue-White</th>\n",
              "      <th>Star color_Blue-white</th>\n",
              "      <th>Star color_Orange</th>\n",
              "      <th>Star color_Orange-Red</th>\n",
              "      <th>Star color_Pale yellow orange</th>\n",
              "      <th>Star color_Red</th>\n",
              "      <th>Star color_White</th>\n",
              "      <th>Star color_White-Yellow</th>\n",
              "      <th>Star color_Whitish</th>\n",
              "      <th>Star color_Yellowish</th>\n",
              "      <th>Star color_Yellowish White</th>\n",
              "      <th>Star color_white</th>\n",
              "      <th>Star color_yellow-white</th>\n",
              "      <th>Star color_yellowish</th>\n",
              "      <th>Spectral Class_A</th>\n",
              "      <th>Spectral Class_B</th>\n",
              "      <th>Spectral Class_F</th>\n",
              "      <th>Spectral Class_G</th>\n",
              "      <th>Spectral Class_K</th>\n",
              "      <th>Spectral Class_M</th>\n",
              "      <th>Spectral Class_O</th>\n",
              "    </tr>\n",
              "  </thead>\n",
              "  <tbody>\n",
              "    <tr>\n",
              "      <th>0</th>\n",
              "      <td>0.029663</td>\n",
              "      <td>2.731275e-09</td>\n",
              "      <td>0.000083</td>\n",
              "      <td>0.876798</td>\n",
              "      <td>0.0</td>\n",
              "      <td>0.0</td>\n",
              "      <td>0.0</td>\n",
              "      <td>0.0</td>\n",
              "      <td>0.0</td>\n",
              "      <td>0.0</td>\n",
              "      <td>0.0</td>\n",
              "      <td>0.0</td>\n",
              "      <td>0.0</td>\n",
              "      <td>0.0</td>\n",
              "      <td>1.0</td>\n",
              "      <td>0.0</td>\n",
              "      <td>0.0</td>\n",
              "      <td>0.0</td>\n",
              "      <td>0.0</td>\n",
              "      <td>0.0</td>\n",
              "      <td>0.0</td>\n",
              "      <td>0.0</td>\n",
              "      <td>0.0</td>\n",
              "      <td>0.0</td>\n",
              "      <td>0.0</td>\n",
              "      <td>0.0</td>\n",
              "      <td>0.0</td>\n",
              "      <td>0.0</td>\n",
              "      <td>1.0</td>\n",
              "      <td>0.0</td>\n",
              "    </tr>\n",
              "    <tr>\n",
              "      <th>1</th>\n",
              "      <td>0.028980</td>\n",
              "      <td>4.944550e-10</td>\n",
              "      <td>0.000075</td>\n",
              "      <td>0.891807</td>\n",
              "      <td>0.0</td>\n",
              "      <td>0.0</td>\n",
              "      <td>0.0</td>\n",
              "      <td>0.0</td>\n",
              "      <td>0.0</td>\n",
              "      <td>0.0</td>\n",
              "      <td>0.0</td>\n",
              "      <td>0.0</td>\n",
              "      <td>0.0</td>\n",
              "      <td>0.0</td>\n",
              "      <td>1.0</td>\n",
              "      <td>0.0</td>\n",
              "      <td>0.0</td>\n",
              "      <td>0.0</td>\n",
              "      <td>0.0</td>\n",
              "      <td>0.0</td>\n",
              "      <td>0.0</td>\n",
              "      <td>0.0</td>\n",
              "      <td>0.0</td>\n",
              "      <td>0.0</td>\n",
              "      <td>0.0</td>\n",
              "      <td>0.0</td>\n",
              "      <td>0.0</td>\n",
              "      <td>0.0</td>\n",
              "      <td>1.0</td>\n",
              "      <td>0.0</td>\n",
              "    </tr>\n",
              "    <tr>\n",
              "      <th>2</th>\n",
              "      <td>0.017367</td>\n",
              "      <td>2.590003e-10</td>\n",
              "      <td>0.000048</td>\n",
              "      <td>0.957473</td>\n",
              "      <td>0.0</td>\n",
              "      <td>0.0</td>\n",
              "      <td>0.0</td>\n",
              "      <td>0.0</td>\n",
              "      <td>0.0</td>\n",
              "      <td>0.0</td>\n",
              "      <td>0.0</td>\n",
              "      <td>0.0</td>\n",
              "      <td>0.0</td>\n",
              "      <td>0.0</td>\n",
              "      <td>1.0</td>\n",
              "      <td>0.0</td>\n",
              "      <td>0.0</td>\n",
              "      <td>0.0</td>\n",
              "      <td>0.0</td>\n",
              "      <td>0.0</td>\n",
              "      <td>0.0</td>\n",
              "      <td>0.0</td>\n",
              "      <td>0.0</td>\n",
              "      <td>0.0</td>\n",
              "      <td>0.0</td>\n",
              "      <td>0.0</td>\n",
              "      <td>0.0</td>\n",
              "      <td>0.0</td>\n",
              "      <td>1.0</td>\n",
              "      <td>0.0</td>\n",
              "    </tr>\n",
              "    <tr>\n",
              "      <th>3</th>\n",
              "      <td>0.022622</td>\n",
              "      <td>1.412729e-10</td>\n",
              "      <td>0.000078</td>\n",
              "      <td>0.893371</td>\n",
              "      <td>0.0</td>\n",
              "      <td>0.0</td>\n",
              "      <td>0.0</td>\n",
              "      <td>0.0</td>\n",
              "      <td>0.0</td>\n",
              "      <td>0.0</td>\n",
              "      <td>0.0</td>\n",
              "      <td>0.0</td>\n",
              "      <td>0.0</td>\n",
              "      <td>0.0</td>\n",
              "      <td>1.0</td>\n",
              "      <td>0.0</td>\n",
              "      <td>0.0</td>\n",
              "      <td>0.0</td>\n",
              "      <td>0.0</td>\n",
              "      <td>0.0</td>\n",
              "      <td>0.0</td>\n",
              "      <td>0.0</td>\n",
              "      <td>0.0</td>\n",
              "      <td>0.0</td>\n",
              "      <td>0.0</td>\n",
              "      <td>0.0</td>\n",
              "      <td>0.0</td>\n",
              "      <td>0.0</td>\n",
              "      <td>1.0</td>\n",
              "      <td>0.0</td>\n",
              "    </tr>\n",
              "    <tr>\n",
              "      <th>4</th>\n",
              "      <td>0.000000</td>\n",
              "      <td>6.828189e-11</td>\n",
              "      <td>0.000049</td>\n",
              "      <td>1.000000</td>\n",
              "      <td>0.0</td>\n",
              "      <td>0.0</td>\n",
              "      <td>0.0</td>\n",
              "      <td>0.0</td>\n",
              "      <td>0.0</td>\n",
              "      <td>0.0</td>\n",
              "      <td>0.0</td>\n",
              "      <td>0.0</td>\n",
              "      <td>0.0</td>\n",
              "      <td>0.0</td>\n",
              "      <td>1.0</td>\n",
              "      <td>0.0</td>\n",
              "      <td>0.0</td>\n",
              "      <td>0.0</td>\n",
              "      <td>0.0</td>\n",
              "      <td>0.0</td>\n",
              "      <td>0.0</td>\n",
              "      <td>0.0</td>\n",
              "      <td>0.0</td>\n",
              "      <td>0.0</td>\n",
              "      <td>0.0</td>\n",
              "      <td>0.0</td>\n",
              "      <td>0.0</td>\n",
              "      <td>0.0</td>\n",
              "      <td>1.0</td>\n",
              "      <td>0.0</td>\n",
              "    </tr>\n",
              "  </tbody>\n",
              "</table>\n",
              "</div>"
            ],
            "text/plain": [
              "   Temperature (K)  Luminosity(L/Lo)  ...  Spectral Class_M  Spectral Class_O\n",
              "0         0.029663      2.731275e-09  ...               1.0               0.0\n",
              "1         0.028980      4.944550e-10  ...               1.0               0.0\n",
              "2         0.017367      2.590003e-10  ...               1.0               0.0\n",
              "3         0.022622      1.412729e-10  ...               1.0               0.0\n",
              "4         0.000000      6.828189e-11  ...               1.0               0.0\n",
              "\n",
              "[5 rows x 30 columns]"
            ]
          },
          "metadata": {
            "tags": []
          },
          "execution_count": 25
        }
      ]
    },
    {
      "cell_type": "markdown",
      "metadata": {
        "id": "DQLyv6ke_z-K"
      },
      "source": [
        "# Step 6:  Now let's run an automated Machine Learning to the above processed data\n",
        "\n",
        "Below we combine the notebook codes previously shared into a single running code to create an **Automated ML**"
      ]
    },
    {
      "cell_type": "code",
      "metadata": {
        "id": "lnvjFFkk_z-K"
      },
      "source": [
        "from sklearn.neighbors import KNeighborsClassifier\n",
        "from sklearn.linear_model import LogisticRegression\n",
        "from sklearn.svm import LinearSVC\n",
        "from sklearn.svm import SVC\n",
        "from sklearn.ensemble import RandomForestClassifier\n",
        "from sklearn.ensemble import GradientBoostingClassifier\n",
        "from sklearn.model_selection import train_test_split\n",
        "\n",
        "Number_trials=20\n",
        "\n",
        "def train_knn(X, y):\n",
        "    score_train = []\n",
        "    score_test = []\n",
        "\n",
        "    for seed in range(Number_trials):\n",
        "        X_train, X_test, y_train, y_test = train_test_split(X, y, test_size=0.25, random_state=seed)\n",
        "        neighbors_settings = range(1,50)\n",
        "        acc_train = []\n",
        "        acc_test = []\n",
        "\n",
        "        for n_neighbors in neighbors_settings:   \n",
        "            clf = KNeighborsClassifier(n_neighbors=n_neighbors) # build the model \n",
        "            clf.fit(X_train, y_train)    \n",
        "            acc_train.append(clf.score(X_train, y_train))\n",
        "            acc_test.append(clf.score(X_test, y_test))\n",
        "\n",
        "        score_train.append(acc_train)\n",
        "        score_test.append(acc_test)   \n",
        "        \n",
        "    score = np.mean(score_test, axis=0)\n",
        "    run_time = (time.time() - start_time)\n",
        "    return ['kNN', np.amax(score), 'N_Neighbor = {0}'.format(np.argmax(score)+1), 'NA',run_time]\n",
        "\n",
        "def train_logistic(X, y, reg):\n",
        "    C = [1e-8, 1e-4, 1e-3, 1e-2, 0.1, 0.2,0.4, 0.75, 1, 1.5, 3, 5, 10, 15,  20, 100, 300, 1000, 5000]\n",
        "    #C = [.01, .1]\n",
        "    score_train = []\n",
        "    score_test = []\n",
        "    weighted_coefs=[]\n",
        "    \n",
        "    for seed in range(Number_trials):\n",
        "        training_accuracy = []  \n",
        "        test_accuracy = []\n",
        "        X_train, X_test, y_train, y_test = train_test_split(X, y, test_size=0.25, random_state=seed)\n",
        "        for alpha_run in C:\n",
        "            if reg == 'l1':\n",
        "                lr = LogisticRegression(C=alpha_run, penalty=reg, solver='liblinear').fit(X_train, y_train)\n",
        "            if reg == 'l2':\n",
        "                lr = LogisticRegression(C=alpha_run, penalty=reg, dual=False).fit(X_train, y_train)\n",
        "            \n",
        "            \n",
        "            training_accuracy.append(lr.score(X_train, y_train))\n",
        "            test_accuracy.append(lr.score(X_test, y_test))\n",
        "            coefs=lr.coef_ \n",
        "            weighted_coefs.append(coefs) #append all the computed coefficients per trial\n",
        "                \n",
        "        score_train.append(training_accuracy)\n",
        "        score_test.append(test_accuracy)\n",
        "    \n",
        "    mean_coefs=np.mean(weighted_coefs, axis=0) #get the mean of the weighted coefficients over all the trials \n",
        "    #print(mean_coefs) \n",
        "    score = np.mean(score_test, axis=0)\n",
        "    \n",
        "    #Plot the weight of the parameters \n",
        "    top_predictor=X.columns[np.argmax(np.abs(mean_coefs[0,:]))]\n",
        "    abs_mean_coefs = np.abs(mean_coefs[0,:])\n",
        "    coefs_count = len(abs_mean_coefs)\n",
        "    fig, ax = plt.subplots(figsize=(15,7))\n",
        "    ax.barh(np.arange(coefs_count), sorted(abs_mean_coefs))\n",
        "     \n",
        "    ax.set_yticks(np.arange(coefs_count))\n",
        "    ax.set_yticklabels(X.columns[np.argsort(abs_mean_coefs)])\n",
        "    \n",
        "    run_time = (time.time() - start_time)\n",
        "    return ['Logistic ({0})'.format(reg), np.amax(score), \\\n",
        "            'C = {0}'.format(C[np.argmax(score)]), top_predictor, run_time]\n",
        "\n",
        "def train_svm(X, y, reg):\n",
        "    C = [1e-8, 1e-4, 1e-3, 1e-2, 0.1, 0.2,0.4, 0.75, 1, 1.5, 3, 5, 10, 15,  20, 100, 300, 1000, 5000]\n",
        "    #C = [.01, .1]\n",
        "    score_train = []\n",
        "    score_test = []\n",
        "    weighted_coefs=[]\n",
        "    \n",
        "    for seed in range(Number_trials):\n",
        "        training_accuracy = []  \n",
        "        test_accuracy = []\n",
        "        X_train, X_test, y_train, y_test = train_test_split(X, y, test_size=0.25, random_state=seed)\n",
        "        for alpha_run in C:\n",
        "            if reg == 'l1':\n",
        "                svc = LinearSVC(C=alpha_run, penalty=reg, loss='squared_hinge', dual=False).fit(X_train, y_train)\n",
        "            if reg == 'l2':\n",
        "                svc = LinearSVC(C=alpha_run, penalty=reg).fit(X_train, y_train)\n",
        "            training_accuracy.append(svc.score(X_train, y_train))\n",
        "            test_accuracy.append(svc.score(X_test, y_test))\n",
        "           # if alpha_run == 0.01:\n",
        "            coefs = svc.coef_\n",
        "            weighted_coefs.append(coefs)\n",
        "                \n",
        "        score_train.append(training_accuracy)\n",
        "        score_test.append(test_accuracy)\n",
        " \n",
        "\n",
        "    mean_coefs=np.mean(weighted_coefs, axis=0) #get the mean of the weighted coefficients over all the trials       \n",
        "    score = np.mean(score_test, axis=0)\n",
        "    \n",
        "\n",
        "    top_predictor=X.columns[np.argmax(np.abs(mean_coefs[0,:]))]\n",
        "    abs_mean_coefs = np.abs(mean_coefs[0,:])\n",
        "    coefs_count = len(abs_mean_coefs)\n",
        "    fig, ax = plt.subplots(figsize=(15,7))\n",
        "    ax.barh(np.arange(coefs_count), sorted(abs_mean_coefs))\n",
        "        \n",
        "    ax.set_yticks(np.arange(coefs_count))\n",
        "    ax.set_yticklabels(X.columns[np.argsort(abs_mean_coefs)])\n",
        "    \n",
        "    run_time = (time.time() - start_time)\n",
        "    return ['Linear SVM ({0})'.format(reg), np.amax(score), \\\n",
        "            'C = {0}'.format(C[np.argmax(score)]), top_predictor,run_time]\n",
        "\n",
        "def train_RF(X, y, reg):\n",
        "    max_features_tuning=[0.1, .2, .3, .4, .5, .7, .8]\n",
        "    #C = [.01, .1]\n",
        "    score_train = []\n",
        "    score_test = []\n",
        "    weighted_coefs=[]\n",
        "    \n",
        "    for seed in range(Number_trials):\n",
        "        training_accuracy = []  \n",
        "        test_accuracy = []\n",
        "        X_train, X_test, y_train, y_test = train_test_split(X, y, test_size=0.25, random_state=seed)\n",
        "        for max_features_run in max_features_tuning:\n",
        "            svc = RandomForestClassifier(n_estimators=100, max_features=max_features_run).fit(X_train, y_train)\n",
        "            training_accuracy.append(svc.score(X_train, y_train))\n",
        "            test_accuracy.append(svc.score(X_test, y_test))\n",
        "           # if alpha_run == 0.01:\n",
        "            coefs = svc.feature_importances_\n",
        "            weighted_coefs.append(coefs)\n",
        "                \n",
        "        score_train.append(training_accuracy)\n",
        "        score_test.append(test_accuracy)\n",
        " \n",
        "\n",
        "    mean_coefs=np.mean(weighted_coefs, axis=0) #get the mean of the weighted coefficients over all the trials       \n",
        "    score = np.mean(score_test, axis=0)\n",
        "    \n",
        "\n",
        "    top_predictor=X.columns[np.argmax(np.abs(mean_coefs))]\n",
        "    abs_mean_coefs = np.abs(mean_coefs[:])\n",
        "    coefs_count = len(abs_mean_coefs)\n",
        "    fig, ax = plt.subplots(figsize=(15,7))\n",
        "    ax.barh(np.arange(coefs_count), sorted(abs_mean_coefs))\n",
        "        \n",
        "    ax.set_yticks(np.arange(coefs_count))\n",
        "    ax.set_yticklabels(X.columns[np.argsort(abs_mean_coefs)])\n",
        "    \n",
        "    run_time = (time.time() - start_time)\n",
        "    return ['Random Forest', np.amax(score), \\\n",
        "            'Max_features = {0}'.format(max_features_tuning[np.argmax(score)]), top_predictor,run_time]\n",
        "\n",
        "def train_GBM(X, y, reg):\n",
        "    max_features_tuning=[0.1, .2, .3, .4, .5, .7, .8]\n",
        "    #C = [.01, .1]\n",
        "    score_train = []\n",
        "    score_test = []\n",
        "    weighted_coefs=[]\n",
        "    \n",
        "    for seed in range(Number_trials):\n",
        "        training_accuracy = []  \n",
        "        test_accuracy = []\n",
        "        X_train, X_test, y_train, y_test = train_test_split(X, y, test_size=0.25, random_state=seed)\n",
        "        for max_features_run in max_features_tuning:\n",
        "            svc = GradientBoostingClassifier(n_estimators=100,max_depth=3, max_features=max_features_run).fit(X_train, y_train)\n",
        "            training_accuracy.append(svc.score(X_train, y_train))\n",
        "            test_accuracy.append(svc.score(X_test, y_test))\n",
        "           # if alpha_run == 0.01:\n",
        "            coefs = svc.feature_importances_\n",
        "            weighted_coefs.append(coefs)\n",
        "                \n",
        "        score_train.append(training_accuracy)\n",
        "        score_test.append(test_accuracy)\n",
        " \n",
        "\n",
        "    mean_coefs=np.mean(weighted_coefs, axis=0) #get the mean of the weighted coefficients over all the trials       \n",
        "    score = np.mean(score_test, axis=0)\n",
        "    \n",
        "\n",
        "    top_predictor=X.columns[np.argmax(np.abs(mean_coefs))]\n",
        "    abs_mean_coefs = np.abs(mean_coefs[:])\n",
        "    coefs_count = len(abs_mean_coefs)\n",
        "    fig, ax = plt.subplots(figsize=(15,7))\n",
        "    ax.barh(np.arange(coefs_count), sorted(abs_mean_coefs))\n",
        "        \n",
        "    ax.set_yticks(np.arange(coefs_count))\n",
        "    ax.set_yticklabels(X.columns[np.argsort(abs_mean_coefs)])\n",
        "    \n",
        "    run_time = (time.time() - start_time)\n",
        "    return ['Gradient Boosting Method', np.amax(score), \\\n",
        "            'Max_features = {0}'.format(max_features_tuning[np.argmax(score)]), top_predictor,run_time]\n"
      ],
      "execution_count": 29,
      "outputs": []
    },
    {
      "cell_type": "code",
      "metadata": {
        "id": "Dac9rMbt_z-N",
        "colab": {
          "base_uri": "https://localhost:8080/",
          "height": 1000
        },
        "outputId": "877a4e7a-90c5-4943-b2d3-6c68a3ddefba"
      },
      "source": [
        "X = XX_df\n",
        "y = df_data['Star type']\n",
        "\n",
        "import time\n",
        "\n",
        "start_time = time.time()\n",
        "a = train_knn(X,y)\n",
        "print(a)\n",
        "print(\"%s seconds\" % a[4])\n",
        "\n",
        "start_time = time.time()\n",
        "b = train_logistic(X,y,reg='l2')\n",
        "print(b)\n",
        "print(\"%s seconds\" % b[4])\n",
        "\n",
        "start_time = time.time()\n",
        "c = train_logistic(X,y,reg='l1')\n",
        "print(c)\n",
        "print(\"%s seconds\" % c[4])\n",
        "\n",
        "start_time = time.time()\n",
        "d = train_svm(X,y,reg='l2')\n",
        "print(d)\n",
        "print(\"%s seconds\" % d[4])\n",
        "\n",
        "start_time = time.time()\n",
        "e = train_svm(X,y,reg='l1')\n",
        "print(e)\n",
        "print(\"%s seconds\" % e[4])\n",
        "\n",
        "\n",
        "start_time = time.time()\n",
        "f = train_RF(X,y,reg='none')\n",
        "print(f)\n",
        "print(\"%s seconds\" % f[4])\n",
        "\n",
        "start_time = time.time()\n",
        "g = train_GBM(X,y,reg='none')\n",
        "print(g)\n",
        "print(\"%s seconds\" % f[4])"
      ],
      "execution_count": 30,
      "outputs": [
        {
          "output_type": "stream",
          "text": [
            "['kNN', 0.9883333333333333, 'N_Neighbor = 1', 'NA', 11.42659878730774]\n",
            "11.42659878730774 seconds\n",
            "['Logistic (l2)', 0.9966666666666667, 'C = 100', 'Absolute magnitude(Mv)', 7.156039237976074]\n",
            "7.156039237976074 seconds\n",
            "['Logistic (l1)', 0.9816666666666667, 'C = 300', 'Absolute magnitude(Mv)', 5.21633505821228]\n",
            "5.21633505821228 seconds\n",
            "['Linear SVM (l2)', 0.9833333333333332, 'C = 15', 'Absolute magnitude(Mv)', 2.094546318054199]\n",
            "2.094546318054199 seconds\n",
            "['Linear SVM (l1)', 0.9833333333333334, 'C = 10', 'Radius(R/Ro)', 4.73839545249939]\n",
            "4.73839545249939 seconds\n",
            "['Random Forest', 0.9991666666666668, 'Max_features = 0.5', 'Absolute magnitude(Mv)', 20.900241136550903]\n",
            "20.900241136550903 seconds\n",
            "['Gradient Boosting Method', 0.9983333333333334, 'Max_features = 0.8', 'Absolute magnitude(Mv)', 43.02646088600159]\n",
            "20.900241136550903 seconds\n"
          ],
          "name": "stdout"
        },
        {
          "output_type": "display_data",
          "data": {
            "image/png": "[encoded data removed]",
            "text/plain": [
              "<Figure size 1080x504 with 1 Axes>"
            ]
          },
          "metadata": {
            "tags": [],
            "needs_background": "light"
          }
        },
        {
          "output_type": "display_data",
          "data": {
            "image/png": "[encoded data removed]",
            "text/plain": [
              "<Figure size 1080x504 with 1 Axes>"
            ]
          },
          "metadata": {
            "tags": [],
            "needs_background": "light"
          }
        },
        {
          "output_type": "display_data",
          "data": {
            "image/png": "[encoded data removed]",
            "text/plain": [
              "<Figure size 1080x504 with 1 Axes>"
            ]
          },
          "metadata": {
            "tags": [],
            "needs_background": "light"
          }
        },
        {
          "output_type": "display_data",
          "data": {
            "image/png": "[encoded data removed]",
            "text/plain": [
              "<Figure size 1080x504 with 1 Axes>"
            ]
          },
          "metadata": {
            "tags": [],
            "needs_background": "light"
          }
        },
        {
          "output_type": "display_data",
          "data": {
            "image/png": "[encoded data removed]",
            "text/plain": [
              "<Figure size 1080x504 with 1 Axes>"
            ]
          },
          "metadata": {
            "tags": [],
            "needs_background": "light"
          }
        },
        {
          "output_type": "display_data",
          "data": {
            "image/png": "[encoded data removed]",
            "text/plain": [
              "<Figure size 1080x504 with 1 Axes>"
            ]
          },
          "metadata": {
            "tags": [],
            "needs_background": "light"
          }
        }
      ]
    },
    {
      "cell_type": "code",
      "metadata": {
        "id": "fZtHFt88_z-O",
        "colab": {
          "base_uri": "https://localhost:8080/",
          "height": 257
        },
        "outputId": "5626ab90-cc8b-44a9-ed63-13e98a51060d"
      },
      "source": [
        "cols = ['Machine Learning Method', 'Test Accuracy', 'Best Parameter', 'Top Predictor Variable', 'Run Time']\n",
        "df2 = pd.DataFrame(columns=cols)\n",
        "\n",
        "df2.loc[0] = a\n",
        "df2.loc[1] = b\n",
        "df2.loc[2] = c\n",
        "df2.loc[3] = d\n",
        "df2.loc[4] = e\n",
        "df2.loc[5] = f\n",
        "df2.loc[6] = g\n",
        "\n",
        "df2"
      ],
      "execution_count": 31,
      "outputs": [
        {
          "output_type": "execute_result",
          "data": {
            "text/html": [
              "<div>\n",
              "<style scoped>\n",
              "    .dataframe tbody tr th:only-of-type {\n",
              "        vertical-align: middle;\n",
              "    }\n",
              "\n",
              "    .dataframe tbody tr th {\n",
              "        vertical-align: top;\n",
              "    }\n",
              "\n",
              "    .dataframe thead th {\n",
              "        text-align: right;\n",
              "    }\n",
              "</style>\n",
              "<table border=\"1\" class=\"dataframe\">\n",
              "  <thead>\n",
              "    <tr style=\"text-align: right;\">\n",
              "      <th></th>\n",
              "      <th>Machine Learning Method</th>\n",
              "      <th>Test Accuracy</th>\n",
              "      <th>Best Parameter</th>\n",
              "      <th>Top Predictor Variable</th>\n",
              "      <th>Run Time</th>\n",
              "    </tr>\n",
              "  </thead>\n",
              "  <tbody>\n",
              "    <tr>\n",
              "      <th>0</th>\n",
              "      <td>kNN</td>\n",
              "      <td>0.988333</td>\n",
              "      <td>N_Neighbor = 1</td>\n",
              "      <td>NA</td>\n",
              "      <td>11.426599</td>\n",
              "    </tr>\n",
              "    <tr>\n",
              "      <th>1</th>\n",
              "      <td>Logistic (l2)</td>\n",
              "      <td>0.996667</td>\n",
              "      <td>C = 100</td>\n",
              "      <td>Absolute magnitude(Mv)</td>\n",
              "      <td>7.156039</td>\n",
              "    </tr>\n",
              "    <tr>\n",
              "      <th>2</th>\n",
              "      <td>Logistic (l1)</td>\n",
              "      <td>0.981667</td>\n",
              "      <td>C = 300</td>\n",
              "      <td>Absolute magnitude(Mv)</td>\n",
              "      <td>5.216335</td>\n",
              "    </tr>\n",
              "    <tr>\n",
              "      <th>3</th>\n",
              "      <td>Linear SVM (l2)</td>\n",
              "      <td>0.983333</td>\n",
              "      <td>C = 15</td>\n",
              "      <td>Absolute magnitude(Mv)</td>\n",
              "      <td>2.094546</td>\n",
              "    </tr>\n",
              "    <tr>\n",
              "      <th>4</th>\n",
              "      <td>Linear SVM (l1)</td>\n",
              "      <td>0.983333</td>\n",
              "      <td>C = 10</td>\n",
              "      <td>Radius(R/Ro)</td>\n",
              "      <td>4.738395</td>\n",
              "    </tr>\n",
              "    <tr>\n",
              "      <th>5</th>\n",
              "      <td>Random Forest</td>\n",
              "      <td>0.999167</td>\n",
              "      <td>Max_features = 0.5</td>\n",
              "      <td>Absolute magnitude(Mv)</td>\n",
              "      <td>20.900241</td>\n",
              "    </tr>\n",
              "    <tr>\n",
              "      <th>6</th>\n",
              "      <td>Gradient Boosting Method</td>\n",
              "      <td>0.998333</td>\n",
              "      <td>Max_features = 0.8</td>\n",
              "      <td>Absolute magnitude(Mv)</td>\n",
              "      <td>43.026461</td>\n",
              "    </tr>\n",
              "  </tbody>\n",
              "</table>\n",
              "</div>"
            ],
            "text/plain": [
              "    Machine Learning Method  Test Accuracy  ...  Top Predictor Variable   Run Time\n",
              "0                       kNN       0.988333  ...                      NA  11.426599\n",
              "1             Logistic (l2)       0.996667  ...  Absolute magnitude(Mv)   7.156039\n",
              "2             Logistic (l1)       0.981667  ...  Absolute magnitude(Mv)   5.216335\n",
              "3           Linear SVM (l2)       0.983333  ...  Absolute magnitude(Mv)   2.094546\n",
              "4           Linear SVM (l1)       0.983333  ...            Radius(R/Ro)   4.738395\n",
              "5             Random Forest       0.999167  ...  Absolute magnitude(Mv)  20.900241\n",
              "6  Gradient Boosting Method       0.998333  ...  Absolute magnitude(Mv)  43.026461\n",
              "\n",
              "[7 rows x 5 columns]"
            ]
          },
          "metadata": {
            "tags": []
          },
          "execution_count": 31
        }
      ]
    },
    {
      "cell_type": "code",
      "metadata": {
        "id": "Qmg3kduN_z-O"
      },
      "source": [
        ""
      ],
      "execution_count": null,
      "outputs": []
    }
  ]
}