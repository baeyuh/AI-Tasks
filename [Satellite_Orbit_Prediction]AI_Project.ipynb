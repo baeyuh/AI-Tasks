{
  "nbformat": 4,
  "nbformat_minor": 0,
  "metadata": {
    "colab": {
      "name": "[Satellite Orbit Prediction]AI_Project.ipynb",
      "provenance": [],
      "collapsed_sections": [
        "jMmIJLd9_z-G",
        "KEEWB59r_z-H",
        "SGgslmKj_z-I",
        "W5niNoh9_z-K",
        "DQLyv6ke_z-K"
      ]
    },
    "kernelspec": {
      "display_name": "Python 3",
      "language": "python",
      "name": "python3"
    },
    "language_info": {
      "codemirror_mode": {
        "name": "ipython",
        "version": 3
      },
      "file_extension": ".py",
      "mimetype": "text/x-python",
      "name": "python",
      "nbconvert_exporter": "python",
      "pygments_lexer": "ipython3",
      "version": "3.8.5"
    }
  },
  "cells": [
    {
      "cell_type": "markdown",
      "metadata": {
        "id": "NvJGxBmf_z98"
      },
      "source": [
        "Satellite Orbit Prediction"
      ]
    },
    {
      "cell_type": "markdown",
      "metadata": {
        "id": "d0Mfj0ie_z-D"
      },
      "source": [
        "## Exploratory Data Analysis "
      ]
    },
    {
      "cell_type": "code",
      "metadata": {
        "id": "9mZ7zKvg_z-D"
      },
      "source": [
        "import pandas as pd\n",
        "import numpy as np\n",
        "import matplotlib.pyplot as plt\n",
        "\n",
        "import warnings\n",
        "from warnings import simplefilter\n",
        "from sklearn.exceptions import ConvergenceWarning\n",
        "\n",
        "warnings.filterwarnings(\"ignore\", category=FutureWarning)\n",
        "warnings.filterwarnings(\"ignore\", category=RuntimeWarning)\n",
        "warnings.filterwarnings(\"ignore\", category=ConvergenceWarning)\n",
        "#warnings.filterwarnings(\"ignore\", category=DataConversionWarning)\n",
        "\n",
        "#from warnings import simplefilter\n",
        "#from sklearn.exceptions import ConvergenceWarning\n",
        "#simplefilter(\"ignore\", category=ConvergenceWarning)"
      ],
      "execution_count": 1,
      "outputs": []
    },
    {
      "cell_type": "code",
      "metadata": {
        "colab": {
          "base_uri": "https://localhost:8080/"
        },
        "id": "FqxYoRqFpctZ",
        "outputId": "ddb0a2f0-bfae-4663-ec81-e5e61383fb07"
      },
      "source": [
        "from google.colab import drive\n",
        "drive.mount('/content/drive')"
      ],
      "execution_count": 2,
      "outputs": [
        {
          "output_type": "stream",
          "text": [
            "Mounted at /content/drive\n"
          ],
          "name": "stdout"
        }
      ]
    },
    {
      "cell_type": "code",
      "metadata": {
        "id": "1NwkJFMYqHKI"
      },
      "source": [
        "data_dir = '/content/drive/MyDrive/Colab Notebooks/AI_Project/dataset/'"
      ],
      "execution_count": 3,
      "outputs": []
    },
    {
      "cell_type": "code",
      "metadata": {
        "colab": {
          "base_uri": "https://localhost:8080/",
          "height": 281
        },
        "id": "yzJ68ohBq65W",
        "outputId": "67f303e7-dc8d-4e78-c826-cac986cc4db9"
      },
      "source": [
        "df_train = pd.read_csv(data_dir+'jan_train.csv')\n",
        "dummy = df_train\n",
        "dummy.head()"
      ],
      "execution_count": 4,
      "outputs": [
        {
          "output_type": "execute_result",
          "data": {
            "text/html": [
              "<div>\n",
              "<style scoped>\n",
              "    .dataframe tbody tr th:only-of-type {\n",
              "        vertical-align: middle;\n",
              "    }\n",
              "\n",
              "    .dataframe tbody tr th {\n",
              "        vertical-align: top;\n",
              "    }\n",
              "\n",
              "    .dataframe thead th {\n",
              "        text-align: right;\n",
              "    }\n",
              "</style>\n",
              "<table border=\"1\" class=\"dataframe\">\n",
              "  <thead>\n",
              "    <tr style=\"text-align: right;\">\n",
              "      <th></th>\n",
              "      <th>id</th>\n",
              "      <th>epoch</th>\n",
              "      <th>sat_id</th>\n",
              "      <th>x</th>\n",
              "      <th>y</th>\n",
              "      <th>z</th>\n",
              "      <th>Vx</th>\n",
              "      <th>Vy</th>\n",
              "      <th>Vz</th>\n",
              "      <th>x_sim</th>\n",
              "      <th>y_sim</th>\n",
              "      <th>z_sim</th>\n",
              "      <th>Vx_sim</th>\n",
              "      <th>Vy_sim</th>\n",
              "      <th>Vz_sim</th>\n",
              "    </tr>\n",
              "  </thead>\n",
              "  <tbody>\n",
              "    <tr>\n",
              "      <th>0</th>\n",
              "      <td>0</td>\n",
              "      <td>2014-01-01 00:00:00.000</td>\n",
              "      <td>0</td>\n",
              "      <td>-8855.823863</td>\n",
              "      <td>13117.780146</td>\n",
              "      <td>-20728.353233</td>\n",
              "      <td>-0.908303</td>\n",
              "      <td>-3.808436</td>\n",
              "      <td>-2.022083</td>\n",
              "      <td>-8843.131454</td>\n",
              "      <td>13138.221690</td>\n",
              "      <td>-20741.615306</td>\n",
              "      <td>-0.907527</td>\n",
              "      <td>-3.804930</td>\n",
              "      <td>-2.024133</td>\n",
              "    </tr>\n",
              "    <tr>\n",
              "      <th>1</th>\n",
              "      <td>1</td>\n",
              "      <td>2014-01-01 00:46:43.000</td>\n",
              "      <td>0</td>\n",
              "      <td>-10567.672384</td>\n",
              "      <td>1619.746066</td>\n",
              "      <td>-24451.813271</td>\n",
              "      <td>-0.302590</td>\n",
              "      <td>-4.272617</td>\n",
              "      <td>-0.612796</td>\n",
              "      <td>-10555.500066</td>\n",
              "      <td>1649.289367</td>\n",
              "      <td>-24473.089556</td>\n",
              "      <td>-0.303704</td>\n",
              "      <td>-4.269816</td>\n",
              "      <td>-0.616468</td>\n",
              "    </tr>\n",
              "    <tr>\n",
              "      <th>2</th>\n",
              "      <td>2</td>\n",
              "      <td>2014-01-01 01:33:26.001</td>\n",
              "      <td>0</td>\n",
              "      <td>-10578.684043</td>\n",
              "      <td>-10180.467460</td>\n",
              "      <td>-24238.280949</td>\n",
              "      <td>0.277435</td>\n",
              "      <td>-4.047522</td>\n",
              "      <td>0.723155</td>\n",
              "      <td>-10571.858472</td>\n",
              "      <td>-10145.939908</td>\n",
              "      <td>-24271.169776</td>\n",
              "      <td>0.274880</td>\n",
              "      <td>-4.046788</td>\n",
              "      <td>0.718768</td>\n",
              "    </tr>\n",
              "    <tr>\n",
              "      <th>3</th>\n",
              "      <td>3</td>\n",
              "      <td>2014-01-01 02:20:09.001</td>\n",
              "      <td>0</td>\n",
              "      <td>-9148.251857</td>\n",
              "      <td>-20651.437460</td>\n",
              "      <td>-20720.381279</td>\n",
              "      <td>0.715600</td>\n",
              "      <td>-3.373762</td>\n",
              "      <td>1.722115</td>\n",
              "      <td>-9149.620794</td>\n",
              "      <td>-20618.200201</td>\n",
              "      <td>-20765.019094</td>\n",
              "      <td>0.712437</td>\n",
              "      <td>-3.375202</td>\n",
              "      <td>1.718306</td>\n",
              "    </tr>\n",
              "    <tr>\n",
              "      <th>4</th>\n",
              "      <td>4</td>\n",
              "      <td>2014-01-01 03:06:52.002</td>\n",
              "      <td>0</td>\n",
              "      <td>-6719.092336</td>\n",
              "      <td>-28929.061629</td>\n",
              "      <td>-14938.907967</td>\n",
              "      <td>0.992507</td>\n",
              "      <td>-2.519732</td>\n",
              "      <td>2.344703</td>\n",
              "      <td>-6729.358857</td>\n",
              "      <td>-28902.271436</td>\n",
              "      <td>-14992.399986</td>\n",
              "      <td>0.989382</td>\n",
              "      <td>-2.522618</td>\n",
              "      <td>2.342237</td>\n",
              "    </tr>\n",
              "  </tbody>\n",
              "</table>\n",
              "</div>"
            ],
            "text/plain": [
              "   id                    epoch  sat_id  ...    Vx_sim    Vy_sim    Vz_sim\n",
              "0   0  2014-01-01 00:00:00.000       0  ... -0.907527 -3.804930 -2.024133\n",
              "1   1  2014-01-01 00:46:43.000       0  ... -0.303704 -4.269816 -0.616468\n",
              "2   2  2014-01-01 01:33:26.001       0  ...  0.274880 -4.046788  0.718768\n",
              "3   3  2014-01-01 02:20:09.001       0  ...  0.712437 -3.375202  1.718306\n",
              "4   4  2014-01-01 03:06:52.002       0  ...  0.989382 -2.522618  2.342237\n",
              "\n",
              "[5 rows x 15 columns]"
            ]
          },
          "metadata": {
            "tags": []
          },
          "execution_count": 4
        }
      ]
    },
    {
      "cell_type": "code",
      "metadata": {
        "colab": {
          "base_uri": "https://localhost:8080/"
        },
        "id": "3JQsjQdv_z-E",
        "outputId": "381f39f2-94ab-48b8-8e1f-7c8941553b5d"
      },
      "source": [
        "print(df_train.shape)"
      ],
      "execution_count": 5,
      "outputs": [
        {
          "output_type": "stream",
          "text": [
            "(503227, 15)\n"
          ],
          "name": "stdout"
        }
      ]
    },
    {
      "cell_type": "code",
      "metadata": {
        "id": "gR2Q7SuSm9wN"
      },
      "source": [
        "df_trunc = df_train.sample(n=20000, random_state=1)"
      ],
      "execution_count": 6,
      "outputs": []
    },
    {
      "cell_type": "code",
      "metadata": {
        "colab": {
          "base_uri": "https://localhost:8080/"
        },
        "id": "LIL5cw95nWAI",
        "outputId": "f8af050a-8ac4-4816-9af6-bb780edde7ee"
      },
      "source": [
        "print(df_trunc.shape)"
      ],
      "execution_count": 7,
      "outputs": [
        {
          "output_type": "stream",
          "text": [
            "(20000, 15)\n"
          ],
          "name": "stdout"
        }
      ]
    },
    {
      "cell_type": "code",
      "metadata": {
        "colab": {
          "base_uri": "https://localhost:8080/"
        },
        "id": "GwZpCrAJ_z-F",
        "outputId": "87fec168-2d0d-46b0-a994-69269f03e431"
      },
      "source": [
        "df_trunc.columns"
      ],
      "execution_count": 8,
      "outputs": [
        {
          "output_type": "execute_result",
          "data": {
            "text/plain": [
              "Index(['id', 'epoch', 'sat_id', 'x', 'y', 'z', 'Vx', 'Vy', 'Vz', 'x_sim',\n",
              "       'y_sim', 'z_sim', 'Vx_sim', 'Vy_sim', 'Vz_sim'],\n",
              "      dtype='object')"
            ]
          },
          "metadata": {
            "tags": []
          },
          "execution_count": 8
        }
      ]
    },
    {
      "cell_type": "markdown",
      "metadata": {
        "id": "jMmIJLd9_z-G"
      },
      "source": [
        "# Step 1: Look at the missing values"
      ]
    },
    {
      "cell_type": "code",
      "metadata": {
        "colab": {
          "base_uri": "https://localhost:8080/"
        },
        "id": "k7NLPB-M_z-G",
        "outputId": "405c0629-3e05-48ea-d341-2ae757fb7745"
      },
      "source": [
        "df_trunc.isnull().sum()"
      ],
      "execution_count": 9,
      "outputs": [
        {
          "output_type": "execute_result",
          "data": {
            "text/plain": [
              "id        0\n",
              "epoch     0\n",
              "sat_id    0\n",
              "x         0\n",
              "y         0\n",
              "z         0\n",
              "Vx        0\n",
              "Vy        0\n",
              "Vz        0\n",
              "x_sim     0\n",
              "y_sim     0\n",
              "z_sim     0\n",
              "Vx_sim    0\n",
              "Vy_sim    0\n",
              "Vz_sim    0\n",
              "dtype: int64"
            ]
          },
          "metadata": {
            "tags": []
          },
          "execution_count": 9
        }
      ]
    },
    {
      "cell_type": "code",
      "metadata": {
        "colab": {
          "base_uri": "https://localhost:8080/"
        },
        "id": "wySkpbfS_z-H",
        "outputId": "db92deb4-e62b-4c14-a1d0-847224f416cb"
      },
      "source": [
        "df_trunc.values"
      ],
      "execution_count": 10,
      "outputs": [
        {
          "output_type": "execute_result",
          "data": {
            "text/plain": [
              "array([[269642, '2014-01-05 12:00:17.949', 144, ..., 1.3614517457783863,\n",
              "        1.22692672217135, 0.9294676882769088],\n",
              "       [530556, '2014-01-16 10:08:34.944', 283, ..., 4.090031424553291,\n",
              "        1.0104461815689625, -0.4827462945553],\n",
              "       [345947, '2014-01-05 04:31:04.580', 186, ..., -1.7231524326800385,\n",
              "        2.626068890765572, 6.483063863737942],\n",
              "       ...,\n",
              "       [937245, '2014-01-15 10:47:38.281', 465, ..., -2.9123792751101423,\n",
              "        -0.8842166846055773, -2.3226005760966624],\n",
              "       [103776, '2014-01-04 08:04:14.107', 53, ..., 0.4420655787303197,\n",
              "        -6.028421067710471, -1.8336291538654297],\n",
              "       [520516, '2014-01-20 18:33:20.078', 276, ..., -2.3613514036261853,\n",
              "        -2.8762500318265096, -3.8559174868966095]], dtype=object)"
            ]
          },
          "metadata": {
            "tags": []
          },
          "execution_count": 10
        }
      ]
    },
    {
      "cell_type": "markdown",
      "metadata": {
        "id": "KEEWB59r_z-H"
      },
      "source": [
        "## Steps 2 and 3. Remove or Imput the missing values"
      ]
    },
    {
      "cell_type": "code",
      "metadata": {
        "colab": {
          "base_uri": "https://localhost:8080/"
        },
        "id": "-BnWYAwx_z-H",
        "outputId": "329c6600-2600-4e4e-8a99-60e9df50fd7c"
      },
      "source": [
        "import pandas as pd\n",
        "import numpy as np\n",
        "\n",
        "from sklearn.base import TransformerMixin\n",
        "\n",
        "class DataFrameImputer(TransformerMixin):\n",
        "\n",
        "    def __init__(self):\n",
        "        \"\"\"Impute missing values.\n",
        "\n",
        "        Columns of dtype object are imputed with the most frequent value \n",
        "        in column.\n",
        "\n",
        "        Columns of other types are imputed with mean of column.\n",
        "\n",
        "        \"\"\"\n",
        "    def fit(self, X, y=None):\n",
        "\n",
        "        self.fill = pd.Series([X[c].value_counts().index[0]\n",
        "            if X[c].dtype == np.dtype('O') else X[c].mean() for c in X],\n",
        "            index=X.columns)\n",
        "\n",
        "        return self\n",
        "\n",
        "    def transform(self, X, y=None):\n",
        "        return X.fillna(self.fill)\n",
        "\n",
        "\n",
        "\n",
        "X_transition = pd.DataFrame(df_trunc)\n",
        "X_clean = DataFrameImputer().fit_transform(X_transition)\n",
        "\n",
        "X_clean.isnull().sum()"
      ],
      "execution_count": 11,
      "outputs": [
        {
          "output_type": "execute_result",
          "data": {
            "text/plain": [
              "id        0\n",
              "epoch     0\n",
              "sat_id    0\n",
              "x         0\n",
              "y         0\n",
              "z         0\n",
              "Vx        0\n",
              "Vy        0\n",
              "Vz        0\n",
              "x_sim     0\n",
              "y_sim     0\n",
              "z_sim     0\n",
              "Vx_sim    0\n",
              "Vy_sim    0\n",
              "Vz_sim    0\n",
              "dtype: int64"
            ]
          },
          "metadata": {
            "tags": []
          },
          "execution_count": 11
        }
      ]
    },
    {
      "cell_type": "code",
      "metadata": {
        "colab": {
          "base_uri": "https://localhost:8080/",
          "height": 301
        },
        "id": "rft4uFTLiAKa",
        "outputId": "7472f368-fcdc-4c6a-893a-7970a41e353b"
      },
      "source": [
        "X_clean.head()"
      ],
      "execution_count": 12,
      "outputs": [
        {
          "output_type": "execute_result",
          "data": {
            "text/html": [
              "<div>\n",
              "<style scoped>\n",
              "    .dataframe tbody tr th:only-of-type {\n",
              "        vertical-align: middle;\n",
              "    }\n",
              "\n",
              "    .dataframe tbody tr th {\n",
              "        vertical-align: top;\n",
              "    }\n",
              "\n",
              "    .dataframe thead th {\n",
              "        text-align: right;\n",
              "    }\n",
              "</style>\n",
              "<table border=\"1\" class=\"dataframe\">\n",
              "  <thead>\n",
              "    <tr style=\"text-align: right;\">\n",
              "      <th></th>\n",
              "      <th>id</th>\n",
              "      <th>epoch</th>\n",
              "      <th>sat_id</th>\n",
              "      <th>x</th>\n",
              "      <th>y</th>\n",
              "      <th>z</th>\n",
              "      <th>Vx</th>\n",
              "      <th>Vy</th>\n",
              "      <th>Vz</th>\n",
              "      <th>x_sim</th>\n",
              "      <th>y_sim</th>\n",
              "      <th>z_sim</th>\n",
              "      <th>Vx_sim</th>\n",
              "      <th>Vy_sim</th>\n",
              "      <th>Vz_sim</th>\n",
              "    </tr>\n",
              "  </thead>\n",
              "  <tbody>\n",
              "    <tr>\n",
              "      <th>109886</th>\n",
              "      <td>269642</td>\n",
              "      <td>2014-01-05 12:00:17.949</td>\n",
              "      <td>144</td>\n",
              "      <td>30126.921553</td>\n",
              "      <td>-53535.832209</td>\n",
              "      <td>-17348.622794</td>\n",
              "      <td>1.364685</td>\n",
              "      <td>1.234672</td>\n",
              "      <td>0.932839</td>\n",
              "      <td>30052.097747</td>\n",
              "      <td>-53754.197860</td>\n",
              "      <td>-17450.046740</td>\n",
              "      <td>1.361452</td>\n",
              "      <td>1.226927</td>\n",
              "      <td>0.929468</td>\n",
              "    </tr>\n",
              "    <tr>\n",
              "      <th>216944</th>\n",
              "      <td>530556</td>\n",
              "      <td>2014-01-16 10:08:34.944</td>\n",
              "      <td>283</td>\n",
              "      <td>-2048.437488</td>\n",
              "      <td>7080.611144</td>\n",
              "      <td>17204.450326</td>\n",
              "      <td>4.087319</td>\n",
              "      <td>1.469615</td>\n",
              "      <td>0.543840</td>\n",
              "      <td>2120.411033</td>\n",
              "      <td>8337.427534</td>\n",
              "      <td>17219.883526</td>\n",
              "      <td>4.090031</td>\n",
              "      <td>1.010446</td>\n",
              "      <td>-0.482746</td>\n",
              "    </tr>\n",
              "    <tr>\n",
              "      <th>141401</th>\n",
              "      <td>345947</td>\n",
              "      <td>2014-01-05 04:31:04.580</td>\n",
              "      <td>186</td>\n",
              "      <td>-6587.192603</td>\n",
              "      <td>-5804.320581</td>\n",
              "      <td>-424.768490</td>\n",
              "      <td>-1.718357</td>\n",
              "      <td>2.630512</td>\n",
              "      <td>6.484688</td>\n",
              "      <td>-6584.530435</td>\n",
              "      <td>-5809.654327</td>\n",
              "      <td>-440.545665</td>\n",
              "      <td>-1.723152</td>\n",
              "      <td>2.626069</td>\n",
              "      <td>6.483064</td>\n",
              "    </tr>\n",
              "    <tr>\n",
              "      <th>462837</th>\n",
              "      <td>1132688</td>\n",
              "      <td>2014-01-19 02:19:30.694</td>\n",
              "      <td>553</td>\n",
              "      <td>2188.175101</td>\n",
              "      <td>6829.491559</td>\n",
              "      <td>7918.525007</td>\n",
              "      <td>-5.910188</td>\n",
              "      <td>-1.458102</td>\n",
              "      <td>2.476652</td>\n",
              "      <td>-4483.920930</td>\n",
              "      <td>3887.471443</td>\n",
              "      <td>8893.060281</td>\n",
              "      <td>-5.466481</td>\n",
              "      <td>-3.548476</td>\n",
              "      <td>-0.801769</td>\n",
              "    </tr>\n",
              "    <tr>\n",
              "      <th>314037</th>\n",
              "      <td>768706</td>\n",
              "      <td>2014-01-23 13:57:33.336</td>\n",
              "      <td>379</td>\n",
              "      <td>7671.688412</td>\n",
              "      <td>17699.356758</td>\n",
              "      <td>12036.072793</td>\n",
              "      <td>-1.489765</td>\n",
              "      <td>3.200270</td>\n",
              "      <td>-1.514596</td>\n",
              "      <td>9158.077370</td>\n",
              "      <td>14272.551015</td>\n",
              "      <td>13623.290094</td>\n",
              "      <td>-1.158834</td>\n",
              "      <td>3.734703</td>\n",
              "      <td>-1.028717</td>\n",
              "    </tr>\n",
              "  </tbody>\n",
              "</table>\n",
              "</div>"
            ],
            "text/plain": [
              "             id                    epoch  sat_id  ...    Vx_sim    Vy_sim    Vz_sim\n",
              "109886   269642  2014-01-05 12:00:17.949     144  ...  1.361452  1.226927  0.929468\n",
              "216944   530556  2014-01-16 10:08:34.944     283  ...  4.090031  1.010446 -0.482746\n",
              "141401   345947  2014-01-05 04:31:04.580     186  ... -1.723152  2.626069  6.483064\n",
              "462837  1132688  2014-01-19 02:19:30.694     553  ... -5.466481 -3.548476 -0.801769\n",
              "314037   768706  2014-01-23 13:57:33.336     379  ... -1.158834  3.734703 -1.028717\n",
              "\n",
              "[5 rows x 15 columns]"
            ]
          },
          "metadata": {
            "tags": []
          },
          "execution_count": 12
        }
      ]
    },
    {
      "cell_type": "code",
      "metadata": {
        "colab": {
          "base_uri": "https://localhost:8080/"
        },
        "id": "YecLrVcQ_z-I",
        "outputId": "20542cb9-49f8-416b-dc92-a395b6b53b71"
      },
      "source": [
        "X_clean.columns"
      ],
      "execution_count": 13,
      "outputs": [
        {
          "output_type": "execute_result",
          "data": {
            "text/plain": [
              "Index(['id', 'epoch', 'sat_id', 'x', 'y', 'z', 'Vx', 'Vy', 'Vz', 'x_sim',\n",
              "       'y_sim', 'z_sim', 'Vx_sim', 'Vy_sim', 'Vz_sim'],\n",
              "      dtype='object')"
            ]
          },
          "metadata": {
            "tags": []
          },
          "execution_count": 13
        }
      ]
    },
    {
      "cell_type": "code",
      "metadata": {
        "id": "3QBQF3-c_z-I"
      },
      "source": [
        "X_clean = X_clean.drop(['id','epoch','x','y','z','Vx','Vy','Vz'], axis=1)  # REMOVE THE TARGET VARIABLE"
      ],
      "execution_count": 14,
      "outputs": []
    },
    {
      "cell_type": "markdown",
      "metadata": {
        "id": "SGgslmKj_z-I"
      },
      "source": [
        "We can see that the numerical values do not have the same scale. We will need to apply scaling to the test set that we computed for the training set.\n",
        "\n",
        "## Step 4. Handle Categorical Data, for simplicity let's just One Hat Encode all the categorical values"
      ]
    },
    {
      "cell_type": "code",
      "metadata": {
        "id": "3YItTNo8_z-I"
      },
      "source": [
        "XX=pd.get_dummies(X_clean)"
      ],
      "execution_count": 15,
      "outputs": []
    },
    {
      "cell_type": "code",
      "metadata": {
        "id": "VKUt6l7-_z-J",
        "colab": {
          "base_uri": "https://localhost:8080/",
          "height": 197
        },
        "outputId": "ed3ab6b6-7598-4fbd-8bc3-da5927b6a7c9"
      },
      "source": [
        "XX.head()"
      ],
      "execution_count": 16,
      "outputs": [
        {
          "output_type": "execute_result",
          "data": {
            "text/html": [
              "<div>\n",
              "<style scoped>\n",
              "    .dataframe tbody tr th:only-of-type {\n",
              "        vertical-align: middle;\n",
              "    }\n",
              "\n",
              "    .dataframe tbody tr th {\n",
              "        vertical-align: top;\n",
              "    }\n",
              "\n",
              "    .dataframe thead th {\n",
              "        text-align: right;\n",
              "    }\n",
              "</style>\n",
              "<table border=\"1\" class=\"dataframe\">\n",
              "  <thead>\n",
              "    <tr style=\"text-align: right;\">\n",
              "      <th></th>\n",
              "      <th>sat_id</th>\n",
              "      <th>x_sim</th>\n",
              "      <th>y_sim</th>\n",
              "      <th>z_sim</th>\n",
              "      <th>Vx_sim</th>\n",
              "      <th>Vy_sim</th>\n",
              "      <th>Vz_sim</th>\n",
              "    </tr>\n",
              "  </thead>\n",
              "  <tbody>\n",
              "    <tr>\n",
              "      <th>109886</th>\n",
              "      <td>144</td>\n",
              "      <td>30052.097747</td>\n",
              "      <td>-53754.197860</td>\n",
              "      <td>-17450.046740</td>\n",
              "      <td>1.361452</td>\n",
              "      <td>1.226927</td>\n",
              "      <td>0.929468</td>\n",
              "    </tr>\n",
              "    <tr>\n",
              "      <th>216944</th>\n",
              "      <td>283</td>\n",
              "      <td>2120.411033</td>\n",
              "      <td>8337.427534</td>\n",
              "      <td>17219.883526</td>\n",
              "      <td>4.090031</td>\n",
              "      <td>1.010446</td>\n",
              "      <td>-0.482746</td>\n",
              "    </tr>\n",
              "    <tr>\n",
              "      <th>141401</th>\n",
              "      <td>186</td>\n",
              "      <td>-6584.530435</td>\n",
              "      <td>-5809.654327</td>\n",
              "      <td>-440.545665</td>\n",
              "      <td>-1.723152</td>\n",
              "      <td>2.626069</td>\n",
              "      <td>6.483064</td>\n",
              "    </tr>\n",
              "    <tr>\n",
              "      <th>462837</th>\n",
              "      <td>553</td>\n",
              "      <td>-4483.920930</td>\n",
              "      <td>3887.471443</td>\n",
              "      <td>8893.060281</td>\n",
              "      <td>-5.466481</td>\n",
              "      <td>-3.548476</td>\n",
              "      <td>-0.801769</td>\n",
              "    </tr>\n",
              "    <tr>\n",
              "      <th>314037</th>\n",
              "      <td>379</td>\n",
              "      <td>9158.077370</td>\n",
              "      <td>14272.551015</td>\n",
              "      <td>13623.290094</td>\n",
              "      <td>-1.158834</td>\n",
              "      <td>3.734703</td>\n",
              "      <td>-1.028717</td>\n",
              "    </tr>\n",
              "  </tbody>\n",
              "</table>\n",
              "</div>"
            ],
            "text/plain": [
              "        sat_id         x_sim         y_sim  ...    Vx_sim    Vy_sim    Vz_sim\n",
              "109886     144  30052.097747 -53754.197860  ...  1.361452  1.226927  0.929468\n",
              "216944     283   2120.411033   8337.427534  ...  4.090031  1.010446 -0.482746\n",
              "141401     186  -6584.530435  -5809.654327  ... -1.723152  2.626069  6.483064\n",
              "462837     553  -4483.920930   3887.471443  ... -5.466481 -3.548476 -0.801769\n",
              "314037     379   9158.077370  14272.551015  ... -1.158834  3.734703 -1.028717\n",
              "\n",
              "[5 rows x 7 columns]"
            ]
          },
          "metadata": {
            "tags": []
          },
          "execution_count": 16
        }
      ]
    },
    {
      "cell_type": "code",
      "metadata": {
        "id": "8uQacCdl_z-J",
        "colab": {
          "base_uri": "https://localhost:8080/"
        },
        "outputId": "ebfe5f3e-90ba-46c1-9a7b-2d75fc3f128b"
      },
      "source": [
        "X_clean.shape"
      ],
      "execution_count": 17,
      "outputs": [
        {
          "output_type": "execute_result",
          "data": {
            "text/plain": [
              "(20000, 7)"
            ]
          },
          "metadata": {
            "tags": []
          },
          "execution_count": 17
        }
      ]
    },
    {
      "cell_type": "code",
      "metadata": {
        "id": "U99O3oyx_z-J",
        "colab": {
          "base_uri": "https://localhost:8080/"
        },
        "outputId": "bf2cfa47-56ba-422a-a1c5-dd8212e547ee"
      },
      "source": [
        "XX.shape"
      ],
      "execution_count": 18,
      "outputs": [
        {
          "output_type": "execute_result",
          "data": {
            "text/plain": [
              "(20000, 7)"
            ]
          },
          "metadata": {
            "tags": []
          },
          "execution_count": 18
        }
      ]
    },
    {
      "cell_type": "code",
      "metadata": {
        "id": "5s1dMrha_z-J"
      },
      "source": [
        "X_clean_column_names =X_clean.columns"
      ],
      "execution_count": 19,
      "outputs": []
    },
    {
      "cell_type": "markdown",
      "metadata": {
        "id": "W5niNoh9_z-K"
      },
      "source": [
        "# Step 5: Apply Scaler"
      ]
    },
    {
      "cell_type": "code",
      "metadata": {
        "id": "puDKeCdP_z-K"
      },
      "source": [
        "from sklearn.preprocessing import MinMaxScaler\n",
        "sscaler = MinMaxScaler()\n",
        "\n",
        "#X_clean = X_clean.drop(['id','epoch'], axis=1)\n",
        "\n",
        "XX = sscaler.fit_transform(X_clean.astype(np.float)) #You will lose the column names"
      ],
      "execution_count": 20,
      "outputs": []
    },
    {
      "cell_type": "code",
      "metadata": {
        "colab": {
          "base_uri": "https://localhost:8080/"
        },
        "id": "Mm_m7GL7_z-K",
        "outputId": "30db3d2c-13ff-433e-cbbc-d6c0a1ef225a"
      },
      "source": [
        "XX"
      ],
      "execution_count": 21,
      "outputs": [
        {
          "output_type": "execute_result",
          "data": {
            "text/plain": [
              "array([[0.24040067, 0.61486256, 0.47116485, ..., 0.61219894, 0.58598756,\n",
              "        0.52247118],\n",
              "       [0.47245409, 0.55039471, 0.60124799, ..., 0.78654098, 0.57266058,\n",
              "        0.43504188],\n",
              "       [0.31051753, 0.53030324, 0.57160958, ..., 0.41510879, 0.67212159,\n",
              "        0.86629093],\n",
              "       ...,\n",
              "       [0.77629382, 0.50867993, 0.54701106, ..., 0.33912338, 0.45602128,\n",
              "        0.32113763],\n",
              "       [0.0884808 , 0.51980252, 0.58640138, ..., 0.55345495, 0.13933361,\n",
              "        0.35140955],\n",
              "       [0.46076795, 0.53483234, 0.61231538, ..., 0.37433119, 0.33338766,\n",
              "        0.22621092]])"
            ]
          },
          "metadata": {
            "tags": []
          },
          "execution_count": 21
        }
      ]
    },
    {
      "cell_type": "code",
      "metadata": {
        "colab": {
          "base_uri": "https://localhost:8080/",
          "height": 197
        },
        "id": "-S6oByE7_z-K",
        "outputId": "42c09b7d-a88c-43c5-af5d-3aa2d86be895"
      },
      "source": [
        "XX_df = pd.DataFrame(data = XX,columns = X_clean.columns) # Return the column names\n",
        "XX_df.head()"
      ],
      "execution_count": 22,
      "outputs": [
        {
          "output_type": "execute_result",
          "data": {
            "text/html": [
              "<div>\n",
              "<style scoped>\n",
              "    .dataframe tbody tr th:only-of-type {\n",
              "        vertical-align: middle;\n",
              "    }\n",
              "\n",
              "    .dataframe tbody tr th {\n",
              "        vertical-align: top;\n",
              "    }\n",
              "\n",
              "    .dataframe thead th {\n",
              "        text-align: right;\n",
              "    }\n",
              "</style>\n",
              "<table border=\"1\" class=\"dataframe\">\n",
              "  <thead>\n",
              "    <tr style=\"text-align: right;\">\n",
              "      <th></th>\n",
              "      <th>sat_id</th>\n",
              "      <th>x_sim</th>\n",
              "      <th>y_sim</th>\n",
              "      <th>z_sim</th>\n",
              "      <th>Vx_sim</th>\n",
              "      <th>Vy_sim</th>\n",
              "      <th>Vz_sim</th>\n",
              "    </tr>\n",
              "  </thead>\n",
              "  <tbody>\n",
              "    <tr>\n",
              "      <th>0</th>\n",
              "      <td>0.240401</td>\n",
              "      <td>0.614863</td>\n",
              "      <td>0.471165</td>\n",
              "      <td>0.424441</td>\n",
              "      <td>0.612199</td>\n",
              "      <td>0.585988</td>\n",
              "      <td>0.522471</td>\n",
              "    </tr>\n",
              "    <tr>\n",
              "      <th>1</th>\n",
              "      <td>0.472454</td>\n",
              "      <td>0.550395</td>\n",
              "      <td>0.601248</td>\n",
              "      <td>0.516938</td>\n",
              "      <td>0.786541</td>\n",
              "      <td>0.572661</td>\n",
              "      <td>0.435042</td>\n",
              "    </tr>\n",
              "    <tr>\n",
              "      <th>2</th>\n",
              "      <td>0.310518</td>\n",
              "      <td>0.530303</td>\n",
              "      <td>0.571610</td>\n",
              "      <td>0.469821</td>\n",
              "      <td>0.415109</td>\n",
              "      <td>0.672122</td>\n",
              "      <td>0.866291</td>\n",
              "    </tr>\n",
              "    <tr>\n",
              "      <th>3</th>\n",
              "      <td>0.923205</td>\n",
              "      <td>0.535152</td>\n",
              "      <td>0.591925</td>\n",
              "      <td>0.494723</td>\n",
              "      <td>0.175930</td>\n",
              "      <td>0.292004</td>\n",
              "      <td>0.415291</td>\n",
              "    </tr>\n",
              "    <tr>\n",
              "      <th>4</th>\n",
              "      <td>0.632721</td>\n",
              "      <td>0.566638</td>\n",
              "      <td>0.613682</td>\n",
              "      <td>0.507342</td>\n",
              "      <td>0.451166</td>\n",
              "      <td>0.740371</td>\n",
              "      <td>0.401241</td>\n",
              "    </tr>\n",
              "  </tbody>\n",
              "</table>\n",
              "</div>"
            ],
            "text/plain": [
              "     sat_id     x_sim     y_sim     z_sim    Vx_sim    Vy_sim    Vz_sim\n",
              "0  0.240401  0.614863  0.471165  0.424441  0.612199  0.585988  0.522471\n",
              "1  0.472454  0.550395  0.601248  0.516938  0.786541  0.572661  0.435042\n",
              "2  0.310518  0.530303  0.571610  0.469821  0.415109  0.672122  0.866291\n",
              "3  0.923205  0.535152  0.591925  0.494723  0.175930  0.292004  0.415291\n",
              "4  0.632721  0.566638  0.613682  0.507342  0.451166  0.740371  0.401241"
            ]
          },
          "metadata": {
            "tags": []
          },
          "execution_count": 22
        }
      ]
    },
    {
      "cell_type": "markdown",
      "metadata": {
        "id": "DQLyv6ke_z-K"
      },
      "source": [
        "# Step 6:  Now let's run an automated Machine Learning to the above processed data\n",
        "\n",
        "Below we combine the notebook codes previously shared into a single running code to create an **Automated ML**"
      ]
    },
    {
      "cell_type": "code",
      "metadata": {
        "id": "lnvjFFkk_z-K"
      },
      "source": [
        "from sklearn.neighbors import KNeighborsRegressor\n",
        "from sklearn.linear_model import LinearRegression, Lasso, Ridge\n",
        "from sklearn.svm import LinearSVR\n",
        "from sklearn.svm import SVR\n",
        "from sklearn.ensemble import RandomForestRegressor\n",
        "from sklearn.ensemble import GradientBoostingRegressor\n",
        "from sklearn.model_selection import train_test_split\n",
        "import pylab as plot\n",
        "import numpy as np\n",
        "\n",
        "Number_trials=10\n",
        "\n",
        "def train_knn(X, y):\n",
        "    score_train = []\n",
        "    score_test = []\n",
        "\n",
        "    for seed in range(Number_trials):\n",
        "        X_train, X_test, y_train, y_test = train_test_split(X, y, test_size=0.25, random_state=seed)\n",
        "        neighbors_settings = range(1,20)\n",
        "        acc_train = []\n",
        "        acc_test = []\n",
        "\n",
        "        for n_neighbors in neighbors_settings:   \n",
        "            reg = KNeighborsRegressor(n_neighbors=n_neighbors) # build the model \n",
        "            reg.fit(X_train, y_train)    \n",
        "            acc_train.append(reg.score(X_train, y_train))\n",
        "            acc_test.append(reg.score(X_test, y_test))\n",
        "\n",
        "        score_train.append(acc_train)\n",
        "        score_test.append(acc_test)\n",
        "        \n",
        "    score = np.mean(score_test, axis=0)\n",
        "    run_time = (time.time() - start_time)\n",
        "    return ['kNN', np.amax(score), 'N_Neighbor = {0}'.format(np.argmax(score)+1), 'NA',run_time]\n",
        "\n",
        "def train_linear(X, y):\n",
        "    score_train = []\n",
        "    score_test = []\n",
        "    weighted_coefs = []\n",
        "\n",
        "    for seedN in range(1,Number_trials,1):\n",
        "            training_accuracy = []  \n",
        "            test_accuracy = []\n",
        "            X_train, X_test, y_train, y_test = train_test_split(X, y, test_size=0.25, random_state=seedN)\n",
        "            lr = LinearRegression().fit(X_train, y_train)\n",
        "\n",
        "            training_accuracy.append(lr.score(X_train, y_train))\n",
        "            test_accuracy.append(lr.score(X_test, y_test))\n",
        "\n",
        "            coefs = lr.coef_\n",
        "            weighted_coefs.append(coefs)\n",
        "    \n",
        "            score_train.append(training_accuracy)\n",
        "            score_test.append(test_accuracy)\n",
        "            \n",
        "\n",
        "    mean_coefs=np.mean(weighted_coefs, axis=0) #get the mean of the weighted coefficients over all the trials       \n",
        "    score = np.mean(score_test, axis=0)\n",
        "\n",
        "    top_predictor=X.columns[np.argmax(np.abs(mean_coefs[0,:]))]\n",
        "    abs_mean_coefs = np.abs(mean_coefs[0,:])\n",
        "    coefs_count = len(abs_mean_coefs)\n",
        "    fig, ax = plt.subplots(figsize=(7,3))\n",
        "    ax.barh(np.arange(coefs_count), sorted(abs_mean_coefs))\n",
        "        \n",
        "    ax.set_yticks(np.arange(coefs_count))\n",
        "    ax.set_yticklabels(X.columns[np.argsort(abs_mean_coefs)])\n",
        "    \n",
        "    run_time = (time.time() - start_time)\n",
        "    return ['Linear', np.amax(np.abs(score)), \\\n",
        "            'NA', top_predictor, run_time]\n",
        "\n",
        "def train_lasso(X, y, reg):\n",
        "    alpha_lasso = [1e-5, 1e-4, 1e-3, 7e-3, 1e-2, 5e-2, 0.1, 0.2,0.4, 0.75, 1, 1.5, 3, 10]\n",
        "    score_train = []\n",
        "    score_test = []\n",
        "    weighted_coefs=[]\n",
        "    \n",
        "    for seed in range(1,Number_trials,1):\n",
        "        training_accuracy = []  \n",
        "        test_accuracy = []\n",
        "        X_train, X_test, y_train, y_test = train_test_split(X, y, test_size=0.25, random_state=seed)\n",
        "        for alpha_run in alpha_lasso:\n",
        "            lasso = Lasso(alpha=alpha_run,max_iter=1000000).fit(X_train, y_train)\n",
        "            training_accuracy.append(lasso.score(X_train, y_train))\n",
        "            test_accuracy.append(lasso.score(X_test, y_test))\n",
        "      \n",
        "            coefs = lasso.coef_\n",
        "            weighted_coefs.append(coefs)\n",
        "\n",
        "        score_train.append(training_accuracy)\n",
        "        score_test.append(test_accuracy)\n",
        "\n",
        "    mean_coefs=np.mean(weighted_coefs, axis=0) #get the mean of the weighted coefficients over all the trials       \n",
        "    score = np.mean(score_test, axis=0)\n",
        "\n",
        "    top_predictor=X.columns[np.argmax(np.abs(mean_coefs[0,:]))]\n",
        "    abs_mean_coefs = np.abs(mean_coefs[0,:])\n",
        "    coefs_count = len(abs_mean_coefs)\n",
        "    fig, ax = plt.subplots(figsize=(7,3))\n",
        "    ax.barh(np.arange(coefs_count), sorted(abs_mean_coefs))\n",
        "        \n",
        "    ax.set_yticks(np.arange(coefs_count))\n",
        "    ax.set_yticklabels(X.columns[np.argsort(abs_mean_coefs)])\n",
        "\n",
        "    run_time = (time.time() - start_time)\n",
        "    return ['Lasso', np.amax(np.abs(score)), \\\n",
        "            'a = {0}'.format(alpha_lasso[np.argmax(np.abs(lasso.coef_.T))]), top_predictor, run_time]\n",
        "\n",
        "def train_ridge(X, y, reg):\n",
        "    alpha_ridge = [1e-5, 1e-4, 1e-3, 7e-3, 1e-2, 5e-2, 0.1, 0.2,0.4, 0.75, 1, 1.5, 3, 10, 20]\n",
        "    score_train = []\n",
        "    score_test = []\n",
        "    weighted_coefs=[]\n",
        "    \n",
        "    for seed in range(Number_trials):\n",
        "        training_accuracy = []  \n",
        "        test_accuracy = []\n",
        "        X_train, X_test, y_train, y_test = train_test_split(X, y, test_size=0.25, random_state=seed)\n",
        "        for alpha_run in alpha_ridge:\n",
        "            ridge = Ridge(alpha=alpha_run).fit(X_train, y_train)\n",
        "            training_accuracy.append(ridge.score(X_train, y_train))\n",
        "            test_accuracy.append(ridge.score(X_test, y_test))\n",
        "      \n",
        "            coefs = ridge.coef_\n",
        "            weighted_coefs.append(coefs)\n",
        "        \n",
        "        score_train.append(training_accuracy)\n",
        "        score_test.append(test_accuracy)\n",
        "\n",
        "    mean_coefs=np.mean(weighted_coefs, axis=0) #get the mean of the weighted coefficients over all the trials       \n",
        "    score = np.mean(score_test, axis=0)\n",
        "\n",
        "    top_predictor=X.columns[np.argmax(np.abs(mean_coefs[0,:]))]\n",
        "    abs_mean_coefs = np.abs(mean_coefs[0,:])\n",
        "    coefs_count = len(abs_mean_coefs)\n",
        "    fig, ax = plt.subplots(figsize=(7,3))\n",
        "    ax.barh(np.arange(coefs_count), sorted(abs_mean_coefs))\n",
        "        \n",
        "    ax.set_yticks(np.arange(coefs_count))\n",
        "    ax.set_yticklabels(X.columns[np.argsort(abs_mean_coefs)])\n",
        "\n",
        "    run_time = (time.time() - start_time)\n",
        "    return ['Ridge', np.amax(np.abs(score)), \\\n",
        "            'a = {0}'.format(alpha_ridge[np.argmax(np.abs(ridge.coef_.T))]), top_predictor, run_time]\n",
        "\n",
        "def train_svm(X, y, reg):\n",
        "    C = [1e-8, 1e-4, 1e-3, 1e-2, 0.1, 0.2,0.4, 0.75, 1, 1.5, 3, 5, 10, 15,  20, 100, 300, 1000, 5000]\n",
        "    #C = [.01, .1]\n",
        "    score_train = []\n",
        "    score_test = []\n",
        "    weighted_coefs=[]\n",
        "    \n",
        "    for seed in range(Number_trials):\n",
        "        training_accuracy = []  \n",
        "        test_accuracy = []\n",
        "        X_train, X_test, y_train, y_test = train_test_split(X, y, test_size=0.25, random_state=seed)\n",
        "        for alpha_run in C:\n",
        "            if reg == 'l1':\n",
        "                svr = LinearSVR(C=alpha_run, loss=reg, dual=False).fit(X_train, y_train)\n",
        "            if reg == 'l2':\n",
        "                svr = LinearSVR(C=alpha_run, loss=reg).fit(X_train, y_train)\n",
        "            training_accuracy.append(svr.score(X_train, y_train))\n",
        "            test_accuracy.append(svr.score(X_test, y_test))\n",
        "           # if alpha_run == 0.01:\n",
        "            coefs = svr.coef_\n",
        "            weighted_coefs.append(coefs)\n",
        "                \n",
        "        score_train.append(training_accuracy)\n",
        "        score_test.append(test_accuracy)\n",
        " \n",
        "\n",
        "    mean_coefs=np.mean(weighted_coefs, axis=0) #get the mean of the weighted coefficients over all the trials       \n",
        "    score = np.mean(score_test, axis=0)\n",
        "    \n",
        "\n",
        "    top_predictor=X.columns[np.argmax(np.abs(mean_coefs[0,:]))]\n",
        "    abs_mean_coefs = np.abs(mean_coefs[0,:])\n",
        "    coefs_count = len(abs_mean_coefs)\n",
        "    fig, ax = plt.subplots(figsize=(7,3))\n",
        "    ax.barh(np.arange(coefs_count), sorted(abs_mean_coefs))\n",
        "        \n",
        "    ax.set_yticks(np.arange(coefs_count))\n",
        "    ax.set_yticklabels(X.columns[np.argsort(abs_mean_coefs)])\n",
        "    \n",
        "    run_time = (time.time() - start_time)\n",
        "    return ['Linear SVR', np.amax(score), \\\n",
        "            'C = {0}'.format(C[np.argmax(score)]), top_predictor,run_time]\n",
        "\n",
        "def train_RF(X, y, reg):\n",
        "    max_features_tuning=[0.1, .2, .3, .4, .5, .7, .8]\n",
        "    #C = [.01, .1]\n",
        "    score_train = []\n",
        "    score_test = []\n",
        "    weighted_coefs=[]\n",
        "    \n",
        "    for seed in range(Number_trials):\n",
        "        training_accuracy = []  \n",
        "        test_accuracy = []\n",
        "        X_train, X_test, y_train, y_test = train_test_split(X, y, test_size=0.25, random_state=seed)\n",
        "        for max_features_run in max_features_tuning:\n",
        "            svr = RandomForestRegressor(n_estimators=100, max_features=max_features_run).fit(X_train, y_train)\n",
        "            training_accuracy.append(svr.score(X_train, y_train))\n",
        "            test_accuracy.append(svr.score(X_test, y_test))\n",
        "           # if alpha_run == 0.01:\n",
        "            coefs = svr.feature_importances_\n",
        "            weighted_coefs.append(coefs)\n",
        "                \n",
        "        score_train.append(training_accuracy)\n",
        "        score_test.append(test_accuracy)\n",
        " \n",
        "    mean_coefs=np.mean(weighted_coefs, axis=0) #get the mean of the weighted coefficients over all the trials       \n",
        "    score = np.mean(score_test, axis=0)   \n",
        "\n",
        "    top_predictor=X.columns[np.argmax(np.abs(mean_coefs))]\n",
        "    abs_mean_coefs = np.abs(mean_coefs[:])\n",
        "    coefs_count = len(abs_mean_coefs)\n",
        "    fig, ax = plt.subplots(figsize=(7,3))\n",
        "    ax.barh(np.arange(coefs_count), sorted(abs_mean_coefs))\n",
        "        \n",
        "    ax.set_yticks(np.arange(coefs_count))\n",
        "    ax.set_yticklabels(X.columns[np.argsort(abs_mean_coefs)])\n",
        "    \n",
        "    run_time = (time.time() - start_time)\n",
        "    return ['Random Forest', np.amax(score), \\\n",
        "            'Max_features = {0}'.format(max_features_tuning[np.argmax(score)]), top_predictor,run_time]\n",
        "\n",
        "def train_GBM(X, y, reg):\n",
        "    max_features_tuning=[0.1, .2, .3, .4, .5, .7, .8]\n",
        "    #C = [.01, .1]\n",
        "    score_train = []\n",
        "    score_test = []\n",
        "    weighted_coefs=[]\n",
        "    \n",
        "    for seed in range(Number_trials):\n",
        "        training_accuracy = []  \n",
        "        test_accuracy = []\n",
        "        X_train, X_test, y_train, y_test = train_test_split(X, y, test_size=0.25, random_state=seed)\n",
        "        for max_features_run in max_features_tuning:\n",
        "            svc = GradientBoostingRegressor(n_estimators=1000, max_features=max_features_run).fit(X_train, y_train)\n",
        "            training_accuracy.append(svc.score(X_train, y_train))\n",
        "            test_accuracy.append(svc.score(X_test, y_test))\n",
        "           # if alpha_run == 0.01:\n",
        "            coefs = svc.feature_importances_\n",
        "            weighted_coefs.append(coefs)\n",
        "                \n",
        "        score_train.append(training_accuracy)\n",
        "        score_test.append(test_accuracy)\n",
        " \n",
        "\n",
        "    mean_coefs=np.mean(weighted_coefs, axis=0) #get the mean of the weighted coefficients over all the trials       \n",
        "    score = np.mean(score_test, axis=0)\n",
        "    \n",
        "\n",
        "    top_predictor=X.columns[np.argmax(np.abs(mean_coefs))]\n",
        "    abs_mean_coefs = np.abs(mean_coefs[:])\n",
        "    coefs_count = len(abs_mean_coefs)\n",
        "    fig, ax = plt.subplots(figsize=(7,3))\n",
        "    ax.barh(np.arange(coefs_count), sorted(abs_mean_coefs))\n",
        "        \n",
        "    ax.set_yticks(np.arange(coefs_count))\n",
        "    ax.set_yticklabels(X.columns[np.argsort(abs_mean_coefs)])\n",
        "    \n",
        "    run_time = (time.time() - start_time)\n",
        "    return ['Gradient Boosting Method', np.amax(score), \\\n",
        "            'Max_features = {0}'.format(max_features_tuning[np.argmax(score)]), top_predictor,run_time]\n"
      ],
      "execution_count": 41,
      "outputs": []
    },
    {
      "cell_type": "code",
      "metadata": {
        "colab": {
          "base_uri": "https://localhost:8080/",
          "height": 971
        },
        "id": "Dac9rMbt_z-N",
        "outputId": "da11f08a-8532-4e56-bf11-b38c87bde91c"
      },
      "source": [
        "X = XX_df\n",
        "y = df_trunc[['x','y','z','Vx','Vy','Vz']]\n",
        "\n",
        "import time\n",
        "\n",
        "start_time = time.time()\n",
        "a = train_knn(X,y)\n",
        "print(a)\n",
        "print(\"%s seconds\" % a[4])\n",
        "\n",
        "start_time = time.time()\n",
        "b = train_linear(X,y)\n",
        "print(b)\n",
        "print(\"%s seconds\" % b[4])\n",
        "\n",
        "start_time = time.time()\n",
        "c = train_lasso(X,y,reg='none')\n",
        "print(c)\n",
        "print(\"%s seconds\" % c[4])\n",
        "\n",
        "start_time = time.time()\n",
        "d = train_ridge(X,y,reg='none')\n",
        "print(d)\n",
        "print(\"%s seconds\" % d[4])\n",
        "\n",
        "#start_time = time.time()\n",
        "#e = train_svm(X,y,reg='l2')\n",
        "#print(e)\n",
        "#print(\"%s seconds\" % e[4])\n",
        "\n",
        "#start_time = time.time()\n",
        "#f = train_svm(X,y,reg='l1')\n",
        "#print(f)\n",
        "#print(\"%s seconds\" % f[4])\n",
        "\n",
        "start_time = time.time()\n",
        "g = train_RF(X,y,reg='none')\n",
        "print(g)\n",
        "print(\"%s seconds\" % g[4])\n",
        "\n",
        "#start_time = time.time()\n",
        "#h = train_GBM(X,y,reg='none')\n",
        "#print(h)\n",
        "#print(\"%s seconds\" % h[4])"
      ],
      "execution_count": 43,
      "outputs": [
        {
          "output_type": "stream",
          "text": [
            "['kNN', 0.9205385042870777, 'N_Neighbor = 2', 'NA', 118.33820414543152]\n",
            "118.33820414543152 seconds\n",
            "['Linear', 0.9490395743888782, 'NA', 'x_sim', 0.3675699234008789]\n",
            "0.3675699234008789 seconds\n",
            "['Lasso', 0.949039574365318, 'a = 10', 'x_sim', 3.5581419467926025]\n",
            "3.5581419467926025 seconds\n",
            "['Ridge', 0.9486257815564578, 'a = 10', 'x_sim', 2.1010684967041016]\n",
            "2.1010684967041016 seconds\n",
            "['Random Forest', 0.9487639322031868, 'Max_features = 0.8', 'x_sim', 399.4899055957794]\n",
            "399.4899055957794 seconds\n"
          ],
          "name": "stdout"
        },
        {
          "output_type": "display_data",
          "data": {
            "image/png": "[encoded data removed]",
            "text/plain": [
              "<Figure size 504x216 with 1 Axes>"
            ]
          },
          "metadata": {
            "tags": [],
            "needs_background": "light"
          }
        },
        {
          "output_type": "display_data",
          "data": {
            "image/png": "[encoded data removed]",
            "text/plain": [
              "<Figure size 504x216 with 1 Axes>"
            ]
          },
          "metadata": {
            "tags": [],
            "needs_background": "light"
          }
        },
        {
          "output_type": "display_data",
          "data": {
            "image/png": "[encoded data removed]",
            "text/plain": [
              "<Figure size 504x216 with 1 Axes>"
            ]
          },
          "metadata": {
            "tags": [],
            "needs_background": "light"
          }
        },
        {
          "output_type": "display_data",
          "data": {
            "image/png": "[encoded data removed]",
            "text/plain": [
              "<Figure size 504x216 with 1 Axes>"
            ]
          },
          "metadata": {
            "tags": [],
            "needs_background": "light"
          }
        }
      ]
    },
    {
      "cell_type": "code",
      "metadata": {
        "colab": {
          "base_uri": "https://localhost:8080/",
          "height": 197
        },
        "id": "fZtHFt88_z-O",
        "outputId": "5ce3b6d1-5318-4146-a6c1-05706482a15d"
      },
      "source": [
        "cols = ['Machine Learning Method', 'Test Accuracy', 'Best Parameter', 'Top Predictor Variable', 'Run Time']\n",
        "df2 = pd.DataFrame(columns=cols)\n",
        "\n",
        "df2.loc[0] = a\n",
        "df2.loc[1] = b\n",
        "df2.loc[2] = c\n",
        "df2.loc[3] = d\n",
        "#df2.loc[4] = e\n",
        "#df2.loc[5] = f\n",
        "df2.loc[6] = g\n",
        "#df2.loc[7] = h\n",
        "\n",
        "df2"
      ],
      "execution_count": 39,
      "outputs": [
        {
          "output_type": "execute_result",
          "data": {
            "text/html": [
              "<div>\n",
              "<style scoped>\n",
              "    .dataframe tbody tr th:only-of-type {\n",
              "        vertical-align: middle;\n",
              "    }\n",
              "\n",
              "    .dataframe tbody tr th {\n",
              "        vertical-align: top;\n",
              "    }\n",
              "\n",
              "    .dataframe thead th {\n",
              "        text-align: right;\n",
              "    }\n",
              "</style>\n",
              "<table border=\"1\" class=\"dataframe\">\n",
              "  <thead>\n",
              "    <tr style=\"text-align: right;\">\n",
              "      <th></th>\n",
              "      <th>Machine Learning Method</th>\n",
              "      <th>Test Accuracy</th>\n",
              "      <th>Best Parameter</th>\n",
              "      <th>Top Predictor Variable</th>\n",
              "      <th>Run Time</th>\n",
              "    </tr>\n",
              "  </thead>\n",
              "  <tbody>\n",
              "    <tr>\n",
              "      <th>0</th>\n",
              "      <td>kNN</td>\n",
              "      <td>0.920539</td>\n",
              "      <td>N_Neighbor = 2</td>\n",
              "      <td>NA</td>\n",
              "      <td>117.512821</td>\n",
              "    </tr>\n",
              "    <tr>\n",
              "      <th>1</th>\n",
              "      <td>Linear</td>\n",
              "      <td>0.949040</td>\n",
              "      <td>NA</td>\n",
              "      <td>x_sim</td>\n",
              "      <td>0.242777</td>\n",
              "    </tr>\n",
              "    <tr>\n",
              "      <th>2</th>\n",
              "      <td>Lasso</td>\n",
              "      <td>0.949040</td>\n",
              "      <td>a = 10</td>\n",
              "      <td>x_sim</td>\n",
              "      <td>3.548396</td>\n",
              "    </tr>\n",
              "    <tr>\n",
              "      <th>3</th>\n",
              "      <td>Ridge</td>\n",
              "      <td>0.948626</td>\n",
              "      <td>a = 10</td>\n",
              "      <td>x_sim</td>\n",
              "      <td>2.092442</td>\n",
              "    </tr>\n",
              "    <tr>\n",
              "      <th>6</th>\n",
              "      <td>Random Forest</td>\n",
              "      <td>0.948498</td>\n",
              "      <td>Max_features = 0.8</td>\n",
              "      <td>x_sim</td>\n",
              "      <td>398.639766</td>\n",
              "    </tr>\n",
              "  </tbody>\n",
              "</table>\n",
              "</div>"
            ],
            "text/plain": [
              "  Machine Learning Method  Test Accuracy  ... Top Predictor Variable    Run Time\n",
              "0                     kNN       0.920539  ...                     NA  117.512821\n",
              "1                  Linear       0.949040  ...                  x_sim    0.242777\n",
              "2                   Lasso       0.949040  ...                  x_sim    3.548396\n",
              "3                   Ridge       0.948626  ...                  x_sim    2.092442\n",
              "6           Random Forest       0.948498  ...                  x_sim  398.639766\n",
              "\n",
              "[5 rows x 5 columns]"
            ]
          },
          "metadata": {
            "tags": []
          },
          "execution_count": 39
        }
      ]
    }
  ]
}